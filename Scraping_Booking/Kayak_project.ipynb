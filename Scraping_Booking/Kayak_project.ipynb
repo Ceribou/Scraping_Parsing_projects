{
 "cells": [
  {
   "cell_type": "markdown",
   "metadata": {},
   "source": [
    "# Kayak Project"
   ]
  },
  {
   "cell_type": "code",
   "execution_count": 1,
   "metadata": {},
   "outputs": [],
   "source": [
    "#Import libraries\n",
    "import requests\n",
    "import json\n",
    "\n",
    "import pandas as pd\n",
    "import numpy as np\n",
    "from datetime import datetime\n",
    "\n",
    "import plotly.express as px\n",
    "import plotly.graph_objects as go\n",
    "import plotly.io as pio\n",
    "\n",
    "import os"
   ]
  },
  {
   "cell_type": "code",
   "execution_count": 8,
   "metadata": {},
   "outputs": [
    {
     "name": "stdout",
     "output_type": "stream",
     "text": [
      "Requirement already satisfied: Scrapy in s:\\logiciels\\anaconda3\\lib\\site-packages (2.8.0)\n",
      "Requirement already satisfied: Twisted>=18.9.0 in s:\\logiciels\\anaconda3\\lib\\site-packages (from Scrapy) (22.10.0)\n",
      "Requirement already satisfied: cryptography>=3.4.6 in s:\\logiciels\\anaconda3\\lib\\site-packages (from Scrapy) (41.0.3)\n",
      "Requirement already satisfied: cssselect>=0.9.1 in s:\\logiciels\\anaconda3\\lib\\site-packages (from Scrapy) (1.1.0)\n",
      "Requirement already satisfied: itemloaders>=1.0.1 in s:\\logiciels\\anaconda3\\lib\\site-packages (from Scrapy) (1.0.4)\n",
      "Requirement already satisfied: parsel>=1.5.0 in s:\\logiciels\\anaconda3\\lib\\site-packages (from Scrapy) (1.6.0)\n",
      "Requirement already satisfied: pyOpenSSL>=21.0.0 in s:\\logiciels\\anaconda3\\lib\\site-packages (from Scrapy) (23.2.0)\n",
      "Requirement already satisfied: queuelib>=1.4.2 in s:\\logiciels\\anaconda3\\lib\\site-packages (from Scrapy) (1.5.0)\n",
      "Requirement already satisfied: service-identity>=18.1.0 in s:\\logiciels\\anaconda3\\lib\\site-packages (from Scrapy) (18.1.0)\n",
      "Requirement already satisfied: w3lib>=1.17.0 in s:\\logiciels\\anaconda3\\lib\\site-packages (from Scrapy) (1.21.0)\n",
      "Requirement already satisfied: zope.interface>=5.1.0 in s:\\logiciels\\anaconda3\\lib\\site-packages (from Scrapy) (5.4.0)\n",
      "Requirement already satisfied: protego>=0.1.15 in s:\\logiciels\\anaconda3\\lib\\site-packages (from Scrapy) (0.1.16)\n",
      "Requirement already satisfied: itemadapter>=0.1.0 in s:\\logiciels\\anaconda3\\lib\\site-packages (from Scrapy) (0.3.0)\n",
      "Requirement already satisfied: setuptools in s:\\logiciels\\anaconda3\\lib\\site-packages (from Scrapy) (68.0.0)\n",
      "Requirement already satisfied: packaging in s:\\logiciels\\anaconda3\\lib\\site-packages (from Scrapy) (23.1)\n",
      "Requirement already satisfied: tldextract in s:\\logiciels\\anaconda3\\lib\\site-packages (from Scrapy) (3.2.0)\n",
      "Requirement already satisfied: lxml>=4.3.0 in s:\\logiciels\\anaconda3\\lib\\site-packages (from Scrapy) (4.9.3)\n",
      "Requirement already satisfied: PyDispatcher>=2.0.5 in s:\\logiciels\\anaconda3\\lib\\site-packages (from Scrapy) (2.0.5)\n",
      "Requirement already satisfied: cffi>=1.12 in s:\\logiciels\\anaconda3\\lib\\site-packages (from cryptography>=3.4.6->Scrapy) (1.15.1)\n",
      "Requirement already satisfied: jmespath>=0.9.5 in s:\\logiciels\\anaconda3\\lib\\site-packages (from itemloaders>=1.0.1->Scrapy) (0.10.0)\n",
      "Requirement already satisfied: six>=1.6.0 in s:\\logiciels\\anaconda3\\lib\\site-packages (from parsel>=1.5.0->Scrapy) (1.16.0)\n",
      "Requirement already satisfied: attrs>=16.0.0 in s:\\logiciels\\anaconda3\\lib\\site-packages (from service-identity>=18.1.0->Scrapy) (22.1.0)\n",
      "Requirement already satisfied: pyasn1-modules in s:\\logiciels\\anaconda3\\lib\\site-packages (from service-identity>=18.1.0->Scrapy) (0.2.8)\n",
      "Requirement already satisfied: pyasn1 in s:\\logiciels\\anaconda3\\lib\\site-packages (from service-identity>=18.1.0->Scrapy) (0.4.8)\n",
      "Requirement already satisfied: constantly>=15.1 in s:\\logiciels\\anaconda3\\lib\\site-packages (from Twisted>=18.9.0->Scrapy) (15.1.0)\n",
      "Requirement already satisfied: incremental>=21.3.0 in s:\\logiciels\\anaconda3\\lib\\site-packages (from Twisted>=18.9.0->Scrapy) (21.3.0)\n",
      "Requirement already satisfied: Automat>=0.8.0 in s:\\logiciels\\anaconda3\\lib\\site-packages (from Twisted>=18.9.0->Scrapy) (20.2.0)\n",
      "Requirement already satisfied: hyperlink>=17.1.1 in s:\\logiciels\\anaconda3\\lib\\site-packages (from Twisted>=18.9.0->Scrapy) (21.0.0)\n",
      "Requirement already satisfied: typing-extensions>=3.6.5 in s:\\logiciels\\anaconda3\\lib\\site-packages (from Twisted>=18.9.0->Scrapy) (4.11.0)\n",
      "Requirement already satisfied: twisted-iocpsupport<2,>=1.0.2 in s:\\logiciels\\anaconda3\\lib\\site-packages (from Twisted>=18.9.0->Scrapy) (1.0.2)\n",
      "Requirement already satisfied: idna in s:\\logiciels\\anaconda3\\lib\\site-packages (from tldextract->Scrapy) (3.4)\n",
      "Requirement already satisfied: requests>=2.1.0 in s:\\logiciels\\anaconda3\\lib\\site-packages (from tldextract->Scrapy) (2.31.0)\n",
      "Requirement already satisfied: requests-file>=1.4 in s:\\logiciels\\anaconda3\\lib\\site-packages (from tldextract->Scrapy) (1.5.1)\n",
      "Requirement already satisfied: filelock>=3.0.8 in s:\\logiciels\\anaconda3\\lib\\site-packages (from tldextract->Scrapy) (3.9.0)\n",
      "Requirement already satisfied: pycparser in s:\\logiciels\\anaconda3\\lib\\site-packages (from cffi>=1.12->cryptography>=3.4.6->Scrapy) (2.21)\n",
      "Requirement already satisfied: charset-normalizer<4,>=2 in s:\\logiciels\\anaconda3\\lib\\site-packages (from requests>=2.1.0->tldextract->Scrapy) (2.0.4)\n",
      "Requirement already satisfied: urllib3<3,>=1.21.1 in s:\\logiciels\\anaconda3\\lib\\site-packages (from requests>=2.1.0->tldextract->Scrapy) (1.26.16)\n",
      "Requirement already satisfied: certifi>=2017.4.17 in s:\\logiciels\\anaconda3\\lib\\site-packages (from requests>=2.1.0->tldextract->Scrapy) (2024.2.2)\n",
      "Requirement already satisfied: scrapy-user-agents in s:\\logiciels\\anaconda3\\lib\\site-packages (0.1.1)\n",
      "Requirement already satisfied: user-agents in s:\\logiciels\\anaconda3\\lib\\site-packages (from scrapy-user-agents) (2.2.0)\n",
      "Requirement already satisfied: ua-parser>=0.10.0 in s:\\logiciels\\anaconda3\\lib\\site-packages (from user-agents->scrapy-user-agents) (0.18.0)\n"
     ]
    }
   ],
   "source": [
    "!pip install Scrapy\n",
    "!pip install scrapy-user-agents"
   ]
  },
  {
   "cell_type": "markdown",
   "metadata": {},
   "source": [
    "## Get cities coordinates and weather information"
   ]
  },
  {
   "cell_type": "code",
   "execution_count": 9,
   "metadata": {},
   "outputs": [],
   "source": [
    "# Here is the list of the 35 cities\n",
    "list = [\"Mont Saint Michel\",\n",
    "        \"St Malo\",\n",
    "        \"Bayeux\",\n",
    "        \"Le Havre\",\n",
    "        \"Rouen\",\n",
    "        \"Paris\",\n",
    "        \"Amiens\",\n",
    "        \"Lille\",\n",
    "        \"Strasbourg\",\n",
    "        \"Chateau du Haut Koenigsbourg\",\n",
    "        \"Colmar\",\n",
    "        \"Eguisheim\",\n",
    "        \"Besancon\",\n",
    "        \"Dijon\",\n",
    "        \"Annecy\",\n",
    "        \"Grenoble\",\n",
    "        \"Lyon\",\n",
    "        \"Gorges du Verdon\",\n",
    "        \"Bormes les Mimosas\",\n",
    "        \"Cassis\",\n",
    "        \"Marseille\",\n",
    "        \"Aix en Provence\",\n",
    "        \"Avignon\",\n",
    "        \"Uzes\",\n",
    "        \"Nimes\",\n",
    "        \"Aigues Mortes\",\n",
    "        \"Saintes Maries de la mer\",\n",
    "        \"Collioure\",\n",
    "        \"Carcassonne\",\n",
    "        \"Ariege\",\n",
    "        \"Toulouse\",\n",
    "        \"Montauban\",\n",
    "        \"Biarritz\",\n",
    "        \"Bayonne\",\n",
    "        \"La Rochelle\"]"
   ]
  },
  {
   "cell_type": "code",
   "execution_count": 10,
   "metadata": {},
   "outputs": [
    {
     "name": "stdout",
     "output_type": "stream",
     "text": [
      "Mont Saint Michel : location found\n",
      "St Malo : location found\n",
      "Bayeux : location found\n",
      "Le Havre : location found\n",
      "Rouen : location found\n",
      "Paris : location found\n",
      "Amiens : location found\n",
      "Lille : location found\n",
      "Strasbourg : location found\n",
      "Chateau du Haut Koenigsbourg : location found\n",
      "Colmar : location found\n",
      "Eguisheim : location found\n",
      "Besancon : location found\n",
      "Dijon : location found\n",
      "Annecy : location found\n",
      "Grenoble : location found\n",
      "Lyon : location found\n",
      "Gorges du Verdon : location found\n",
      "Bormes les Mimosas : location found\n",
      "Cassis : location found\n",
      "Marseille : location found\n",
      "Aix en Provence : location found\n",
      "Avignon : location found\n",
      "Uzes : location found\n",
      "Nimes : location found\n",
      "Aigues Mortes : location found\n",
      "Saintes Maries de la mer : location found\n",
      "Collioure : location found\n",
      "Carcassonne : location found\n",
      "Ariege : location found\n",
      "Toulouse : location found\n",
      "Montauban : location found\n",
      "Biarritz : location found\n",
      "Bayonne : location found\n",
      "La Rochelle : location found\n"
     ]
    }
   ],
   "source": [
    "# Get the location of each city\n",
    "parameters = {\"format\" : \"json\",\n",
    "              \"country\" : \"France\",\n",
    "              \"limit\" : 1\n",
    "              }\n",
    "\n",
    "cities_code = []\n",
    "\n",
    "for city in list:\n",
    "    parameters[\"city\"] = city\n",
    "    r = requests.get(\"https://nominatim.openstreetmap.org/search?<params>\", params=parameters)\n",
    "    if r.status_code == 200:\n",
    "        cities_code.extend(r.json())\n",
    "        print(city, \": location found\")\n",
    "    else :\n",
    "        print(city, \"//!\\\\ no data\")"
   ]
  },
  {
   "cell_type": "code",
   "execution_count": 11,
   "metadata": {},
   "outputs": [
    {
     "data": {
      "text/plain": [
       "[{'place_id': 247828266,\n",
       "  'licence': 'Data © OpenStreetMap contributors, ODbL 1.0. http://osm.org/copyright',\n",
       "  'osm_type': 'way',\n",
       "  'osm_id': 211285890,\n",
       "  'lat': '48.6359541',\n",
       "  'lon': '-1.511459954959514',\n",
       "  'class': 'place',\n",
       "  'type': 'islet',\n",
       "  'place_rank': 20,\n",
       "  'importance': 0.45543655678157396,\n",
       "  'addresstype': 'islet',\n",
       "  'name': 'Mont Saint-Michel',\n",
       "  'display_name': 'Mont Saint-Michel, Le Mont-Saint-Michel, Avranches, Manche, Normandie, France métropolitaine, 50170, France',\n",
       "  'boundingbox': ['48.6349172', '48.6370310', '-1.5133292', '-1.5094796']},\n",
       " {'place_id': 247779061,\n",
       "  'licence': 'Data © OpenStreetMap contributors, ODbL 1.0. http://osm.org/copyright',\n",
       "  'osm_type': 'relation',\n",
       "  'osm_id': 905534,\n",
       "  'lat': '48.649518',\n",
       "  'lon': '-2.0260409',\n",
       "  'class': 'boundary',\n",
       "  'type': 'administrative',\n",
       "  'place_rank': 16,\n",
       "  'importance': 0.5764672172428952,\n",
       "  'addresstype': 'town',\n",
       "  'name': 'Saint-Malo',\n",
       "  'display_name': 'Saint-Malo, Ille-et-Vilaine, Bretagne, France métropolitaine, 35400, France',\n",
       "  'boundingbox': ['48.5979853', '48.6949736', '-2.0765246', '-1.9367259']},\n",
       " {'place_id': 246347430,\n",
       "  'licence': 'Data © OpenStreetMap contributors, ODbL 1.0. http://osm.org/copyright',\n",
       "  'osm_type': 'relation',\n",
       "  'osm_id': 145776,\n",
       "  'lat': '49.2764624',\n",
       "  'lon': '-0.7024738',\n",
       "  'class': 'boundary',\n",
       "  'type': 'administrative',\n",
       "  'place_rank': 16,\n",
       "  'importance': 0.5727003853621927,\n",
       "  'addresstype': 'town',\n",
       "  'name': 'Bayeux',\n",
       "  'display_name': 'Bayeux, Calvados, Normandie, France métropolitaine, 14400, France',\n",
       "  'boundingbox': ['49.2608124', '49.2934736', '-0.7275671', '-0.6757378']},\n",
       " {'place_id': 83892890,\n",
       "  'licence': 'Data © OpenStreetMap contributors, ODbL 1.0. http://osm.org/copyright',\n",
       "  'osm_type': 'relation',\n",
       "  'osm_id': 104492,\n",
       "  'lat': '49.4938975',\n",
       "  'lon': '0.1079732',\n",
       "  'class': 'boundary',\n",
       "  'type': 'administrative',\n",
       "  'place_rank': 16,\n",
       "  'importance': 0.6223325741883644,\n",
       "  'addresstype': 'city',\n",
       "  'name': 'Le Havre',\n",
       "  'display_name': 'Le Havre, Seine-Maritime, Normandie, France métropolitaine, France',\n",
       "  'boundingbox': ['49.4516697', '49.5401463', '0.0667992', '0.1955556']},\n",
       " {'place_id': 84448726,\n",
       "  'licence': 'Data © OpenStreetMap contributors, ODbL 1.0. http://osm.org/copyright',\n",
       "  'osm_type': 'relation',\n",
       "  'osm_id': 75628,\n",
       "  'lat': '49.4404591',\n",
       "  'lon': '1.0939658',\n",
       "  'class': 'boundary',\n",
       "  'type': 'administrative',\n",
       "  'place_rank': 16,\n",
       "  'importance': 0.6400726280583954,\n",
       "  'addresstype': 'city',\n",
       "  'name': 'Rouen',\n",
       "  'display_name': 'Rouen, Seine-Maritime, Normandie, France métropolitaine, France',\n",
       "  'boundingbox': ['49.4172001', '49.4652601', '1.0300648', '1.1521157']},\n",
       " {'place_id': 82297359,\n",
       "  'licence': 'Data © OpenStreetMap contributors, ODbL 1.0. http://osm.org/copyright',\n",
       "  'osm_type': 'relation',\n",
       "  'osm_id': 71525,\n",
       "  'lat': '48.8534951',\n",
       "  'lon': '2.3483915',\n",
       "  'class': 'boundary',\n",
       "  'type': 'administrative',\n",
       "  'place_rank': 12,\n",
       "  'importance': 0.8317101715588673,\n",
       "  'addresstype': 'city',\n",
       "  'name': 'Paris',\n",
       "  'display_name': 'Paris, Île-de-France, France métropolitaine, France',\n",
       "  'boundingbox': ['48.8155755', '48.9021560', '2.2241220', '2.4697602']},\n",
       " {'place_id': 83838913,\n",
       "  'licence': 'Data © OpenStreetMap contributors, ODbL 1.0. http://osm.org/copyright',\n",
       "  'osm_type': 'relation',\n",
       "  'osm_id': 114347,\n",
       "  'lat': '49.8941708',\n",
       "  'lon': '2.2956951',\n",
       "  'class': 'boundary',\n",
       "  'type': 'administrative',\n",
       "  'place_rank': 16,\n",
       "  'importance': 0.6249489622249039,\n",
       "  'addresstype': 'city',\n",
       "  'name': 'Amiens',\n",
       "  'display_name': 'Amiens, Somme, Hauts-de-France, France métropolitaine, France',\n",
       "  'boundingbox': ['49.8468370', '49.9505487', '2.2235574', '2.3457767']},\n",
       " {'place_id': 87223586,\n",
       "  'licence': 'Data © OpenStreetMap contributors, ODbL 1.0. http://osm.org/copyright',\n",
       "  'osm_type': 'relation',\n",
       "  'osm_id': 58404,\n",
       "  'lat': '50.6365654',\n",
       "  'lon': '3.0635282',\n",
       "  'class': 'boundary',\n",
       "  'type': 'administrative',\n",
       "  'place_rank': 16,\n",
       "  'importance': 0.6532037863087654,\n",
       "  'addresstype': 'city',\n",
       "  'name': 'Lille',\n",
       "  'display_name': 'Lille, Nord, Hauts-de-France, France métropolitaine, France',\n",
       "  'boundingbox': ['50.6008264', '50.6612596', '2.9679677', '3.1257250']},\n",
       " {'place_id': 381263750,\n",
       "  'licence': 'Data © OpenStreetMap contributors, ODbL 1.0. http://osm.org/copyright',\n",
       "  'osm_type': 'relation',\n",
       "  'osm_id': 71033,\n",
       "  'lat': '48.584614',\n",
       "  'lon': '7.7507127',\n",
       "  'class': 'boundary',\n",
       "  'type': 'administrative',\n",
       "  'place_rank': 16,\n",
       "  'importance': 0.674805427911873,\n",
       "  'addresstype': 'city',\n",
       "  'name': 'Strasbourg',\n",
       "  'display_name': 'Strasbourg, Bas-Rhin, Grand Est, France métropolitaine, France',\n",
       "  'boundingbox': ['48.4918610', '48.6461896', '7.6881371', '7.8360646']},\n",
       " {'place_id': 103949297,\n",
       "  'licence': 'Data © OpenStreetMap contributors, ODbL 1.0. http://osm.org/copyright',\n",
       "  'osm_type': 'node',\n",
       "  'osm_id': 4245068168,\n",
       "  'lat': '48.2495226',\n",
       "  'lon': '7.3454923',\n",
       "  'class': 'place',\n",
       "  'type': 'isolated_dwelling',\n",
       "  'place_rank': 22,\n",
       "  'importance': 0.10672799038681618,\n",
       "  'addresstype': 'isolated_dwelling',\n",
       "  'name': 'Château du Haut-Kœnigsbourg',\n",
       "  'display_name': 'Château du Haut-Kœnigsbourg, Orschwiller, Sélestat-Erstein, Bas-Rhin, Grand Est, France métropolitaine, 67600, France',\n",
       "  'boundingbox': ['48.2494726', '48.2495726', '7.3454423', '7.3455423']},\n",
       " {'place_id': 104313212,\n",
       "  'licence': 'Data © OpenStreetMap contributors, ODbL 1.0. http://osm.org/copyright',\n",
       "  'osm_type': 'relation',\n",
       "  'osm_id': 61423,\n",
       "  'lat': '48.0777517',\n",
       "  'lon': '7.3579641',\n",
       "  'class': 'boundary',\n",
       "  'type': 'administrative',\n",
       "  'place_rank': 16,\n",
       "  'importance': 0.5852964807109542,\n",
       "  'addresstype': 'town',\n",
       "  'name': 'Colmar',\n",
       "  'display_name': 'Colmar, Colmar-Ribeauvillé, Haut-Rhin, Grand Est, France métropolitaine, 68000, France',\n",
       "  'boundingbox': ['48.0407053', '48.1820620', '7.3154803', '7.4691670']},\n",
       " {'place_id': 105237256,\n",
       "  'licence': 'Data © OpenStreetMap contributors, ODbL 1.0. http://osm.org/copyright',\n",
       "  'osm_type': 'relation',\n",
       "  'osm_id': 79442,\n",
       "  'lat': '48.0447968',\n",
       "  'lon': '7.3079618',\n",
       "  'class': 'boundary',\n",
       "  'type': 'administrative',\n",
       "  'place_rank': 16,\n",
       "  'importance': 0.5249720206561967,\n",
       "  'addresstype': 'village',\n",
       "  'name': 'Eguisheim',\n",
       "  'display_name': 'Eguisheim, Colmar-Ribeauvillé, Haut-Rhin, Grand Est, France métropolitaine, 68420, France',\n",
       "  'boundingbox': ['48.0240327', '48.0515072', '7.2412792', '7.3518540']},\n",
       " {'place_id': 78119549,\n",
       "  'licence': 'Data © OpenStreetMap contributors, ODbL 1.0. http://osm.org/copyright',\n",
       "  'osm_type': 'relation',\n",
       "  'osm_id': 103599,\n",
       "  'lat': '47.2380222',\n",
       "  'lon': '6.0243622',\n",
       "  'class': 'boundary',\n",
       "  'type': 'administrative',\n",
       "  'place_rank': 16,\n",
       "  'importance': 0.6183511874833898,\n",
       "  'addresstype': 'city',\n",
       "  'name': 'Besançon',\n",
       "  'display_name': 'Besançon, Doubs, Bourgogne-Franche-Comté, France métropolitaine, 25000, France',\n",
       "  'boundingbox': ['47.2006872', '47.3200746', '5.9409668', '6.0835059']},\n",
       " {'place_id': 80148706,\n",
       "  'licence': 'Data © OpenStreetMap contributors, ODbL 1.0. http://osm.org/copyright',\n",
       "  'osm_type': 'relation',\n",
       "  'osm_id': 74090,\n",
       "  'lat': '47.3215806',\n",
       "  'lon': '5.0414701',\n",
       "  'class': 'boundary',\n",
       "  'type': 'administrative',\n",
       "  'place_rank': 16,\n",
       "  'importance': 0.6336193867801005,\n",
       "  'addresstype': 'city',\n",
       "  'name': 'Dijon',\n",
       "  'display_name': \"Dijon, Côte-d'Or, Bourgogne-Franche-Comté, France métropolitaine, 21000, France\",\n",
       "  'boundingbox': ['47.2862467', '47.3774741', '4.9624434', '5.1020598']},\n",
       " {'place_id': 75219496,\n",
       "  'licence': 'Data © OpenStreetMap contributors, ODbL 1.0. http://osm.org/copyright',\n",
       "  'osm_type': 'relation',\n",
       "  'osm_id': 6791758,\n",
       "  'lat': '45.8992348',\n",
       "  'lon': '6.1288847',\n",
       "  'class': 'boundary',\n",
       "  'type': 'administrative',\n",
       "  'place_rank': 16,\n",
       "  'importance': 0.5790769115704565,\n",
       "  'addresstype': 'city',\n",
       "  'name': 'Annecy',\n",
       "  'display_name': 'Annecy, Haute-Savoie, Auvergne-Rhône-Alpes, France métropolitaine, France',\n",
       "  'boundingbox': ['45.8280024', '45.9766928', '6.0484121', '6.2043932']},\n",
       " {'place_id': 75851648,\n",
       "  'licence': 'Data © OpenStreetMap contributors, ODbL 1.0. http://osm.org/copyright',\n",
       "  'osm_type': 'relation',\n",
       "  'osm_id': 80348,\n",
       "  'lat': '45.1875602',\n",
       "  'lon': '5.7357819',\n",
       "  'class': 'boundary',\n",
       "  'type': 'administrative',\n",
       "  'place_rank': 16,\n",
       "  'importance': 0.641808549572345,\n",
       "  'addresstype': 'city',\n",
       "  'name': 'Grenoble',\n",
       "  'display_name': 'Grenoble, Isère, Auvergne-Rhône-Alpes, France métropolitaine, France',\n",
       "  'boundingbox': ['45.1541442', '45.2140762', '5.6776059', '5.7531315']},\n",
       " {'place_id': 75707165,\n",
       "  'licence': 'Data © OpenStreetMap contributors, ODbL 1.0. http://osm.org/copyright',\n",
       "  'osm_type': 'relation',\n",
       "  'osm_id': 120965,\n",
       "  'lat': '45.7578137',\n",
       "  'lon': '4.8320114',\n",
       "  'class': 'boundary',\n",
       "  'type': 'administrative',\n",
       "  'place_rank': 16,\n",
       "  'importance': 0.6913775965432666,\n",
       "  'addresstype': 'city',\n",
       "  'name': 'Lyon',\n",
       "  'display_name': 'Lyon, Métropole de Lyon, Rhône, Auvergne-Rhône-Alpes, France métropolitaine, France',\n",
       "  'boundingbox': ['45.7073666', '45.8082628', '4.7718134', '4.8983774']},\n",
       " {'place_id': 69158796,\n",
       "  'licence': 'Data © OpenStreetMap contributors, ODbL 1.0. http://osm.org/copyright',\n",
       "  'osm_type': 'node',\n",
       "  'osm_id': 7193513219,\n",
       "  'lat': '43.7496562',\n",
       "  'lon': '6.3285616',\n",
       "  'class': 'natural',\n",
       "  'type': 'gorge',\n",
       "  'place_rank': 22,\n",
       "  'importance': 0.37814958574294283,\n",
       "  'addresstype': 'gorge',\n",
       "  'name': 'Gorges du Verdon',\n",
       "  'display_name': \"Gorges du Verdon, La Palud-sur-Verdon, Castellane, Alpes-de-Haute-Provence, Provence-Alpes-Côte d'Azur, France métropolitaine, 04120, France\",\n",
       "  'boundingbox': ['43.7496062', '43.7497062', '6.3285116', '6.3286116']},\n",
       " {'place_id': 69637399,\n",
       "  'licence': 'Data © OpenStreetMap contributors, ODbL 1.0. http://osm.org/copyright',\n",
       "  'osm_type': 'relation',\n",
       "  'osm_id': 1118915,\n",
       "  'lat': '43.1506968',\n",
       "  'lon': '6.3419285',\n",
       "  'class': 'boundary',\n",
       "  'type': 'administrative',\n",
       "  'place_rank': 16,\n",
       "  'importance': 0.4773164194582208,\n",
       "  'addresstype': 'village',\n",
       "  'name': 'Bormes-les-Mimosas',\n",
       "  'display_name': \"Bormes-les-Mimosas, Toulon, Var, Provence-Alpes-Côte d'Azur, France métropolitaine, 83230, France\",\n",
       "  'boundingbox': ['43.0864271', '43.2278201', '6.2716142', '6.4514893']},\n",
       " {'place_id': 70448791,\n",
       "  'licence': 'Data © OpenStreetMap contributors, ODbL 1.0. http://osm.org/copyright',\n",
       "  'osm_type': 'relation',\n",
       "  'osm_id': 76425,\n",
       "  'lat': '43.2140359',\n",
       "  'lon': '5.5396318',\n",
       "  'class': 'boundary',\n",
       "  'type': 'administrative',\n",
       "  'place_rank': 16,\n",
       "  'importance': 0.4767802490530644,\n",
       "  'addresstype': 'village',\n",
       "  'name': 'Cassis',\n",
       "  'display_name': \"Cassis, Marseille, Bouches-du-Rhône, Provence-Alpes-Côte d'Azur, France métropolitaine, 13260, France\",\n",
       "  'boundingbox': ['43.1884732', '43.2487231', '5.5063193', '5.5945199']},\n",
       " {'place_id': 386999106,\n",
       "  'licence': 'Data © OpenStreetMap contributors, ODbL 1.0. http://osm.org/copyright',\n",
       "  'osm_type': 'relation',\n",
       "  'osm_id': 76469,\n",
       "  'lat': '43.2961743',\n",
       "  'lon': '5.3699525',\n",
       "  'class': 'boundary',\n",
       "  'type': 'administrative',\n",
       "  'place_rank': 16,\n",
       "  'importance': 0.6813768937556641,\n",
       "  'addresstype': 'city',\n",
       "  'name': 'Marseille',\n",
       "  'display_name': \"Marseille, Bouches-du-Rhône, Provence-Alpes-Côte d'Azur, France métropolitaine, 13000, France\",\n",
       "  'boundingbox': ['43.1696228', '43.3910329', '5.2286312', '5.5324758']},\n",
       " {'place_id': 69631975,\n",
       "  'licence': 'Data © OpenStreetMap contributors, ODbL 1.0. http://osm.org/copyright',\n",
       "  'osm_type': 'relation',\n",
       "  'osm_id': 70279,\n",
       "  'lat': '43.5298424',\n",
       "  'lon': '5.4474738',\n",
       "  'class': 'boundary',\n",
       "  'type': 'administrative',\n",
       "  'place_rank': 16,\n",
       "  'importance': 0.591084766383758,\n",
       "  'addresstype': 'city',\n",
       "  'name': 'Aix-en-Provence',\n",
       "  'display_name': \"Aix-en-Provence, Bouches-du-Rhône, Provence-Alpes-Côte d'Azur, France métropolitaine, France\",\n",
       "  'boundingbox': ['43.4461058', '43.6259224', '5.2694745', '5.5063013']},\n",
       " {'place_id': 69267689,\n",
       "  'licence': 'Data © OpenStreetMap contributors, ODbL 1.0. http://osm.org/copyright',\n",
       "  'osm_type': 'relation',\n",
       "  'osm_id': 102478,\n",
       "  'lat': '43.9492493',\n",
       "  'lon': '4.8059012',\n",
       "  'class': 'boundary',\n",
       "  'type': 'administrative',\n",
       "  'place_rank': 16,\n",
       "  'importance': 0.6220935210501682,\n",
       "  'addresstype': 'city',\n",
       "  'name': 'Avignon',\n",
       "  'display_name': \"Avignon, Vaucluse, Provence-Alpes-Côte d'Azur, France métropolitaine, France\",\n",
       "  'boundingbox': ['43.8873819', '43.9967419', '4.7396309', '4.9271468']},\n",
       " {'place_id': 74174459,\n",
       "  'licence': 'Data © OpenStreetMap contributors, ODbL 1.0. http://osm.org/copyright',\n",
       "  'osm_type': 'relation',\n",
       "  'osm_id': 380050,\n",
       "  'lat': '44.0121279',\n",
       "  'lon': '4.4196718',\n",
       "  'class': 'boundary',\n",
       "  'type': 'administrative',\n",
       "  'place_rank': 16,\n",
       "  'importance': 0.5375332788749554,\n",
       "  'addresstype': 'village',\n",
       "  'name': 'Uzès',\n",
       "  'display_name': 'Uzès, Nîmes, Gard, Occitanie, France métropolitaine, 30700, France',\n",
       "  'boundingbox': ['43.9811093', '44.0765914', '4.3852299', '4.4467859']},\n",
       " {'place_id': 69339886,\n",
       "  'licence': 'Data © OpenStreetMap contributors, ODbL 1.0. http://osm.org/copyright',\n",
       "  'osm_type': 'relation',\n",
       "  'osm_id': 378685,\n",
       "  'lat': '43.8374249',\n",
       "  'lon': '4.3600687',\n",
       "  'class': 'boundary',\n",
       "  'type': 'administrative',\n",
       "  'place_rank': 16,\n",
       "  'importance': 0.6030547856893241,\n",
       "  'addresstype': 'city',\n",
       "  'name': 'Nîmes',\n",
       "  'display_name': 'Nîmes, Gard, Occitanie, France métropolitaine, France',\n",
       "  'boundingbox': ['43.7412659', '43.9230177', '4.2356708', '4.4496605']},\n",
       " {'place_id': 70199438,\n",
       "  'licence': 'Data © OpenStreetMap contributors, ODbL 1.0. http://osm.org/copyright',\n",
       "  'osm_type': 'relation',\n",
       "  'osm_id': 272287,\n",
       "  'lat': '43.5661521',\n",
       "  'lon': '4.19154',\n",
       "  'class': 'boundary',\n",
       "  'type': 'administrative',\n",
       "  'place_rank': 16,\n",
       "  'importance': 0.5323802893018253,\n",
       "  'addresstype': 'town',\n",
       "  'name': 'Aigues-Mortes',\n",
       "  'display_name': 'Aigues-Mortes, Nîmes, Gard, Occitanie, France métropolitaine, 30220, France',\n",
       "  'boundingbox': ['43.4958113', '43.5920372', '4.0760703', '4.2442867']},\n",
       " {'place_id': 70255468,\n",
       "  'licence': 'Data © OpenStreetMap contributors, ODbL 1.0. http://osm.org/copyright',\n",
       "  'osm_type': 'relation',\n",
       "  'osm_id': 414459,\n",
       "  'lat': '43.4515922',\n",
       "  'lon': '4.4277202',\n",
       "  'class': 'boundary',\n",
       "  'type': 'administrative',\n",
       "  'place_rank': 16,\n",
       "  'importance': 0.4725165122764473,\n",
       "  'addresstype': 'town',\n",
       "  'name': 'Saintes-Maries-de-la-Mer',\n",
       "  'display_name': \"Saintes-Maries-de-la-Mer, Arles, Bouches-du-Rhône, Provence-Alpes-Côte d'Azur, France métropolitaine, 13460, France\",\n",
       "  'boundingbox': ['43.4062445', '43.5858463', '4.2301364', '4.6444785']},\n",
       " {'place_id': 71853633,\n",
       "  'licence': 'Data © OpenStreetMap contributors, ODbL 1.0. http://osm.org/copyright',\n",
       "  'osm_type': 'relation',\n",
       "  'osm_id': 18409,\n",
       "  'lat': '42.52505',\n",
       "  'lon': '3.0831554',\n",
       "  'class': 'boundary',\n",
       "  'type': 'administrative',\n",
       "  'place_rank': 16,\n",
       "  'importance': 0.5084088842062249,\n",
       "  'addresstype': 'village',\n",
       "  'name': 'Collioure',\n",
       "  'display_name': 'Collioure, Céret, Pyrénées-Orientales, Occitanie, France métropolitaine, 66190, France',\n",
       "  'boundingbox': ['42.4832453', '42.5341084', '3.0495074', '3.0994238']},\n",
       " {'place_id': 71584138,\n",
       "  'licence': 'Data © OpenStreetMap contributors, ODbL 1.0. http://osm.org/copyright',\n",
       "  'osm_type': 'relation',\n",
       "  'osm_id': 37774,\n",
       "  'lat': '43.2130358',\n",
       "  'lon': '2.3491069',\n",
       "  'class': 'boundary',\n",
       "  'type': 'administrative',\n",
       "  'place_rank': 16,\n",
       "  'importance': 0.5891672924570599,\n",
       "  'addresstype': 'town',\n",
       "  'name': 'Carcassonne',\n",
       "  'display_name': 'Carcassonne, Aude, Occitanie, France métropolitaine, 11000, France',\n",
       "  'boundingbox': ['43.1713069', '43.2443707', '2.2615684', '2.4362676']},\n",
       " {'place_id': 71651196,\n",
       "  'licence': 'Data © OpenStreetMap contributors, ODbL 1.0. http://osm.org/copyright',\n",
       "  'osm_type': 'relation',\n",
       "  'osm_id': 1806623,\n",
       "  'lat': '42.8458016',\n",
       "  'lon': '1.6067586',\n",
       "  'class': 'boundary',\n",
       "  'type': 'administrative',\n",
       "  'place_rank': 16,\n",
       "  'importance': 0.5156394757313355,\n",
       "  'addresstype': 'village',\n",
       "  'name': 'Tarascon-sur-Ariège',\n",
       "  'display_name': 'Tarascon-sur-Ariège, Foix, Ariège, Occitanie, France métropolitaine, 09400, France',\n",
       "  'boundingbox': ['42.8251052', '42.8622713', '1.5600405', '1.6270996']},\n",
       " {'place_id': 376147504,\n",
       "  'licence': 'Data © OpenStreetMap contributors, ODbL 1.0. http://osm.org/copyright',\n",
       "  'osm_type': 'relation',\n",
       "  'osm_id': 35738,\n",
       "  'lat': '43.6044622',\n",
       "  'lon': '1.4442469',\n",
       "  'class': 'boundary',\n",
       "  'type': 'administrative',\n",
       "  'place_rank': 16,\n",
       "  'importance': 0.6682142268493704,\n",
       "  'addresstype': 'city',\n",
       "  'name': 'Toulouse',\n",
       "  'display_name': 'Toulouse, Haute-Garonne, Occitanie, France métropolitaine, France',\n",
       "  'boundingbox': ['43.5326540', '43.6687080', '1.3503956', '1.5153795']},\n",
       " {'place_id': 73289829,\n",
       "  'licence': 'Data © OpenStreetMap contributors, ODbL 1.0. http://osm.org/copyright',\n",
       "  'osm_type': 'relation',\n",
       "  'osm_id': 137735,\n",
       "  'lat': '44.0175835',\n",
       "  'lon': '1.3549991',\n",
       "  'class': 'boundary',\n",
       "  'type': 'administrative',\n",
       "  'place_rank': 16,\n",
       "  'importance': 0.5542482145338697,\n",
       "  'addresstype': 'town',\n",
       "  'name': 'Montauban',\n",
       "  'display_name': 'Montauban, Tarn-et-Garonne, Occitanie, France métropolitaine, 82000, France',\n",
       "  'boundingbox': ['43.9512579', '44.0922122', '1.2865419', '1.4427914']},\n",
       " {'place_id': 252575406,\n",
       "  'licence': 'Data © OpenStreetMap contributors, ODbL 1.0. http://osm.org/copyright',\n",
       "  'osm_type': 'relation',\n",
       "  'osm_id': 166717,\n",
       "  'lat': '43.4832523',\n",
       "  'lon': '-1.5592776',\n",
       "  'class': 'boundary',\n",
       "  'type': 'administrative',\n",
       "  'place_rank': 16,\n",
       "  'importance': 0.5796122503321824,\n",
       "  'addresstype': 'town',\n",
       "  'name': 'Biarritz',\n",
       "  'display_name': 'Biarritz, Bayonne, Pyrénées-Atlantiques, Nouvelle-Aquitaine, France métropolitaine, 64200, France',\n",
       "  'boundingbox': ['43.4475698', '43.4945381', '-1.5773906', '-1.5343915']},\n",
       " {'place_id': 252689850,\n",
       "  'licence': 'Data © OpenStreetMap contributors, ODbL 1.0. http://osm.org/copyright',\n",
       "  'osm_type': 'relation',\n",
       "  'osm_id': 166713,\n",
       "  'lat': '43.4945144',\n",
       "  'lon': '-1.4736657',\n",
       "  'class': 'boundary',\n",
       "  'type': 'administrative',\n",
       "  'place_rank': 16,\n",
       "  'importance': 0.6027800210035323,\n",
       "  'addresstype': 'town',\n",
       "  'name': 'Bayonne',\n",
       "  'display_name': 'Bayonne, Pyrénées-Atlantiques, Nouvelle-Aquitaine, France métropolitaine, 64100, France',\n",
       "  'boundingbox': ['43.4498733', '43.5188846', '-1.5048438', '-1.4172610']},\n",
       " {'place_id': 252542456,\n",
       "  'licence': 'Data © OpenStreetMap contributors, ODbL 1.0. http://osm.org/copyright',\n",
       "  'osm_type': 'relation',\n",
       "  'osm_id': 117858,\n",
       "  'lat': '46.1591126',\n",
       "  'lon': '-1.1520434',\n",
       "  'class': 'boundary',\n",
       "  'type': 'administrative',\n",
       "  'place_rank': 16,\n",
       "  'importance': 0.6014837096874571,\n",
       "  'addresstype': 'city',\n",
       "  'name': 'La Rochelle',\n",
       "  'display_name': 'La Rochelle, Charente-Maritime, Nouvelle-Aquitaine, France métropolitaine, 17000, France',\n",
       "  'boundingbox': ['46.1331804', '46.1908971', '-1.2419231', '-1.1110970']}]"
      ]
     },
     "execution_count": 11,
     "metadata": {},
     "output_type": "execute_result"
    }
   ],
   "source": [
    "cities_code"
   ]
  },
  {
   "cell_type": "code",
   "execution_count": 12,
   "metadata": {},
   "outputs": [
    {
     "name": "stdout",
     "output_type": "stream",
     "text": [
      "Dataframe shape : 35 rows, 14 columns\n",
      "\n",
      "Display of dataset: \n"
     ]
    },
    {
     "data": {
      "text/html": [
       "<div>\n",
       "<style scoped>\n",
       "    .dataframe tbody tr th:only-of-type {\n",
       "        vertical-align: middle;\n",
       "    }\n",
       "\n",
       "    .dataframe tbody tr th {\n",
       "        vertical-align: top;\n",
       "    }\n",
       "\n",
       "    .dataframe thead th {\n",
       "        text-align: right;\n",
       "    }\n",
       "</style>\n",
       "<table border=\"1\" class=\"dataframe\">\n",
       "  <thead>\n",
       "    <tr style=\"text-align: right;\">\n",
       "      <th></th>\n",
       "      <th>place_id</th>\n",
       "      <th>licence</th>\n",
       "      <th>osm_type</th>\n",
       "      <th>osm_id</th>\n",
       "      <th>lat</th>\n",
       "      <th>lon</th>\n",
       "      <th>class</th>\n",
       "      <th>type</th>\n",
       "      <th>place_rank</th>\n",
       "      <th>importance</th>\n",
       "      <th>addresstype</th>\n",
       "      <th>name</th>\n",
       "      <th>display_name</th>\n",
       "      <th>boundingbox</th>\n",
       "    </tr>\n",
       "  </thead>\n",
       "  <tbody>\n",
       "    <tr>\n",
       "      <th>0</th>\n",
       "      <td>247828266</td>\n",
       "      <td>Data © OpenStreetMap contributors, ODbL 1.0. h...</td>\n",
       "      <td>way</td>\n",
       "      <td>211285890</td>\n",
       "      <td>48.6359541</td>\n",
       "      <td>-1.511459954959514</td>\n",
       "      <td>place</td>\n",
       "      <td>islet</td>\n",
       "      <td>20</td>\n",
       "      <td>0.455437</td>\n",
       "      <td>islet</td>\n",
       "      <td>Mont Saint-Michel</td>\n",
       "      <td>Mont Saint-Michel, Le Mont-Saint-Michel, Avran...</td>\n",
       "      <td>[48.6349172, 48.6370310, -1.5133292, -1.5094796]</td>\n",
       "    </tr>\n",
       "    <tr>\n",
       "      <th>1</th>\n",
       "      <td>247779061</td>\n",
       "      <td>Data © OpenStreetMap contributors, ODbL 1.0. h...</td>\n",
       "      <td>relation</td>\n",
       "      <td>905534</td>\n",
       "      <td>48.649518</td>\n",
       "      <td>-2.0260409</td>\n",
       "      <td>boundary</td>\n",
       "      <td>administrative</td>\n",
       "      <td>16</td>\n",
       "      <td>0.576467</td>\n",
       "      <td>town</td>\n",
       "      <td>Saint-Malo</td>\n",
       "      <td>Saint-Malo, Ille-et-Vilaine, Bretagne, France ...</td>\n",
       "      <td>[48.5979853, 48.6949736, -2.0765246, -1.9367259]</td>\n",
       "    </tr>\n",
       "    <tr>\n",
       "      <th>2</th>\n",
       "      <td>246347430</td>\n",
       "      <td>Data © OpenStreetMap contributors, ODbL 1.0. h...</td>\n",
       "      <td>relation</td>\n",
       "      <td>145776</td>\n",
       "      <td>49.2764624</td>\n",
       "      <td>-0.7024738</td>\n",
       "      <td>boundary</td>\n",
       "      <td>administrative</td>\n",
       "      <td>16</td>\n",
       "      <td>0.572700</td>\n",
       "      <td>town</td>\n",
       "      <td>Bayeux</td>\n",
       "      <td>Bayeux, Calvados, Normandie, France métropolit...</td>\n",
       "      <td>[49.2608124, 49.2934736, -0.7275671, -0.6757378]</td>\n",
       "    </tr>\n",
       "    <tr>\n",
       "      <th>3</th>\n",
       "      <td>83892890</td>\n",
       "      <td>Data © OpenStreetMap contributors, ODbL 1.0. h...</td>\n",
       "      <td>relation</td>\n",
       "      <td>104492</td>\n",
       "      <td>49.4938975</td>\n",
       "      <td>0.1079732</td>\n",
       "      <td>boundary</td>\n",
       "      <td>administrative</td>\n",
       "      <td>16</td>\n",
       "      <td>0.622333</td>\n",
       "      <td>city</td>\n",
       "      <td>Le Havre</td>\n",
       "      <td>Le Havre, Seine-Maritime, Normandie, France mé...</td>\n",
       "      <td>[49.4516697, 49.5401463, 0.0667992, 0.1955556]</td>\n",
       "    </tr>\n",
       "    <tr>\n",
       "      <th>4</th>\n",
       "      <td>84448726</td>\n",
       "      <td>Data © OpenStreetMap contributors, ODbL 1.0. h...</td>\n",
       "      <td>relation</td>\n",
       "      <td>75628</td>\n",
       "      <td>49.4404591</td>\n",
       "      <td>1.0939658</td>\n",
       "      <td>boundary</td>\n",
       "      <td>administrative</td>\n",
       "      <td>16</td>\n",
       "      <td>0.640073</td>\n",
       "      <td>city</td>\n",
       "      <td>Rouen</td>\n",
       "      <td>Rouen, Seine-Maritime, Normandie, France métro...</td>\n",
       "      <td>[49.4172001, 49.4652601, 1.0300648, 1.1521157]</td>\n",
       "    </tr>\n",
       "  </tbody>\n",
       "</table>\n",
       "</div>"
      ],
      "text/plain": [
       "    place_id                                            licence  osm_type  \\\n",
       "0  247828266  Data © OpenStreetMap contributors, ODbL 1.0. h...       way   \n",
       "1  247779061  Data © OpenStreetMap contributors, ODbL 1.0. h...  relation   \n",
       "2  246347430  Data © OpenStreetMap contributors, ODbL 1.0. h...  relation   \n",
       "3   83892890  Data © OpenStreetMap contributors, ODbL 1.0. h...  relation   \n",
       "4   84448726  Data © OpenStreetMap contributors, ODbL 1.0. h...  relation   \n",
       "\n",
       "      osm_id         lat                 lon     class            type  \\\n",
       "0  211285890  48.6359541  -1.511459954959514     place           islet   \n",
       "1     905534   48.649518          -2.0260409  boundary  administrative   \n",
       "2     145776  49.2764624          -0.7024738  boundary  administrative   \n",
       "3     104492  49.4938975           0.1079732  boundary  administrative   \n",
       "4      75628  49.4404591           1.0939658  boundary  administrative   \n",
       "\n",
       "   place_rank  importance addresstype               name  \\\n",
       "0          20    0.455437       islet  Mont Saint-Michel   \n",
       "1          16    0.576467        town         Saint-Malo   \n",
       "2          16    0.572700        town             Bayeux   \n",
       "3          16    0.622333        city           Le Havre   \n",
       "4          16    0.640073        city              Rouen   \n",
       "\n",
       "                                        display_name  \\\n",
       "0  Mont Saint-Michel, Le Mont-Saint-Michel, Avran...   \n",
       "1  Saint-Malo, Ille-et-Vilaine, Bretagne, France ...   \n",
       "2  Bayeux, Calvados, Normandie, France métropolit...   \n",
       "3  Le Havre, Seine-Maritime, Normandie, France mé...   \n",
       "4  Rouen, Seine-Maritime, Normandie, France métro...   \n",
       "\n",
       "                                        boundingbox  \n",
       "0  [48.6349172, 48.6370310, -1.5133292, -1.5094796]  \n",
       "1  [48.5979853, 48.6949736, -2.0765246, -1.9367259]  \n",
       "2  [49.2608124, 49.2934736, -0.7275671, -0.6757378]  \n",
       "3    [49.4516697, 49.5401463, 0.0667992, 0.1955556]  \n",
       "4    [49.4172001, 49.4652601, 1.0300648, 1.1521157]  "
      ]
     },
     "metadata": {},
     "output_type": "display_data"
    },
    {
     "name": "stdout",
     "output_type": "stream",
     "text": [
      "Basics statistics: \n"
     ]
    },
    {
     "data": {
      "text/html": [
       "<div>\n",
       "<style scoped>\n",
       "    .dataframe tbody tr th:only-of-type {\n",
       "        vertical-align: middle;\n",
       "    }\n",
       "\n",
       "    .dataframe tbody tr th {\n",
       "        vertical-align: top;\n",
       "    }\n",
       "\n",
       "    .dataframe thead th {\n",
       "        text-align: right;\n",
       "    }\n",
       "</style>\n",
       "<table border=\"1\" class=\"dataframe\">\n",
       "  <thead>\n",
       "    <tr style=\"text-align: right;\">\n",
       "      <th></th>\n",
       "      <th>place_id</th>\n",
       "      <th>licence</th>\n",
       "      <th>osm_type</th>\n",
       "      <th>osm_id</th>\n",
       "      <th>lat</th>\n",
       "      <th>lon</th>\n",
       "      <th>class</th>\n",
       "      <th>type</th>\n",
       "      <th>place_rank</th>\n",
       "      <th>importance</th>\n",
       "      <th>addresstype</th>\n",
       "      <th>name</th>\n",
       "      <th>display_name</th>\n",
       "      <th>boundingbox</th>\n",
       "    </tr>\n",
       "  </thead>\n",
       "  <tbody>\n",
       "    <tr>\n",
       "      <th>count</th>\n",
       "      <td>3.500000e+01</td>\n",
       "      <td>35</td>\n",
       "      <td>35</td>\n",
       "      <td>3.500000e+01</td>\n",
       "      <td>35</td>\n",
       "      <td>35</td>\n",
       "      <td>35</td>\n",
       "      <td>35</td>\n",
       "      <td>35.000000</td>\n",
       "      <td>35.000000</td>\n",
       "      <td>35</td>\n",
       "      <td>35</td>\n",
       "      <td>35</td>\n",
       "      <td>35</td>\n",
       "    </tr>\n",
       "    <tr>\n",
       "      <th>unique</th>\n",
       "      <td>NaN</td>\n",
       "      <td>1</td>\n",
       "      <td>3</td>\n",
       "      <td>NaN</td>\n",
       "      <td>35</td>\n",
       "      <td>35</td>\n",
       "      <td>3</td>\n",
       "      <td>4</td>\n",
       "      <td>NaN</td>\n",
       "      <td>NaN</td>\n",
       "      <td>6</td>\n",
       "      <td>35</td>\n",
       "      <td>35</td>\n",
       "      <td>35</td>\n",
       "    </tr>\n",
       "    <tr>\n",
       "      <th>top</th>\n",
       "      <td>NaN</td>\n",
       "      <td>Data © OpenStreetMap contributors, ODbL 1.0. h...</td>\n",
       "      <td>relation</td>\n",
       "      <td>NaN</td>\n",
       "      <td>48.6359541</td>\n",
       "      <td>-1.511459954959514</td>\n",
       "      <td>boundary</td>\n",
       "      <td>administrative</td>\n",
       "      <td>NaN</td>\n",
       "      <td>NaN</td>\n",
       "      <td>city</td>\n",
       "      <td>Mont Saint-Michel</td>\n",
       "      <td>Mont Saint-Michel, Le Mont-Saint-Michel, Avran...</td>\n",
       "      <td>[48.6349172, 48.6370310, -1.5133292, -1.5094796]</td>\n",
       "    </tr>\n",
       "    <tr>\n",
       "      <th>freq</th>\n",
       "      <td>NaN</td>\n",
       "      <td>35</td>\n",
       "      <td>32</td>\n",
       "      <td>NaN</td>\n",
       "      <td>1</td>\n",
       "      <td>1</td>\n",
       "      <td>32</td>\n",
       "      <td>32</td>\n",
       "      <td>NaN</td>\n",
       "      <td>NaN</td>\n",
       "      <td>17</td>\n",
       "      <td>1</td>\n",
       "      <td>1</td>\n",
       "      <td>1</td>\n",
       "    </tr>\n",
       "    <tr>\n",
       "      <th>mean</th>\n",
       "      <td>1.338547e+08</td>\n",
       "      <td>NaN</td>\n",
       "      <td>NaN</td>\n",
       "      <td>3.332601e+08</td>\n",
       "      <td>NaN</td>\n",
       "      <td>NaN</td>\n",
       "      <td>NaN</td>\n",
       "      <td>NaN</td>\n",
       "      <td>16.342857</td>\n",
       "      <td>0.572136</td>\n",
       "      <td>NaN</td>\n",
       "      <td>NaN</td>\n",
       "      <td>NaN</td>\n",
       "      <td>NaN</td>\n",
       "    </tr>\n",
       "    <tr>\n",
       "      <th>std</th>\n",
       "      <td>1.011206e+08</td>\n",
       "      <td>NaN</td>\n",
       "      <td>NaN</td>\n",
       "      <td>1.392467e+09</td>\n",
       "      <td>NaN</td>\n",
       "      <td>NaN</td>\n",
       "      <td>NaN</td>\n",
       "      <td>NaN</td>\n",
       "      <td>1.714006</td>\n",
       "      <td>0.115708</td>\n",
       "      <td>NaN</td>\n",
       "      <td>NaN</td>\n",
       "      <td>NaN</td>\n",
       "      <td>NaN</td>\n",
       "    </tr>\n",
       "    <tr>\n",
       "      <th>min</th>\n",
       "      <td>6.915880e+07</td>\n",
       "      <td>NaN</td>\n",
       "      <td>NaN</td>\n",
       "      <td>1.840900e+04</td>\n",
       "      <td>NaN</td>\n",
       "      <td>NaN</td>\n",
       "      <td>NaN</td>\n",
       "      <td>NaN</td>\n",
       "      <td>12.000000</td>\n",
       "      <td>0.106728</td>\n",
       "      <td>NaN</td>\n",
       "      <td>NaN</td>\n",
       "      <td>NaN</td>\n",
       "      <td>NaN</td>\n",
       "    </tr>\n",
       "    <tr>\n",
       "      <th>25%</th>\n",
       "      <td>7.161767e+07</td>\n",
       "      <td>NaN</td>\n",
       "      <td>NaN</td>\n",
       "      <td>7.485900e+04</td>\n",
       "      <td>NaN</td>\n",
       "      <td>NaN</td>\n",
       "      <td>NaN</td>\n",
       "      <td>NaN</td>\n",
       "      <td>16.000000</td>\n",
       "      <td>0.528676</td>\n",
       "      <td>NaN</td>\n",
       "      <td>NaN</td>\n",
       "      <td>NaN</td>\n",
       "      <td>NaN</td>\n",
       "    </tr>\n",
       "    <tr>\n",
       "      <th>50%</th>\n",
       "      <td>8.014871e+07</td>\n",
       "      <td>NaN</td>\n",
       "      <td>NaN</td>\n",
       "      <td>1.143470e+05</td>\n",
       "      <td>NaN</td>\n",
       "      <td>NaN</td>\n",
       "      <td>NaN</td>\n",
       "      <td>NaN</td>\n",
       "      <td>16.000000</td>\n",
       "      <td>0.589167</td>\n",
       "      <td>NaN</td>\n",
       "      <td>NaN</td>\n",
       "      <td>NaN</td>\n",
       "      <td>NaN</td>\n",
       "    </tr>\n",
       "    <tr>\n",
       "      <th>75%</th>\n",
       "      <td>1.757923e+08</td>\n",
       "      <td>NaN</td>\n",
       "      <td>NaN</td>\n",
       "      <td>3.793675e+05</td>\n",
       "      <td>NaN</td>\n",
       "      <td>NaN</td>\n",
       "      <td>NaN</td>\n",
       "      <td>NaN</td>\n",
       "      <td>16.000000</td>\n",
       "      <td>0.629284</td>\n",
       "      <td>NaN</td>\n",
       "      <td>NaN</td>\n",
       "      <td>NaN</td>\n",
       "      <td>NaN</td>\n",
       "    </tr>\n",
       "    <tr>\n",
       "      <th>max</th>\n",
       "      <td>3.869991e+08</td>\n",
       "      <td>NaN</td>\n",
       "      <td>NaN</td>\n",
       "      <td>7.193513e+09</td>\n",
       "      <td>NaN</td>\n",
       "      <td>NaN</td>\n",
       "      <td>NaN</td>\n",
       "      <td>NaN</td>\n",
       "      <td>22.000000</td>\n",
       "      <td>0.831710</td>\n",
       "      <td>NaN</td>\n",
       "      <td>NaN</td>\n",
       "      <td>NaN</td>\n",
       "      <td>NaN</td>\n",
       "    </tr>\n",
       "  </tbody>\n",
       "</table>\n",
       "</div>"
      ],
      "text/plain": [
       "            place_id                                            licence  \\\n",
       "count   3.500000e+01                                                 35   \n",
       "unique           NaN                                                  1   \n",
       "top              NaN  Data © OpenStreetMap contributors, ODbL 1.0. h...   \n",
       "freq             NaN                                                 35   \n",
       "mean    1.338547e+08                                                NaN   \n",
       "std     1.011206e+08                                                NaN   \n",
       "min     6.915880e+07                                                NaN   \n",
       "25%     7.161767e+07                                                NaN   \n",
       "50%     8.014871e+07                                                NaN   \n",
       "75%     1.757923e+08                                                NaN   \n",
       "max     3.869991e+08                                                NaN   \n",
       "\n",
       "        osm_type        osm_id         lat                 lon     class  \\\n",
       "count         35  3.500000e+01          35                  35        35   \n",
       "unique         3           NaN          35                  35         3   \n",
       "top     relation           NaN  48.6359541  -1.511459954959514  boundary   \n",
       "freq          32           NaN           1                   1        32   \n",
       "mean         NaN  3.332601e+08         NaN                 NaN       NaN   \n",
       "std          NaN  1.392467e+09         NaN                 NaN       NaN   \n",
       "min          NaN  1.840900e+04         NaN                 NaN       NaN   \n",
       "25%          NaN  7.485900e+04         NaN                 NaN       NaN   \n",
       "50%          NaN  1.143470e+05         NaN                 NaN       NaN   \n",
       "75%          NaN  3.793675e+05         NaN                 NaN       NaN   \n",
       "max          NaN  7.193513e+09         NaN                 NaN       NaN   \n",
       "\n",
       "                  type  place_rank  importance addresstype               name  \\\n",
       "count               35   35.000000   35.000000          35                 35   \n",
       "unique               4         NaN         NaN           6                 35   \n",
       "top     administrative         NaN         NaN        city  Mont Saint-Michel   \n",
       "freq                32         NaN         NaN          17                  1   \n",
       "mean               NaN   16.342857    0.572136         NaN                NaN   \n",
       "std                NaN    1.714006    0.115708         NaN                NaN   \n",
       "min                NaN   12.000000    0.106728         NaN                NaN   \n",
       "25%                NaN   16.000000    0.528676         NaN                NaN   \n",
       "50%                NaN   16.000000    0.589167         NaN                NaN   \n",
       "75%                NaN   16.000000    0.629284         NaN                NaN   \n",
       "max                NaN   22.000000    0.831710         NaN                NaN   \n",
       "\n",
       "                                             display_name  \\\n",
       "count                                                  35   \n",
       "unique                                                 35   \n",
       "top     Mont Saint-Michel, Le Mont-Saint-Michel, Avran...   \n",
       "freq                                                    1   \n",
       "mean                                                  NaN   \n",
       "std                                                   NaN   \n",
       "min                                                   NaN   \n",
       "25%                                                   NaN   \n",
       "50%                                                   NaN   \n",
       "75%                                                   NaN   \n",
       "max                                                   NaN   \n",
       "\n",
       "                                             boundingbox  \n",
       "count                                                 35  \n",
       "unique                                                35  \n",
       "top     [48.6349172, 48.6370310, -1.5133292, -1.5094796]  \n",
       "freq                                                   1  \n",
       "mean                                                 NaN  \n",
       "std                                                  NaN  \n",
       "min                                                  NaN  \n",
       "25%                                                  NaN  \n",
       "50%                                                  NaN  \n",
       "75%                                                  NaN  \n",
       "max                                                  NaN  "
      ]
     },
     "metadata": {},
     "output_type": "display_data"
    },
    {
     "name": "stdout",
     "output_type": "stream",
     "text": [
      "Percentage of missing values: \n"
     ]
    },
    {
     "data": {
      "text/plain": [
       "place_id        0.0\n",
       "licence         0.0\n",
       "osm_type        0.0\n",
       "osm_id          0.0\n",
       "lat             0.0\n",
       "lon             0.0\n",
       "class           0.0\n",
       "type            0.0\n",
       "place_rank      0.0\n",
       "importance      0.0\n",
       "addresstype     0.0\n",
       "name            0.0\n",
       "display_name    0.0\n",
       "boundingbox     0.0\n",
       "dtype: float64"
      ]
     },
     "metadata": {},
     "output_type": "display_data"
    },
    {
     "name": "stdout",
     "output_type": "stream",
     "text": [
      "Type for each columns\n"
     ]
    },
    {
     "data": {
      "text/plain": [
       "place_id          int64\n",
       "licence          object\n",
       "osm_type         object\n",
       "osm_id            int64\n",
       "lat              object\n",
       "lon              object\n",
       "class            object\n",
       "type             object\n",
       "place_rank        int64\n",
       "importance      float64\n",
       "addresstype      object\n",
       "name             object\n",
       "display_name     object\n",
       "boundingbox      object\n",
       "dtype: object"
      ]
     },
     "metadata": {},
     "output_type": "display_data"
    }
   ],
   "source": [
    "df = pd.DataFrame(cities_code)\n",
    "\n",
    "# Display basic stats\n",
    "def basic_stats(dataframe):\n",
    "    print(f\"Dataframe shape : {dataframe.shape[0]} rows, {dataframe.shape[1]} columns\")\n",
    "    print()\n",
    "   \n",
    "    print(\"Display of dataset: \")\n",
    "    display(dataframe.head())\n",
    "    \n",
    "    print(\"Basics statistics: \")\n",
    "    display(dataframe.describe(include=\"all\"))\n",
    "\n",
    "    print(\"Percentage of missing values: \")\n",
    "    display(100 * dataframe.isnull().sum() / dataframe.shape[0])\n",
    "\n",
    "    print('Type for each columns')\n",
    "    display(dataframe.dtypes)\n",
    "\n",
    "basic_stats(df)"
   ]
  },
  {
   "cell_type": "code",
   "execution_count": 13,
   "metadata": {},
   "outputs": [],
   "source": [
    "# Keep only city name and coordinates\n",
    "to_keep = [\"name\", \"lat\", \"lon\"]\n",
    "df = df.loc[:, to_keep]\n",
    "\n",
    "# Rename columns\n",
    "df.rename(columns={\"name\": \"city\", \"lat\" : \"city_lat\", \"lon\" : \"city_lon\"}, inplace=True)\n",
    "\n",
    "# Change latitude and longitude columns in float\n",
    "df[[\"city_lat\", \"city_lon\"]] = df[[\"city_lat\", \"city_lon\"]].astype(float)\n",
    "\n",
    "# Assign an id to each city\n",
    "df['city_id'] = range(len(df))"
   ]
  },
  {
   "cell_type": "code",
   "execution_count": 14,
   "metadata": {},
   "outputs": [
    {
     "name": "stdout",
     "output_type": "stream",
     "text": [
      "0 weather has been found\n",
      "1 weather has been found\n",
      "2 weather has been found\n",
      "3 weather has been found\n",
      "4 weather has been found\n",
      "5 weather has been found\n",
      "6 weather has been found\n",
      "7 weather has been found\n",
      "8 weather has been found\n",
      "9 weather has been found\n",
      "10 weather has been found\n",
      "11 weather has been found\n",
      "12 weather has been found\n",
      "13 weather has been found\n",
      "14 weather has been found\n",
      "15 weather has been found\n",
      "16 weather has been found\n",
      "17 weather has been found\n",
      "18 weather has been found\n",
      "19 weather has been found\n",
      "20 weather has been found\n",
      "21 weather has been found\n",
      "22 weather has been found\n",
      "23 weather has been found\n",
      "24 weather has been found\n",
      "25 weather has been found\n",
      "26 weather has been found\n",
      "27 weather has been found\n",
      "28 weather has been found\n",
      "29 weather has been found\n",
      "30 weather has been found\n",
      "31 weather has been found\n",
      "32 weather has been found\n",
      "33 weather has been found\n",
      "34 weather has been found\n"
     ]
    }
   ],
   "source": [
    "# Get weather data for each city\n",
    "weather = {}\n",
    "\n",
    "for i, row in df.iterrows():\n",
    "    lat = row[\"city_lat\"]\n",
    "    lon = row[\"city_lon\"]\n",
    "\n",
    "    r2 = requests.get(f\"https://api.openweathermap.org/data/3.0/onecall?lat={lat}&lon={lon}&exclude=current,minutely,hourly,alerts&units=metric&appid={token}\")\n",
    "\n",
    "    if r2.status_code == 200:\n",
    "        weather[i] = r2.json()\n",
    "        print(i, \"weather has been found\")\n",
    "        \n",
    "    else :\n",
    "        print(i, \"//!\\\\ données introuvables\")"
   ]
  },
  {
   "cell_type": "code",
   "execution_count": 15,
   "metadata": {},
   "outputs": [
    {
     "data": {
      "text/plain": [
       "{'lat': 48.636,\n",
       " 'lon': -1.5115,\n",
       " 'timezone': 'Europe/Paris',\n",
       " 'timezone_offset': 7200,\n",
       " 'daily': [{'dt': 1715601600,\n",
       "   'sunrise': 1715574444,\n",
       "   'sunset': 1715629051,\n",
       "   'moonrise': 1715589600,\n",
       "   'moonset': 1715561220,\n",
       "   'moon_phase': 0.18,\n",
       "   'summary': 'Expect a day of partly cloudy with rain',\n",
       "   'temp': {'day': 16.96,\n",
       "    'min': 10.13,\n",
       "    'max': 17.37,\n",
       "    'night': 13.36,\n",
       "    'eve': 13.6,\n",
       "    'morn': 12.42},\n",
       "   'feels_like': {'day': 16.88, 'night': 13.18, 'eve': 13.52, 'morn': 12.25},\n",
       "   'pressure': 1004,\n",
       "   'humidity': 83,\n",
       "   'dew_point': 14.06,\n",
       "   'wind_speed': 8.92,\n",
       "   'wind_deg': 170,\n",
       "   'wind_gust': 14.07,\n",
       "   'weather': [{'id': 501,\n",
       "     'main': 'Rain',\n",
       "     'description': 'moderate rain',\n",
       "     'icon': '10d'}],\n",
       "   'clouds': 100,\n",
       "   'pop': 1,\n",
       "   'rain': 5.83,\n",
       "   'uvi': 3.65},\n",
       "  {'dt': 1715688000,\n",
       "   'sunrise': 1715660764,\n",
       "   'sunset': 1715715532,\n",
       "   'moonrise': 1715680380,\n",
       "   'moonset': 1715649420,\n",
       "   'moon_phase': 0.22,\n",
       "   'summary': 'Expect a day of partly cloudy with rain',\n",
       "   'temp': {'day': 15.28,\n",
       "    'min': 11.02,\n",
       "    'max': 16.76,\n",
       "    'night': 11.57,\n",
       "    'eve': 14.6,\n",
       "    'morn': 11.86},\n",
       "   'feels_like': {'day': 14.95, 'night': 11.11, 'eve': 14.23, 'morn': 11.53},\n",
       "   'pressure': 1000,\n",
       "   'humidity': 80,\n",
       "   'dew_point': 11.62,\n",
       "   'wind_speed': 8.94,\n",
       "   'wind_deg': 194,\n",
       "   'wind_gust': 13.23,\n",
       "   'weather': [{'id': 500,\n",
       "     'main': 'Rain',\n",
       "     'description': 'light rain',\n",
       "     'icon': '10d'}],\n",
       "   'clouds': 100,\n",
       "   'pop': 1,\n",
       "   'rain': 1.49,\n",
       "   'uvi': 5.71},\n",
       "  {'dt': 1715774400,\n",
       "   'sunrise': 1715747086,\n",
       "   'sunset': 1715802013,\n",
       "   'moonrise': 1715771100,\n",
       "   'moonset': 1715737140,\n",
       "   'moon_phase': 0.25,\n",
       "   'summary': 'Expect a day of partly cloudy with rain',\n",
       "   'temp': {'day': 14.82,\n",
       "    'min': 9.3,\n",
       "    'max': 15.92,\n",
       "    'night': 10.54,\n",
       "    'eve': 14.19,\n",
       "    'morn': 11},\n",
       "   'feels_like': {'day': 14.52, 'night': 10.08, 'eve': 13.83, 'morn': 10.45},\n",
       "   'pressure': 1003,\n",
       "   'humidity': 83,\n",
       "   'dew_point': 11.81,\n",
       "   'wind_speed': 7.92,\n",
       "   'wind_deg': 142,\n",
       "   'wind_gust': 13.02,\n",
       "   'weather': [{'id': 500,\n",
       "     'main': 'Rain',\n",
       "     'description': 'light rain',\n",
       "     'icon': '10d'}],\n",
       "   'clouds': 86,\n",
       "   'pop': 1,\n",
       "   'rain': 3.08,\n",
       "   'uvi': 5.59},\n",
       "  {'dt': 1715860800,\n",
       "   'sunrise': 1715833410,\n",
       "   'sunset': 1715888493,\n",
       "   'moonrise': 1715861640,\n",
       "   'moonset': 1715824560,\n",
       "   'moon_phase': 0.28,\n",
       "   'summary': 'Expect a day of partly cloudy with rain',\n",
       "   'temp': {'day': 15.76,\n",
       "    'min': 8.26,\n",
       "    'max': 15.99,\n",
       "    'night': 11.56,\n",
       "    'eve': 15.28,\n",
       "    'morn': 9.58},\n",
       "   'feels_like': {'day': 15.32, 'night': 11.23, 'eve': 15.08, 'morn': 6.69},\n",
       "   'pressure': 1005,\n",
       "   'humidity': 74,\n",
       "   'dew_point': 11.04,\n",
       "   'wind_speed': 6.81,\n",
       "   'wind_deg': 142,\n",
       "   'wind_gust': 11.85,\n",
       "   'weather': [{'id': 500,\n",
       "     'main': 'Rain',\n",
       "     'description': 'light rain',\n",
       "     'icon': '10d'}],\n",
       "   'clouds': 62,\n",
       "   'pop': 1,\n",
       "   'rain': 2.2,\n",
       "   'uvi': 5.72},\n",
       "  {'dt': 1715947200,\n",
       "   'sunrise': 1715919736,\n",
       "   'sunset': 1715974972,\n",
       "   'moonrise': 1715952120,\n",
       "   'moonset': 1715911800,\n",
       "   'moon_phase': 0.31,\n",
       "   'summary': 'You can expect partly cloudy in the morning, with rain in the afternoon',\n",
       "   'temp': {'day': 15.89,\n",
       "    'min': 10.22,\n",
       "    'max': 16.96,\n",
       "    'night': 12.62,\n",
       "    'eve': 16.96,\n",
       "    'morn': 11.94},\n",
       "   'feels_like': {'day': 15.57, 'night': 12.29, 'eve': 16.8, 'morn': 11.67},\n",
       "   'pressure': 1008,\n",
       "   'humidity': 78,\n",
       "   'dew_point': 11.81,\n",
       "   'wind_speed': 5.27,\n",
       "   'wind_deg': 132,\n",
       "   'wind_gust': 6.24,\n",
       "   'weather': [{'id': 500,\n",
       "     'main': 'Rain',\n",
       "     'description': 'light rain',\n",
       "     'icon': '10d'}],\n",
       "   'clouds': 83,\n",
       "   'pop': 0.51,\n",
       "   'rain': 0.71,\n",
       "   'uvi': 5.46},\n",
       "  {'dt': 1716033600,\n",
       "   'sunrise': 1716006064,\n",
       "   'sunset': 1716061450,\n",
       "   'moonrise': 1716042480,\n",
       "   'moonset': 1715998920,\n",
       "   'moon_phase': 0.34,\n",
       "   'summary': 'Expect a day of partly cloudy with rain',\n",
       "   'temp': {'day': 17.78,\n",
       "    'min': 10.27,\n",
       "    'max': 17.78,\n",
       "    'night': 12.13,\n",
       "    'eve': 15.6,\n",
       "    'morn': 11.37},\n",
       "   'feels_like': {'day': 17.39, 'night': 11.85, 'eve': 15.46, 'morn': 10.99},\n",
       "   'pressure': 1011,\n",
       "   'humidity': 68,\n",
       "   'dew_point': 11.6,\n",
       "   'wind_speed': 4.07,\n",
       "   'wind_deg': 356,\n",
       "   'wind_gust': 6.14,\n",
       "   'weather': [{'id': 500,\n",
       "     'main': 'Rain',\n",
       "     'description': 'light rain',\n",
       "     'icon': '10d'}],\n",
       "   'clouds': 100,\n",
       "   'pop': 1,\n",
       "   'rain': 4.08,\n",
       "   'uvi': 6},\n",
       "  {'dt': 1716120000,\n",
       "   'sunrise': 1716092393,\n",
       "   'sunset': 1716147927,\n",
       "   'moonrise': 1716132900,\n",
       "   'moonset': 1716086100,\n",
       "   'moon_phase': 0.37,\n",
       "   'summary': 'Expect a day of partly cloudy with rain',\n",
       "   'temp': {'day': 16.55,\n",
       "    'min': 9.84,\n",
       "    'max': 16.55,\n",
       "    'night': 13.06,\n",
       "    'eve': 14.75,\n",
       "    'morn': 11.25},\n",
       "   'feels_like': {'day': 16.35, 'night': 12.85, 'eve': 14.55, 'morn': 10.81},\n",
       "   'pressure': 1009,\n",
       "   'humidity': 80,\n",
       "   'dew_point': 12.95,\n",
       "   'wind_speed': 3.16,\n",
       "   'wind_deg': 310,\n",
       "   'wind_gust': 3.46,\n",
       "   'weather': [{'id': 500,\n",
       "     'main': 'Rain',\n",
       "     'description': 'light rain',\n",
       "     'icon': '10d'}],\n",
       "   'clouds': 39,\n",
       "   'pop': 0.97,\n",
       "   'rain': 3.24,\n",
       "   'uvi': 6},\n",
       "  {'dt': 1716206400,\n",
       "   'sunrise': 1716178725,\n",
       "   'sunset': 1716234403,\n",
       "   'moonrise': 1716223380,\n",
       "   'moonset': 1716173220,\n",
       "   'moon_phase': 0.4,\n",
       "   'summary': 'Expect a day of partly cloudy with rain',\n",
       "   'temp': {'day': 17.33,\n",
       "    'min': 10.5,\n",
       "    'max': 17.41,\n",
       "    'night': 11.99,\n",
       "    'eve': 15.6,\n",
       "    'morn': 11.82},\n",
       "   'feels_like': {'day': 17.05, 'night': 11.59, 'eve': 15.43, 'morn': 11.49},\n",
       "   'pressure': 1008,\n",
       "   'humidity': 74,\n",
       "   'dew_point': 12.28,\n",
       "   'wind_speed': 2.75,\n",
       "   'wind_deg': 324,\n",
       "   'wind_gust': 3.18,\n",
       "   'weather': [{'id': 500,\n",
       "     'main': 'Rain',\n",
       "     'description': 'light rain',\n",
       "     'icon': '10d'}],\n",
       "   'clouds': 34,\n",
       "   'pop': 1,\n",
       "   'rain': 4.8,\n",
       "   'uvi': 6}]}"
      ]
     },
     "execution_count": 15,
     "metadata": {},
     "output_type": "execute_result"
    }
   ],
   "source": [
    "# Display data for one city to see the structure\n",
    "weather[0]"
   ]
  },
  {
   "cell_type": "markdown",
   "metadata": {},
   "source": [
    "I will consider that avoiding rain is important for holidays so it will be my main criteria to determine the best cities. I will focus on \"pop\" value : probability of precipitation. The values of the parameter vary between 0 and 1, where 0 is equal to 0%, 1 is equal to 100%.\n",
    "Then, I will keep the cities with the warmest temperatures (feels_like : this accounts for the human perception of weather)"
   ]
  },
  {
   "cell_type": "code",
   "execution_count": 16,
   "metadata": {},
   "outputs": [
    {
     "name": "stdout",
     "output_type": "stream",
     "text": [
      "Got 35 rain probabilities\n",
      "Got 35 temperatures\n"
     ]
    }
   ],
   "source": [
    "# Calculate the median of the rain probability for the next 7 days\n",
    "temp_global = []\n",
    "rain_global = []\n",
    "\n",
    "for data in weather.values():\n",
    "    daily_temp = np.mean([daily_data['feels_like']['day'] for daily_data in data['daily']])\n",
    "    temp_global.append(daily_temp)\n",
    "\n",
    "    daily_rain = np.median([daily_data['pop'] for daily_data in data['daily']])\n",
    "    rain_global.append(daily_rain)\n",
    "\n",
    "# Ensure we have only 35 results\n",
    "print(f\"Got {len(rain_global)} rain probabilities\")\n",
    "print(f\"Got {len(temp_global)} temperatures\")"
   ]
  },
  {
   "cell_type": "code",
   "execution_count": 17,
   "metadata": {},
   "outputs": [],
   "source": [
    "# Add data to the dataframe\n",
    "df[\"rain_probability\"] = rain_global\n",
    "df[\"temperature\"] = temp_global"
   ]
  },
  {
   "cell_type": "code",
   "execution_count": 18,
   "metadata": {},
   "outputs": [
    {
     "data": {
      "application/vnd.plotly.v1+json": {
       "config": {
        "plotlyServerURL": "https://plot.ly"
       },
       "data": [
        {
         "hovertemplate": "temperature=%{marker.color}<br>city_lat=%{lat}<br>city_lon=%{lon}<extra></extra>",
         "lat": [
          48.6359541,
          48.649518,
          49.2764624,
          49.4938975,
          49.4404591,
          48.8534951,
          49.8941708,
          50.6365654,
          48.584614,
          48.2495226,
          48.0777517,
          48.0447968,
          47.2380222,
          47.3215806,
          45.8992348,
          45.1875602,
          45.7578137,
          43.7496562,
          43.1506968,
          43.2140359,
          43.2961743,
          43.5298424,
          43.9492493,
          44.0121279,
          43.8374249,
          43.5661521,
          43.4515922,
          42.52505,
          43.2130358,
          42.8458016,
          43.6044622,
          44.0175835,
          43.4832523,
          43.4945144,
          46.1591126
         ],
         "legendgroup": "",
         "lon": [
          -1.511459954959514,
          -2.0260409,
          -0.7024738,
          0.1079732,
          1.0939658,
          2.3483915,
          2.2956951,
          3.0635282,
          7.7507127,
          7.3454923,
          7.3579641,
          7.3079618,
          6.0243622,
          5.0414701,
          6.1288847,
          5.7357819,
          4.8320114,
          6.3285616,
          6.3419285,
          5.5396318,
          5.3699525,
          5.4474738,
          4.8059012,
          4.4196718,
          4.3600687,
          4.19154,
          4.4277202,
          3.0831554,
          2.3491069,
          1.6067586,
          1.4442469,
          1.3549991,
          -1.5592776,
          -1.4736657,
          -1.1520434
         ],
         "marker": {
          "color": [
           16.003750000000004,
           15.19375,
           16.03125,
           14.9275,
           16.3025,
           17.855,
           16.60125,
           16.50875,
           19.03125,
           16.765,
           19.975,
           19.71,
           17.252499999999998,
           16.240000000000002,
           16.93625,
           19.1,
           17.6625,
           14.215,
           18.08625,
           18.58625,
           19.4,
           20.14125,
           20.536250000000003,
           18.52,
           19.27375,
           17.816249999999997,
           17.73125,
           18.92,
           18.4125,
           15.35875,
           16.791249999999998,
           17.37,
           15.9825,
           16.564999999999998,
           15.568750000000001
          ],
          "coloraxis": "coloraxis",
          "size": [
           16.003750000000004,
           15.19375,
           16.03125,
           14.9275,
           16.3025,
           17.855,
           16.60125,
           16.50875,
           19.03125,
           16.765,
           19.975,
           19.71,
           17.252499999999998,
           16.240000000000002,
           16.93625,
           19.1,
           17.6625,
           14.215,
           18.08625,
           18.58625,
           19.4,
           20.14125,
           20.536250000000003,
           18.52,
           19.27375,
           17.816249999999997,
           17.73125,
           18.92,
           18.4125,
           15.35875,
           16.791249999999998,
           17.37,
           15.9825,
           16.564999999999998,
           15.568750000000001
          ],
          "sizemode": "area",
          "sizeref": 0.032858000000000005
         },
         "mode": "markers",
         "name": "",
         "showlegend": false,
         "subplot": "mapbox",
         "type": "scattermapbox"
        }
       ],
       "layout": {
        "coloraxis": {
         "colorbar": {
          "title": {
           "text": "temperature"
          }
         },
         "colorscale": [
          [
           0,
           "rgb(0,0,255)"
          ],
          [
           1,
           "rgb(255,0,0)"
          ]
         ]
        },
        "height": 800,
        "legend": {
         "itemsizing": "constant",
         "tracegroupgap": 0
        },
        "mapbox": {
         "center": {
          "lat": 46.603354,
          "lon": 1.888334
         },
         "domain": {
          "x": [
           0,
           1
          ],
          "y": [
           0,
           1
          ]
         },
         "style": "carto-positron",
         "zoom": 5
        },
        "margin": {
         "t": 60
        },
        "template": {
         "data": {
          "bar": [
           {
            "error_x": {
             "color": "#2a3f5f"
            },
            "error_y": {
             "color": "#2a3f5f"
            },
            "marker": {
             "line": {
              "color": "#E5ECF6",
              "width": 0.5
             },
             "pattern": {
              "fillmode": "overlay",
              "size": 10,
              "solidity": 0.2
             }
            },
            "type": "bar"
           }
          ],
          "barpolar": [
           {
            "marker": {
             "line": {
              "color": "#E5ECF6",
              "width": 0.5
             },
             "pattern": {
              "fillmode": "overlay",
              "size": 10,
              "solidity": 0.2
             }
            },
            "type": "barpolar"
           }
          ],
          "carpet": [
           {
            "aaxis": {
             "endlinecolor": "#2a3f5f",
             "gridcolor": "white",
             "linecolor": "white",
             "minorgridcolor": "white",
             "startlinecolor": "#2a3f5f"
            },
            "baxis": {
             "endlinecolor": "#2a3f5f",
             "gridcolor": "white",
             "linecolor": "white",
             "minorgridcolor": "white",
             "startlinecolor": "#2a3f5f"
            },
            "type": "carpet"
           }
          ],
          "choropleth": [
           {
            "colorbar": {
             "outlinewidth": 0,
             "ticks": ""
            },
            "type": "choropleth"
           }
          ],
          "contour": [
           {
            "colorbar": {
             "outlinewidth": 0,
             "ticks": ""
            },
            "colorscale": [
             [
              0,
              "#0d0887"
             ],
             [
              0.1111111111111111,
              "#46039f"
             ],
             [
              0.2222222222222222,
              "#7201a8"
             ],
             [
              0.3333333333333333,
              "#9c179e"
             ],
             [
              0.4444444444444444,
              "#bd3786"
             ],
             [
              0.5555555555555556,
              "#d8576b"
             ],
             [
              0.6666666666666666,
              "#ed7953"
             ],
             [
              0.7777777777777778,
              "#fb9f3a"
             ],
             [
              0.8888888888888888,
              "#fdca26"
             ],
             [
              1,
              "#f0f921"
             ]
            ],
            "type": "contour"
           }
          ],
          "contourcarpet": [
           {
            "colorbar": {
             "outlinewidth": 0,
             "ticks": ""
            },
            "type": "contourcarpet"
           }
          ],
          "heatmap": [
           {
            "colorbar": {
             "outlinewidth": 0,
             "ticks": ""
            },
            "colorscale": [
             [
              0,
              "#0d0887"
             ],
             [
              0.1111111111111111,
              "#46039f"
             ],
             [
              0.2222222222222222,
              "#7201a8"
             ],
             [
              0.3333333333333333,
              "#9c179e"
             ],
             [
              0.4444444444444444,
              "#bd3786"
             ],
             [
              0.5555555555555556,
              "#d8576b"
             ],
             [
              0.6666666666666666,
              "#ed7953"
             ],
             [
              0.7777777777777778,
              "#fb9f3a"
             ],
             [
              0.8888888888888888,
              "#fdca26"
             ],
             [
              1,
              "#f0f921"
             ]
            ],
            "type": "heatmap"
           }
          ],
          "heatmapgl": [
           {
            "colorbar": {
             "outlinewidth": 0,
             "ticks": ""
            },
            "colorscale": [
             [
              0,
              "#0d0887"
             ],
             [
              0.1111111111111111,
              "#46039f"
             ],
             [
              0.2222222222222222,
              "#7201a8"
             ],
             [
              0.3333333333333333,
              "#9c179e"
             ],
             [
              0.4444444444444444,
              "#bd3786"
             ],
             [
              0.5555555555555556,
              "#d8576b"
             ],
             [
              0.6666666666666666,
              "#ed7953"
             ],
             [
              0.7777777777777778,
              "#fb9f3a"
             ],
             [
              0.8888888888888888,
              "#fdca26"
             ],
             [
              1,
              "#f0f921"
             ]
            ],
            "type": "heatmapgl"
           }
          ],
          "histogram": [
           {
            "marker": {
             "pattern": {
              "fillmode": "overlay",
              "size": 10,
              "solidity": 0.2
             }
            },
            "type": "histogram"
           }
          ],
          "histogram2d": [
           {
            "colorbar": {
             "outlinewidth": 0,
             "ticks": ""
            },
            "colorscale": [
             [
              0,
              "#0d0887"
             ],
             [
              0.1111111111111111,
              "#46039f"
             ],
             [
              0.2222222222222222,
              "#7201a8"
             ],
             [
              0.3333333333333333,
              "#9c179e"
             ],
             [
              0.4444444444444444,
              "#bd3786"
             ],
             [
              0.5555555555555556,
              "#d8576b"
             ],
             [
              0.6666666666666666,
              "#ed7953"
             ],
             [
              0.7777777777777778,
              "#fb9f3a"
             ],
             [
              0.8888888888888888,
              "#fdca26"
             ],
             [
              1,
              "#f0f921"
             ]
            ],
            "type": "histogram2d"
           }
          ],
          "histogram2dcontour": [
           {
            "colorbar": {
             "outlinewidth": 0,
             "ticks": ""
            },
            "colorscale": [
             [
              0,
              "#0d0887"
             ],
             [
              0.1111111111111111,
              "#46039f"
             ],
             [
              0.2222222222222222,
              "#7201a8"
             ],
             [
              0.3333333333333333,
              "#9c179e"
             ],
             [
              0.4444444444444444,
              "#bd3786"
             ],
             [
              0.5555555555555556,
              "#d8576b"
             ],
             [
              0.6666666666666666,
              "#ed7953"
             ],
             [
              0.7777777777777778,
              "#fb9f3a"
             ],
             [
              0.8888888888888888,
              "#fdca26"
             ],
             [
              1,
              "#f0f921"
             ]
            ],
            "type": "histogram2dcontour"
           }
          ],
          "mesh3d": [
           {
            "colorbar": {
             "outlinewidth": 0,
             "ticks": ""
            },
            "type": "mesh3d"
           }
          ],
          "parcoords": [
           {
            "line": {
             "colorbar": {
              "outlinewidth": 0,
              "ticks": ""
             }
            },
            "type": "parcoords"
           }
          ],
          "pie": [
           {
            "automargin": true,
            "type": "pie"
           }
          ],
          "scatter": [
           {
            "fillpattern": {
             "fillmode": "overlay",
             "size": 10,
             "solidity": 0.2
            },
            "type": "scatter"
           }
          ],
          "scatter3d": [
           {
            "line": {
             "colorbar": {
              "outlinewidth": 0,
              "ticks": ""
             }
            },
            "marker": {
             "colorbar": {
              "outlinewidth": 0,
              "ticks": ""
             }
            },
            "type": "scatter3d"
           }
          ],
          "scattercarpet": [
           {
            "marker": {
             "colorbar": {
              "outlinewidth": 0,
              "ticks": ""
             }
            },
            "type": "scattercarpet"
           }
          ],
          "scattergeo": [
           {
            "marker": {
             "colorbar": {
              "outlinewidth": 0,
              "ticks": ""
             }
            },
            "type": "scattergeo"
           }
          ],
          "scattergl": [
           {
            "marker": {
             "colorbar": {
              "outlinewidth": 0,
              "ticks": ""
             }
            },
            "type": "scattergl"
           }
          ],
          "scattermapbox": [
           {
            "marker": {
             "colorbar": {
              "outlinewidth": 0,
              "ticks": ""
             }
            },
            "type": "scattermapbox"
           }
          ],
          "scatterpolar": [
           {
            "marker": {
             "colorbar": {
              "outlinewidth": 0,
              "ticks": ""
             }
            },
            "type": "scatterpolar"
           }
          ],
          "scatterpolargl": [
           {
            "marker": {
             "colorbar": {
              "outlinewidth": 0,
              "ticks": ""
             }
            },
            "type": "scatterpolargl"
           }
          ],
          "scatterternary": [
           {
            "marker": {
             "colorbar": {
              "outlinewidth": 0,
              "ticks": ""
             }
            },
            "type": "scatterternary"
           }
          ],
          "surface": [
           {
            "colorbar": {
             "outlinewidth": 0,
             "ticks": ""
            },
            "colorscale": [
             [
              0,
              "#0d0887"
             ],
             [
              0.1111111111111111,
              "#46039f"
             ],
             [
              0.2222222222222222,
              "#7201a8"
             ],
             [
              0.3333333333333333,
              "#9c179e"
             ],
             [
              0.4444444444444444,
              "#bd3786"
             ],
             [
              0.5555555555555556,
              "#d8576b"
             ],
             [
              0.6666666666666666,
              "#ed7953"
             ],
             [
              0.7777777777777778,
              "#fb9f3a"
             ],
             [
              0.8888888888888888,
              "#fdca26"
             ],
             [
              1,
              "#f0f921"
             ]
            ],
            "type": "surface"
           }
          ],
          "table": [
           {
            "cells": {
             "fill": {
              "color": "#EBF0F8"
             },
             "line": {
              "color": "white"
             }
            },
            "header": {
             "fill": {
              "color": "#C8D4E3"
             },
             "line": {
              "color": "white"
             }
            },
            "type": "table"
           }
          ]
         },
         "layout": {
          "annotationdefaults": {
           "arrowcolor": "#2a3f5f",
           "arrowhead": 0,
           "arrowwidth": 1
          },
          "autotypenumbers": "strict",
          "coloraxis": {
           "colorbar": {
            "outlinewidth": 0,
            "ticks": ""
           }
          },
          "colorscale": {
           "diverging": [
            [
             0,
             "#8e0152"
            ],
            [
             0.1,
             "#c51b7d"
            ],
            [
             0.2,
             "#de77ae"
            ],
            [
             0.3,
             "#f1b6da"
            ],
            [
             0.4,
             "#fde0ef"
            ],
            [
             0.5,
             "#f7f7f7"
            ],
            [
             0.6,
             "#e6f5d0"
            ],
            [
             0.7,
             "#b8e186"
            ],
            [
             0.8,
             "#7fbc41"
            ],
            [
             0.9,
             "#4d9221"
            ],
            [
             1,
             "#276419"
            ]
           ],
           "sequential": [
            [
             0,
             "#0d0887"
            ],
            [
             0.1111111111111111,
             "#46039f"
            ],
            [
             0.2222222222222222,
             "#7201a8"
            ],
            [
             0.3333333333333333,
             "#9c179e"
            ],
            [
             0.4444444444444444,
             "#bd3786"
            ],
            [
             0.5555555555555556,
             "#d8576b"
            ],
            [
             0.6666666666666666,
             "#ed7953"
            ],
            [
             0.7777777777777778,
             "#fb9f3a"
            ],
            [
             0.8888888888888888,
             "#fdca26"
            ],
            [
             1,
             "#f0f921"
            ]
           ],
           "sequentialminus": [
            [
             0,
             "#0d0887"
            ],
            [
             0.1111111111111111,
             "#46039f"
            ],
            [
             0.2222222222222222,
             "#7201a8"
            ],
            [
             0.3333333333333333,
             "#9c179e"
            ],
            [
             0.4444444444444444,
             "#bd3786"
            ],
            [
             0.5555555555555556,
             "#d8576b"
            ],
            [
             0.6666666666666666,
             "#ed7953"
            ],
            [
             0.7777777777777778,
             "#fb9f3a"
            ],
            [
             0.8888888888888888,
             "#fdca26"
            ],
            [
             1,
             "#f0f921"
            ]
           ]
          },
          "colorway": [
           "#636efa",
           "#EF553B",
           "#00cc96",
           "#ab63fa",
           "#FFA15A",
           "#19d3f3",
           "#FF6692",
           "#B6E880",
           "#FF97FF",
           "#FECB52"
          ],
          "font": {
           "color": "#2a3f5f"
          },
          "geo": {
           "bgcolor": "white",
           "lakecolor": "white",
           "landcolor": "#E5ECF6",
           "showlakes": true,
           "showland": true,
           "subunitcolor": "white"
          },
          "hoverlabel": {
           "align": "left"
          },
          "hovermode": "closest",
          "mapbox": {
           "style": "light"
          },
          "paper_bgcolor": "white",
          "plot_bgcolor": "#E5ECF6",
          "polar": {
           "angularaxis": {
            "gridcolor": "white",
            "linecolor": "white",
            "ticks": ""
           },
           "bgcolor": "#E5ECF6",
           "radialaxis": {
            "gridcolor": "white",
            "linecolor": "white",
            "ticks": ""
           }
          },
          "scene": {
           "xaxis": {
            "backgroundcolor": "#E5ECF6",
            "gridcolor": "white",
            "gridwidth": 2,
            "linecolor": "white",
            "showbackground": true,
            "ticks": "",
            "zerolinecolor": "white"
           },
           "yaxis": {
            "backgroundcolor": "#E5ECF6",
            "gridcolor": "white",
            "gridwidth": 2,
            "linecolor": "white",
            "showbackground": true,
            "ticks": "",
            "zerolinecolor": "white"
           },
           "zaxis": {
            "backgroundcolor": "#E5ECF6",
            "gridcolor": "white",
            "gridwidth": 2,
            "linecolor": "white",
            "showbackground": true,
            "ticks": "",
            "zerolinecolor": "white"
           }
          },
          "shapedefaults": {
           "line": {
            "color": "#2a3f5f"
           }
          },
          "ternary": {
           "aaxis": {
            "gridcolor": "white",
            "linecolor": "white",
            "ticks": ""
           },
           "baxis": {
            "gridcolor": "white",
            "linecolor": "white",
            "ticks": ""
           },
           "bgcolor": "#E5ECF6",
           "caxis": {
            "gridcolor": "white",
            "linecolor": "white",
            "ticks": ""
           }
          },
          "title": {
           "x": 0.05
          },
          "xaxis": {
           "automargin": true,
           "gridcolor": "white",
           "linecolor": "white",
           "ticks": "",
           "title": {
            "standoff": 15
           },
           "zerolinecolor": "white",
           "zerolinewidth": 2
          },
          "yaxis": {
           "automargin": true,
           "gridcolor": "white",
           "linecolor": "white",
           "ticks": "",
           "title": {
            "standoff": 15
           },
           "zerolinecolor": "white",
           "zerolinewidth": 2
          }
         }
        },
        "title": {
         "text": "Temperature in the 35 cities for the next 7 days",
         "x": 0.5
        },
        "width": 800
       }
      }
     },
     "metadata": {},
     "output_type": "display_data"
    }
   ],
   "source": [
    "# Display weather for 35 cities : temperature and rain probability\n",
    "fig_weather = px.scatter_mapbox(\n",
    "    df,\n",
    "    lat=\"city_lat\", \n",
    "    lon=\"city_lon\", \n",
    "    color=\"temperature\", \n",
    "    size=\"temperature\",\n",
    "    mapbox_style='carto-positron',\n",
    "    color_continuous_scale=px.colors.sequential.Bluered,\n",
    "    size_max=25,\n",
    "    zoom=5, \n",
    "    width=800, \n",
    "    height=800,\n",
    "    center={\"lat\": 46.603354, \"lon\": 1.888334}\n",
    ")\n",
    "\n",
    "fig_weather.update_layout(\n",
    "    title=\"Temperature in the 35 cities for the next 7 days\",\n",
    "    title_x = 0.5\n",
    "    )\n",
    "\n",
    "fig_weather.show()"
   ]
  },
  {
   "cell_type": "code",
   "execution_count": 19,
   "metadata": {},
   "outputs": [
    {
     "data": {
      "application/vnd.plotly.v1+json": {
       "config": {
        "plotlyServerURL": "https://plot.ly"
       },
       "data": [
        {
         "hovertemplate": "temperature=%{marker.color}<br>city_lat=%{lat}<br>city_lon=%{lon}<extra></extra>",
         "lat": [
          43.9492493,
          42.52505,
          43.2140359,
          44.0121279,
          43.1506968
         ],
         "legendgroup": "",
         "lon": [
          4.8059012,
          3.0831554,
          5.5396318,
          4.4196718,
          6.3419285
         ],
         "marker": {
          "color": [
           20.536250000000003,
           18.92,
           18.58625,
           18.52,
           18.08625
          ],
          "coloraxis": "coloraxis",
          "size": [
           20.536250000000003,
           18.92,
           18.58625,
           18.52,
           18.08625
          ],
          "sizemode": "area",
          "sizeref": 0.032858000000000005
         },
         "mode": "markers",
         "name": "",
         "showlegend": false,
         "subplot": "mapbox",
         "type": "scattermapbox"
        }
       ],
       "layout": {
        "coloraxis": {
         "colorbar": {
          "title": {
           "text": "temperature"
          }
         },
         "colorscale": [
          [
           0,
           "rgb(0,0,255)"
          ],
          [
           1,
           "rgb(255,0,0)"
          ]
         ]
        },
        "height": 800,
        "legend": {
         "itemsizing": "constant",
         "tracegroupgap": 0
        },
        "mapbox": {
         "center": {
          "lat": 46.603354,
          "lon": 1.888334
         },
         "domain": {
          "x": [
           0,
           1
          ],
          "y": [
           0,
           1
          ]
         },
         "style": "carto-positron",
         "zoom": 5
        },
        "margin": {
         "t": 60
        },
        "template": {
         "data": {
          "bar": [
           {
            "error_x": {
             "color": "#2a3f5f"
            },
            "error_y": {
             "color": "#2a3f5f"
            },
            "marker": {
             "line": {
              "color": "#E5ECF6",
              "width": 0.5
             },
             "pattern": {
              "fillmode": "overlay",
              "size": 10,
              "solidity": 0.2
             }
            },
            "type": "bar"
           }
          ],
          "barpolar": [
           {
            "marker": {
             "line": {
              "color": "#E5ECF6",
              "width": 0.5
             },
             "pattern": {
              "fillmode": "overlay",
              "size": 10,
              "solidity": 0.2
             }
            },
            "type": "barpolar"
           }
          ],
          "carpet": [
           {
            "aaxis": {
             "endlinecolor": "#2a3f5f",
             "gridcolor": "white",
             "linecolor": "white",
             "minorgridcolor": "white",
             "startlinecolor": "#2a3f5f"
            },
            "baxis": {
             "endlinecolor": "#2a3f5f",
             "gridcolor": "white",
             "linecolor": "white",
             "minorgridcolor": "white",
             "startlinecolor": "#2a3f5f"
            },
            "type": "carpet"
           }
          ],
          "choropleth": [
           {
            "colorbar": {
             "outlinewidth": 0,
             "ticks": ""
            },
            "type": "choropleth"
           }
          ],
          "contour": [
           {
            "colorbar": {
             "outlinewidth": 0,
             "ticks": ""
            },
            "colorscale": [
             [
              0,
              "#0d0887"
             ],
             [
              0.1111111111111111,
              "#46039f"
             ],
             [
              0.2222222222222222,
              "#7201a8"
             ],
             [
              0.3333333333333333,
              "#9c179e"
             ],
             [
              0.4444444444444444,
              "#bd3786"
             ],
             [
              0.5555555555555556,
              "#d8576b"
             ],
             [
              0.6666666666666666,
              "#ed7953"
             ],
             [
              0.7777777777777778,
              "#fb9f3a"
             ],
             [
              0.8888888888888888,
              "#fdca26"
             ],
             [
              1,
              "#f0f921"
             ]
            ],
            "type": "contour"
           }
          ],
          "contourcarpet": [
           {
            "colorbar": {
             "outlinewidth": 0,
             "ticks": ""
            },
            "type": "contourcarpet"
           }
          ],
          "heatmap": [
           {
            "colorbar": {
             "outlinewidth": 0,
             "ticks": ""
            },
            "colorscale": [
             [
              0,
              "#0d0887"
             ],
             [
              0.1111111111111111,
              "#46039f"
             ],
             [
              0.2222222222222222,
              "#7201a8"
             ],
             [
              0.3333333333333333,
              "#9c179e"
             ],
             [
              0.4444444444444444,
              "#bd3786"
             ],
             [
              0.5555555555555556,
              "#d8576b"
             ],
             [
              0.6666666666666666,
              "#ed7953"
             ],
             [
              0.7777777777777778,
              "#fb9f3a"
             ],
             [
              0.8888888888888888,
              "#fdca26"
             ],
             [
              1,
              "#f0f921"
             ]
            ],
            "type": "heatmap"
           }
          ],
          "heatmapgl": [
           {
            "colorbar": {
             "outlinewidth": 0,
             "ticks": ""
            },
            "colorscale": [
             [
              0,
              "#0d0887"
             ],
             [
              0.1111111111111111,
              "#46039f"
             ],
             [
              0.2222222222222222,
              "#7201a8"
             ],
             [
              0.3333333333333333,
              "#9c179e"
             ],
             [
              0.4444444444444444,
              "#bd3786"
             ],
             [
              0.5555555555555556,
              "#d8576b"
             ],
             [
              0.6666666666666666,
              "#ed7953"
             ],
             [
              0.7777777777777778,
              "#fb9f3a"
             ],
             [
              0.8888888888888888,
              "#fdca26"
             ],
             [
              1,
              "#f0f921"
             ]
            ],
            "type": "heatmapgl"
           }
          ],
          "histogram": [
           {
            "marker": {
             "pattern": {
              "fillmode": "overlay",
              "size": 10,
              "solidity": 0.2
             }
            },
            "type": "histogram"
           }
          ],
          "histogram2d": [
           {
            "colorbar": {
             "outlinewidth": 0,
             "ticks": ""
            },
            "colorscale": [
             [
              0,
              "#0d0887"
             ],
             [
              0.1111111111111111,
              "#46039f"
             ],
             [
              0.2222222222222222,
              "#7201a8"
             ],
             [
              0.3333333333333333,
              "#9c179e"
             ],
             [
              0.4444444444444444,
              "#bd3786"
             ],
             [
              0.5555555555555556,
              "#d8576b"
             ],
             [
              0.6666666666666666,
              "#ed7953"
             ],
             [
              0.7777777777777778,
              "#fb9f3a"
             ],
             [
              0.8888888888888888,
              "#fdca26"
             ],
             [
              1,
              "#f0f921"
             ]
            ],
            "type": "histogram2d"
           }
          ],
          "histogram2dcontour": [
           {
            "colorbar": {
             "outlinewidth": 0,
             "ticks": ""
            },
            "colorscale": [
             [
              0,
              "#0d0887"
             ],
             [
              0.1111111111111111,
              "#46039f"
             ],
             [
              0.2222222222222222,
              "#7201a8"
             ],
             [
              0.3333333333333333,
              "#9c179e"
             ],
             [
              0.4444444444444444,
              "#bd3786"
             ],
             [
              0.5555555555555556,
              "#d8576b"
             ],
             [
              0.6666666666666666,
              "#ed7953"
             ],
             [
              0.7777777777777778,
              "#fb9f3a"
             ],
             [
              0.8888888888888888,
              "#fdca26"
             ],
             [
              1,
              "#f0f921"
             ]
            ],
            "type": "histogram2dcontour"
           }
          ],
          "mesh3d": [
           {
            "colorbar": {
             "outlinewidth": 0,
             "ticks": ""
            },
            "type": "mesh3d"
           }
          ],
          "parcoords": [
           {
            "line": {
             "colorbar": {
              "outlinewidth": 0,
              "ticks": ""
             }
            },
            "type": "parcoords"
           }
          ],
          "pie": [
           {
            "automargin": true,
            "type": "pie"
           }
          ],
          "scatter": [
           {
            "fillpattern": {
             "fillmode": "overlay",
             "size": 10,
             "solidity": 0.2
            },
            "type": "scatter"
           }
          ],
          "scatter3d": [
           {
            "line": {
             "colorbar": {
              "outlinewidth": 0,
              "ticks": ""
             }
            },
            "marker": {
             "colorbar": {
              "outlinewidth": 0,
              "ticks": ""
             }
            },
            "type": "scatter3d"
           }
          ],
          "scattercarpet": [
           {
            "marker": {
             "colorbar": {
              "outlinewidth": 0,
              "ticks": ""
             }
            },
            "type": "scattercarpet"
           }
          ],
          "scattergeo": [
           {
            "marker": {
             "colorbar": {
              "outlinewidth": 0,
              "ticks": ""
             }
            },
            "type": "scattergeo"
           }
          ],
          "scattergl": [
           {
            "marker": {
             "colorbar": {
              "outlinewidth": 0,
              "ticks": ""
             }
            },
            "type": "scattergl"
           }
          ],
          "scattermapbox": [
           {
            "marker": {
             "colorbar": {
              "outlinewidth": 0,
              "ticks": ""
             }
            },
            "type": "scattermapbox"
           }
          ],
          "scatterpolar": [
           {
            "marker": {
             "colorbar": {
              "outlinewidth": 0,
              "ticks": ""
             }
            },
            "type": "scatterpolar"
           }
          ],
          "scatterpolargl": [
           {
            "marker": {
             "colorbar": {
              "outlinewidth": 0,
              "ticks": ""
             }
            },
            "type": "scatterpolargl"
           }
          ],
          "scatterternary": [
           {
            "marker": {
             "colorbar": {
              "outlinewidth": 0,
              "ticks": ""
             }
            },
            "type": "scatterternary"
           }
          ],
          "surface": [
           {
            "colorbar": {
             "outlinewidth": 0,
             "ticks": ""
            },
            "colorscale": [
             [
              0,
              "#0d0887"
             ],
             [
              0.1111111111111111,
              "#46039f"
             ],
             [
              0.2222222222222222,
              "#7201a8"
             ],
             [
              0.3333333333333333,
              "#9c179e"
             ],
             [
              0.4444444444444444,
              "#bd3786"
             ],
             [
              0.5555555555555556,
              "#d8576b"
             ],
             [
              0.6666666666666666,
              "#ed7953"
             ],
             [
              0.7777777777777778,
              "#fb9f3a"
             ],
             [
              0.8888888888888888,
              "#fdca26"
             ],
             [
              1,
              "#f0f921"
             ]
            ],
            "type": "surface"
           }
          ],
          "table": [
           {
            "cells": {
             "fill": {
              "color": "#EBF0F8"
             },
             "line": {
              "color": "white"
             }
            },
            "header": {
             "fill": {
              "color": "#C8D4E3"
             },
             "line": {
              "color": "white"
             }
            },
            "type": "table"
           }
          ]
         },
         "layout": {
          "annotationdefaults": {
           "arrowcolor": "#2a3f5f",
           "arrowhead": 0,
           "arrowwidth": 1
          },
          "autotypenumbers": "strict",
          "coloraxis": {
           "colorbar": {
            "outlinewidth": 0,
            "ticks": ""
           }
          },
          "colorscale": {
           "diverging": [
            [
             0,
             "#8e0152"
            ],
            [
             0.1,
             "#c51b7d"
            ],
            [
             0.2,
             "#de77ae"
            ],
            [
             0.3,
             "#f1b6da"
            ],
            [
             0.4,
             "#fde0ef"
            ],
            [
             0.5,
             "#f7f7f7"
            ],
            [
             0.6,
             "#e6f5d0"
            ],
            [
             0.7,
             "#b8e186"
            ],
            [
             0.8,
             "#7fbc41"
            ],
            [
             0.9,
             "#4d9221"
            ],
            [
             1,
             "#276419"
            ]
           ],
           "sequential": [
            [
             0,
             "#0d0887"
            ],
            [
             0.1111111111111111,
             "#46039f"
            ],
            [
             0.2222222222222222,
             "#7201a8"
            ],
            [
             0.3333333333333333,
             "#9c179e"
            ],
            [
             0.4444444444444444,
             "#bd3786"
            ],
            [
             0.5555555555555556,
             "#d8576b"
            ],
            [
             0.6666666666666666,
             "#ed7953"
            ],
            [
             0.7777777777777778,
             "#fb9f3a"
            ],
            [
             0.8888888888888888,
             "#fdca26"
            ],
            [
             1,
             "#f0f921"
            ]
           ],
           "sequentialminus": [
            [
             0,
             "#0d0887"
            ],
            [
             0.1111111111111111,
             "#46039f"
            ],
            [
             0.2222222222222222,
             "#7201a8"
            ],
            [
             0.3333333333333333,
             "#9c179e"
            ],
            [
             0.4444444444444444,
             "#bd3786"
            ],
            [
             0.5555555555555556,
             "#d8576b"
            ],
            [
             0.6666666666666666,
             "#ed7953"
            ],
            [
             0.7777777777777778,
             "#fb9f3a"
            ],
            [
             0.8888888888888888,
             "#fdca26"
            ],
            [
             1,
             "#f0f921"
            ]
           ]
          },
          "colorway": [
           "#636efa",
           "#EF553B",
           "#00cc96",
           "#ab63fa",
           "#FFA15A",
           "#19d3f3",
           "#FF6692",
           "#B6E880",
           "#FF97FF",
           "#FECB52"
          ],
          "font": {
           "color": "#2a3f5f"
          },
          "geo": {
           "bgcolor": "white",
           "lakecolor": "white",
           "landcolor": "#E5ECF6",
           "showlakes": true,
           "showland": true,
           "subunitcolor": "white"
          },
          "hoverlabel": {
           "align": "left"
          },
          "hovermode": "closest",
          "mapbox": {
           "style": "light"
          },
          "paper_bgcolor": "white",
          "plot_bgcolor": "#E5ECF6",
          "polar": {
           "angularaxis": {
            "gridcolor": "white",
            "linecolor": "white",
            "ticks": ""
           },
           "bgcolor": "#E5ECF6",
           "radialaxis": {
            "gridcolor": "white",
            "linecolor": "white",
            "ticks": ""
           }
          },
          "scene": {
           "xaxis": {
            "backgroundcolor": "#E5ECF6",
            "gridcolor": "white",
            "gridwidth": 2,
            "linecolor": "white",
            "showbackground": true,
            "ticks": "",
            "zerolinecolor": "white"
           },
           "yaxis": {
            "backgroundcolor": "#E5ECF6",
            "gridcolor": "white",
            "gridwidth": 2,
            "linecolor": "white",
            "showbackground": true,
            "ticks": "",
            "zerolinecolor": "white"
           },
           "zaxis": {
            "backgroundcolor": "#E5ECF6",
            "gridcolor": "white",
            "gridwidth": 2,
            "linecolor": "white",
            "showbackground": true,
            "ticks": "",
            "zerolinecolor": "white"
           }
          },
          "shapedefaults": {
           "line": {
            "color": "#2a3f5f"
           }
          },
          "ternary": {
           "aaxis": {
            "gridcolor": "white",
            "linecolor": "white",
            "ticks": ""
           },
           "baxis": {
            "gridcolor": "white",
            "linecolor": "white",
            "ticks": ""
           },
           "bgcolor": "#E5ECF6",
           "caxis": {
            "gridcolor": "white",
            "linecolor": "white",
            "ticks": ""
           }
          },
          "title": {
           "x": 0.05
          },
          "xaxis": {
           "automargin": true,
           "gridcolor": "white",
           "linecolor": "white",
           "ticks": "",
           "title": {
            "standoff": 15
           },
           "zerolinecolor": "white",
           "zerolinewidth": 2
          },
          "yaxis": {
           "automargin": true,
           "gridcolor": "white",
           "linecolor": "white",
           "ticks": "",
           "title": {
            "standoff": 15
           },
           "zerolinecolor": "white",
           "zerolinewidth": 2
          }
         }
        },
        "title": {
         "text": "Top 5 destinations in France for the next 7 days",
         "x": 0.5
        },
        "width": 800
       }
      }
     },
     "metadata": {},
     "output_type": "display_data"
    }
   ],
   "source": [
    "# Filter our dataframe to have the 5 cities with less rain in the next days\n",
    "df_top5 = df[df[\"rain_probability\"] <= 0.9].nlargest(5, \"temperature\")\n",
    "\n",
    "# Display top5 destinations on a map with Plotly\n",
    "fig = px.scatter_mapbox(\n",
    "    df_top5, \n",
    "    lat=\"city_lat\", \n",
    "    lon=\"city_lon\", \n",
    "    color=\"temperature\", \n",
    "    size=\"temperature\", \n",
    "    mapbox_style='carto-positron',\n",
    "    color_continuous_scale=px.colors.sequential.Bluered,\n",
    "    size_max=25, \n",
    "    zoom=5, \n",
    "    width=800, \n",
    "    height=800,\n",
    "    center={\"lat\": 46.603354, \"lon\": 1.888334}\n",
    ")\n",
    "\n",
    "fig.update_layout(\n",
    "    title=\"Top 5 destinations in France for the next 7 days\",\n",
    "    title_x = 0.5\n",
    "    )\n",
    "\n",
    "fig.show()"
   ]
  },
  {
   "cell_type": "code",
   "execution_count": 20,
   "metadata": {},
   "outputs": [],
   "source": [
    "# Save the cities list to csv, to be accessed by the scrapy spider. Remove any file with the same name\n",
    "cities_list = 'cities_list.csv'\n",
    "\n",
    "if cities_list in os.listdir():\n",
    "        os.remove(cities_list)\n",
    "        \n",
    "df_top5[['city_id', 'city']].to_csv('data/cities_list.csv', header=False, index=False)"
   ]
  },
  {
   "cell_type": "markdown",
   "metadata": {},
   "source": [
    "## Scrape Booking : get hotels information for the top5 cities"
   ]
  },
  {
   "cell_type": "code",
   "execution_count": 21,
   "metadata": {},
   "outputs": [
    {
     "name": "stderr",
     "output_type": "stream",
     "text": [
      "2024-05-13 15:06:42 [scrapy.utils.log] INFO: Scrapy 2.8.0 started (bot: scrapybot)\n",
      "2024-05-13 15:06:42 [scrapy.utils.log] INFO: Versions: lxml 4.9.3.0, libxml2 2.10.4, cssselect 1.1.0, parsel 1.6.0, w3lib 1.21.0, Twisted 22.10.0, Python 3.11.5 | packaged by Anaconda, Inc. | (main, Sep 11 2023, 13:26:23) [MSC v.1916 64 bit (AMD64)], pyOpenSSL 23.2.0 (OpenSSL 3.0.13 30 Jan 2024), cryptography 41.0.3, Platform Windows-10-10.0.19045-SP0\n",
      "2024-05-13 15:06:42 [scrapy.crawler] INFO: Overridden settings:\n",
      "{'AUTOTHROTTLE_ENABLED': True, 'LOG_LEVEL': 20, 'USER_AGENT': 'Chrome/124.0'}\n",
      "2024-05-13 15:06:42 [py.warnings] WARNING: s:\\Logiciels\\anaconda3\\Lib\\site-packages\\scrapy\\utils\\request.py:232: ScrapyDeprecationWarning: '2.6' is a deprecated value for the 'REQUEST_FINGERPRINTER_IMPLEMENTATION' setting.\n",
      "\n",
      "It is also the default value. In other words, it is normal to get this warning if you have not defined a value for the 'REQUEST_FINGERPRINTER_IMPLEMENTATION' setting. This is so for backward compatibility reasons, but it will change in a future version of Scrapy.\n",
      "\n",
      "See the documentation of the 'REQUEST_FINGERPRINTER_IMPLEMENTATION' setting for information on how to handle this deprecation.\n",
      "  return cls(crawler)\n",
      "\n",
      "2024-05-13 15:06:42 [scrapy.extensions.telnet] INFO: Telnet Password: 346141224b5b6841\n",
      "2024-05-13 15:06:42 [scrapy.middleware] INFO: Enabled extensions:\n",
      "['scrapy.extensions.corestats.CoreStats',\n",
      " 'scrapy.extensions.telnet.TelnetConsole',\n",
      " 'scrapy.extensions.feedexport.FeedExporter',\n",
      " 'scrapy.extensions.logstats.LogStats',\n",
      " 'scrapy.extensions.throttle.AutoThrottle']\n",
      "2024-05-13 15:06:43 [scrapy_user_agents.user_agent_picker] WARNING: [UnsupportedBrowserType] Family: Android\n",
      "2024-05-13 15:06:43 [scrapy_user_agents.user_agent_picker] WARNING: [UnsupportedDeviceType] Family: Other, Brand: None, Model: None\n",
      "2024-05-13 15:06:43 [scrapy_user_agents.user_agent_picker] WARNING: [UnsupportedDeviceType] Family: Other, Brand: None, Model: None\n",
      "2024-05-13 15:06:43 [scrapy_user_agents.user_agent_picker] WARNING: [UnsupportedDeviceType] Family: Other, Brand: None, Model: None\n",
      "2024-05-13 15:06:43 [scrapy_user_agents.user_agent_picker] WARNING: [UnsupportedDeviceType] Family: Sony BDV13, Brand: Sony, Model: BDV13\n",
      "2024-05-13 15:06:43 [scrapy_user_agents.user_agent_picker] WARNING: [UnsupportedDeviceType] Family: Nintendo DSi, Brand: Nintendo, Model: DSi\n",
      "2024-05-13 15:06:43 [scrapy_user_agents.user_agent_picker] WARNING: [UnsupportedDeviceType] Family: Other, Brand: None, Model: None\n",
      "2024-05-13 15:06:43 [scrapy_user_agents.user_agent_picker] WARNING: [UnsupportedBrowserType] Family: Other\n",
      "2024-05-13 15:06:43 [scrapy_user_agents.user_agent_picker] WARNING: [UnsupportedDeviceType] Family: LYF F90M, Brand: LYF, Model: F90M\n",
      "2024-05-13 15:06:43 [scrapy_user_agents.user_agent_picker] WARNING: [UnsupportedDeviceType] Family: Sony BDV14, Brand: Sony, Model: BDV14\n",
      "2024-05-13 15:06:43 [scrapy_user_agents.user_agent_picker] WARNING: [UnsupportedDeviceType] Family: LG Web0S SmartTV, Brand: LG, Model: Web0S SmartTV\n",
      "2024-05-13 15:06:43 [scrapy_user_agents.user_agent_picker] WARNING: [UnsupportedDeviceType] Family: Other, Brand: None, Model: None\n",
      "2024-05-13 15:06:43 [scrapy_user_agents.user_agent_picker] WARNING: [UnsupportedDeviceType] Family: Other, Brand: None, Model: None\n",
      "2024-05-13 15:06:43 [scrapy_user_agents.user_agent_picker] WARNING: [UnsupportedDeviceType] Family: Other, Brand: None, Model: None\n",
      "2024-05-13 15:06:43 [scrapy_user_agents.user_agent_picker] WARNING: [UnsupportedDeviceType] Family: Other, Brand: None, Model: None\n",
      "2024-05-13 15:06:44 [scrapy_user_agents.user_agent_picker] WARNING: [UnsupportedDeviceType] Family: Other, Brand: None, Model: None\n",
      "2024-05-13 15:06:44 [scrapy_user_agents.user_agent_picker] WARNING: [UnsupportedDeviceType] Family: Other, Brand: None, Model: None\n",
      "2024-05-13 15:06:44 [scrapy_user_agents.user_agent_picker] WARNING: [UnsupportedDeviceType] Family: Other, Brand: None, Model: None\n",
      "2024-05-13 15:06:44 [scrapy_user_agents.user_agent_picker] WARNING: [UnsupportedDeviceType] Family: Sony BDV11, Brand: Sony, Model: BDV11\n",
      "2024-05-13 15:06:44 [scrapy_user_agents.user_agent_picker] WARNING: [UnsupportedDeviceType] Family: Other, Brand: None, Model: None\n",
      "2024-05-13 15:06:44 [scrapy_user_agents.user_agent_picker] WARNING: [UnsupportedDeviceType] Family: Other, Brand: None, Model: None\n",
      "2024-05-13 15:06:44 [scrapy_user_agents.user_agent_picker] WARNING: [UnsupportedDeviceType] Family: Other, Brand: None, Model: None\n",
      "2024-05-13 15:06:44 [scrapy_user_agents.user_agent_picker] WARNING: [UnsupportedDeviceType] Family: Other, Brand: None, Model: None\n",
      "2024-05-13 15:06:44 [scrapy_user_agents.user_agent_picker] WARNING: [UnsupportedDeviceType] Family: Nintendo DSi, Brand: Nintendo, Model: DSi\n",
      "2024-05-13 15:06:44 [scrapy_user_agents.user_agent_picker] WARNING: [UnsupportedDeviceType] Family: LYF LF-2403N, Brand: LYF, Model: LF-2403N\n",
      "2024-05-13 15:06:44 [scrapy_user_agents.user_agent_picker] WARNING: [UnsupportedDeviceType] Family: LYF F90M, Brand: LYF, Model: F90M\n",
      "2024-05-13 15:06:44 [scrapy_user_agents.user_agent_picker] WARNING: [UnsupportedDeviceType] Family: Other, Brand: None, Model: None\n",
      "2024-05-13 15:06:44 [scrapy_user_agents.user_agent_picker] WARNING: [UnsupportedDeviceType] Family: Other, Brand: None, Model: None\n",
      "2024-05-13 15:06:44 [scrapy_user_agents.user_agent_picker] WARNING: [UnsupportedBrowserType] Family: Applebot\n",
      "2024-05-13 15:06:44 [scrapy_user_agents.user_agent_picker] WARNING: [UnsupportedDeviceType] Family: Other, Brand: None, Model: None\n",
      "2024-05-13 15:06:44 [scrapy_user_agents.user_agent_picker] WARNING: [UnsupportedBrowserType] Family: Applebot\n",
      "2024-05-13 15:06:44 [scrapy_user_agents.user_agent_picker] WARNING: [UnsupportedBrowserType] Family: Other\n",
      "2024-05-13 15:06:44 [scrapy_user_agents.user_agent_picker] WARNING: [UnsupportedBrowserType] Family: Other\n",
      "2024-05-13 15:06:44 [scrapy_user_agents.user_agent_picker] WARNING: [UnsupportedBrowserType] Family: PhantomJS\n",
      "2024-05-13 15:06:44 [scrapy_user_agents.user_agent_picker] WARNING: [UnsupportedBrowserType] Family: SMTBot\n",
      "2024-05-13 15:06:44 [scrapy_user_agents.user_agent_picker] WARNING: [UnsupportedBrowserType] Family: PhantomJS\n",
      "2024-05-13 15:06:44 [scrapy_user_agents.user_agent_picker] WARNING: [UnsupportedBrowserType] Family: PhantomJS\n",
      "2024-05-13 15:06:44 [scrapy_user_agents.user_agent_picker] WARNING: [UnsupportedBrowserType] Family: WebKit Nightly\n",
      "2024-05-13 15:06:44 [scrapy_user_agents.user_agent_picker] WARNING: [UnsupportedBrowserType] Family: PhantomJS\n",
      "2024-05-13 15:06:44 [scrapy_user_agents.user_agent_picker] WARNING: [UnsupportedDeviceType] Family: Other, Brand: None, Model: None\n",
      "2024-05-13 15:06:45 [scrapy_user_agents.user_agent_picker] WARNING: [UnsupportedBrowserType] Family: PhantomJS\n",
      "2024-05-13 15:06:45 [scrapy_user_agents.user_agent_picker] WARNING: [UnsupportedBrowserType] Family: PhantomJS\n",
      "2024-05-13 15:06:45 [scrapy_user_agents.user_agent_picker] WARNING: [UnsupportedBrowserType] Family: Robot\n",
      "2024-05-13 15:06:45 [scrapy_user_agents.user_agent_picker] WARNING: [UnsupportedDeviceType] Family: Other, Brand: None, Model: None\n",
      "2024-05-13 15:06:45 [scrapy_user_agents.user_agent_picker] WARNING: [UnsupportedBrowserType] Family: Zune\n",
      "2024-05-13 15:06:45 [scrapy.middleware] INFO: Enabled downloader middlewares:\n",
      "['scrapy.downloadermiddlewares.httpauth.HttpAuthMiddleware',\n",
      " 'scrapy.downloadermiddlewares.downloadtimeout.DownloadTimeoutMiddleware',\n",
      " 'scrapy.downloadermiddlewares.defaultheaders.DefaultHeadersMiddleware',\n",
      " 'scrapy_user_agents.middlewares.RandomUserAgentMiddleware',\n",
      " 'scrapy.downloadermiddlewares.retry.RetryMiddleware',\n",
      " 'scrapy.downloadermiddlewares.redirect.MetaRefreshMiddleware',\n",
      " 'scrapy.downloadermiddlewares.httpcompression.HttpCompressionMiddleware',\n",
      " 'scrapy.downloadermiddlewares.redirect.RedirectMiddleware',\n",
      " 'scrapy.downloadermiddlewares.cookies.CookiesMiddleware',\n",
      " 'scrapy.downloadermiddlewares.httpproxy.HttpProxyMiddleware',\n",
      " 'scrapy.downloadermiddlewares.stats.DownloaderStats']\n",
      "2024-05-13 15:06:45 [scrapy.middleware] INFO: Enabled spider middlewares:\n",
      "['scrapy.spidermiddlewares.httperror.HttpErrorMiddleware',\n",
      " 'scrapy.spidermiddlewares.offsite.OffsiteMiddleware',\n",
      " 'scrapy.spidermiddlewares.referer.RefererMiddleware',\n",
      " 'scrapy.spidermiddlewares.urllength.UrlLengthMiddleware',\n",
      " 'scrapy.spidermiddlewares.depth.DepthMiddleware']\n",
      "2024-05-13 15:06:45 [scrapy.middleware] INFO: Enabled item pipelines:\n",
      "[]\n",
      "2024-05-13 15:06:45 [scrapy.core.engine] INFO: Spider opened\n",
      "2024-05-13 15:06:45 [scrapy.extensions.logstats] INFO: Crawled 0 pages (at 0 pages/min), scraped 0 items (at 0 items/min)\n",
      "2024-05-13 15:06:45 [scrapy.extensions.telnet] INFO: Telnet console listening on 127.0.0.1:6023\n",
      "2024-05-13 15:07:45 [scrapy.extensions.logstats] INFO: Crawled 54 pages (at 54 pages/min), scraped 48 items (at 48 items/min)\n",
      "2024-05-13 15:08:45 [scrapy.extensions.logstats] INFO: Crawled 112 pages (at 58 pages/min), scraped 106 items (at 58 items/min)\n",
      "2024-05-13 15:09:05 [scrapy.core.engine] INFO: Closing spider (finished)\n",
      "2024-05-13 15:09:05 [scrapy.extensions.feedexport] INFO: Stored json feed (124 items) in: booking_spider.json\n",
      "2024-05-13 15:09:05 [scrapy.statscollectors] INFO: Dumping Scrapy stats:\n",
      "{'downloader/request_bytes': 208259,\n",
      " 'downloader/request_count': 138,\n",
      " 'downloader/request_method_count/GET': 138,\n",
      " 'downloader/response_bytes': 33704022,\n",
      " 'downloader/response_count': 138,\n",
      " 'downloader/response_status_count/200': 130,\n",
      " 'downloader/response_status_count/301': 2,\n",
      " 'downloader/response_status_count/302': 6,\n",
      " 'dupefilter/filtered': 1,\n",
      " 'elapsed_time_seconds': 139.337156,\n",
      " 'feedexport/success_count/FileFeedStorage': 1,\n",
      " 'finish_reason': 'finished',\n",
      " 'finish_time': datetime.datetime(2024, 5, 13, 13, 9, 5, 107991),\n",
      " 'httpcompression/response_bytes': 164655463,\n",
      " 'httpcompression/response_count': 130,\n",
      " 'item_scraped_count': 124,\n",
      " 'log_count/INFO': 13,\n",
      " 'log_count/WARNING': 46,\n",
      " 'request_depth_max': 2,\n",
      " 'response_received_count': 130,\n",
      " 'scheduler/dequeued': 138,\n",
      " 'scheduler/dequeued/memory': 138,\n",
      " 'scheduler/enqueued': 138,\n",
      " 'scheduler/enqueued/memory': 138,\n",
      " 'start_time': datetime.datetime(2024, 5, 13, 13, 6, 45, 770835)}\n",
      "2024-05-13 15:09:05 [scrapy.core.engine] INFO: Spider closed (finished)\n"
     ]
    }
   ],
   "source": [
    "# Launch the spider which will get hotels information for the top5 cities listed above\n",
    "!python scrapy_booking.py"
   ]
  },
  {
   "cell_type": "code",
   "execution_count": 22,
   "metadata": {},
   "outputs": [
    {
     "name": "stdout",
     "output_type": "stream",
     "text": [
      "Dataframe shape : 124 rows, 6 columns\n",
      "\n",
      "Display of dataset: \n"
     ]
    },
    {
     "data": {
      "text/html": [
       "<div>\n",
       "<style scoped>\n",
       "    .dataframe tbody tr th:only-of-type {\n",
       "        vertical-align: middle;\n",
       "    }\n",
       "\n",
       "    .dataframe tbody tr th {\n",
       "        vertical-align: top;\n",
       "    }\n",
       "\n",
       "    .dataframe thead th {\n",
       "        text-align: right;\n",
       "    }\n",
       "</style>\n",
       "<table border=\"1\" class=\"dataframe\">\n",
       "  <thead>\n",
       "    <tr style=\"text-align: right;\">\n",
       "      <th></th>\n",
       "      <th>name</th>\n",
       "      <th>note</th>\n",
       "      <th>presentation_text</th>\n",
       "      <th>url</th>\n",
       "      <th>city_id</th>\n",
       "      <th>gps_hotel</th>\n",
       "    </tr>\n",
       "  </thead>\n",
       "  <tbody>\n",
       "    <tr>\n",
       "      <th>0</th>\n",
       "      <td>Au cœur des Papes, dans bâtisse de charme stud...</td>\n",
       "      <td>8.7</td>\n",
       "      <td>Au cœur des Papes, dans bâtisse de charme stud...</td>\n",
       "      <td>https://www.booking.com/hotel/fr/au-coeur-des-...</td>\n",
       "      <td>22</td>\n",
       "      <td>43.94617060,4.81018870</td>\n",
       "    </tr>\n",
       "    <tr>\n",
       "      <th>1</th>\n",
       "      <td>La Banasterie</td>\n",
       "      <td>9.3</td>\n",
       "      <td>La Banasterie is the oldest B&amp;B in Avignon, da...</td>\n",
       "      <td>https://www.booking.com/hotel/fr/la-banasterie...</td>\n",
       "      <td>22</td>\n",
       "      <td>43.94986998,4.80851546</td>\n",
       "    </tr>\n",
       "    <tr>\n",
       "      <th>2</th>\n",
       "      <td>Au Saint Roch - Hôtel et Jardin</td>\n",
       "      <td>7.9</td>\n",
       "      <td>Offering a sun terrace and a courtyard garden ...</td>\n",
       "      <td>https://www.booking.com/hotel/fr/au-saint-roch...</td>\n",
       "      <td>22</td>\n",
       "      <td>43.94290138,4.79804277</td>\n",
       "    </tr>\n",
       "    <tr>\n",
       "      <th>3</th>\n",
       "      <td>Studio Avignon place des corps saints</td>\n",
       "      <td>8.6</td>\n",
       "      <td>In the heart of Avignon, Studio Avignon place ...</td>\n",
       "      <td>https://www.booking.com/hotel/fr/studio-avigno...</td>\n",
       "      <td>22</td>\n",
       "      <td>43.94409380,4.80819710</td>\n",
       "    </tr>\n",
       "    <tr>\n",
       "      <th>4</th>\n",
       "      <td>Logis Hotel Restaurant la Ferme</td>\n",
       "      <td>8.6</td>\n",
       "      <td>The hotel features an outdoor swimming pool an...</td>\n",
       "      <td>https://www.booking.com/hotel/fr/logis-de-fran...</td>\n",
       "      <td>22</td>\n",
       "      <td>43.97548368,4.82743710</td>\n",
       "    </tr>\n",
       "  </tbody>\n",
       "</table>\n",
       "</div>"
      ],
      "text/plain": [
       "                                                name  note  \\\n",
       "0  Au cœur des Papes, dans bâtisse de charme stud...   8.7   \n",
       "1                                      La Banasterie   9.3   \n",
       "2                    Au Saint Roch - Hôtel et Jardin   7.9   \n",
       "3              Studio Avignon place des corps saints   8.6   \n",
       "4                    Logis Hotel Restaurant la Ferme   8.6   \n",
       "\n",
       "                                   presentation_text  \\\n",
       "0  Au cœur des Papes, dans bâtisse de charme stud...   \n",
       "1  La Banasterie is the oldest B&B in Avignon, da...   \n",
       "2  Offering a sun terrace and a courtyard garden ...   \n",
       "3  In the heart of Avignon, Studio Avignon place ...   \n",
       "4  The hotel features an outdoor swimming pool an...   \n",
       "\n",
       "                                                 url  city_id  \\\n",
       "0  https://www.booking.com/hotel/fr/au-coeur-des-...       22   \n",
       "1  https://www.booking.com/hotel/fr/la-banasterie...       22   \n",
       "2  https://www.booking.com/hotel/fr/au-saint-roch...       22   \n",
       "3  https://www.booking.com/hotel/fr/studio-avigno...       22   \n",
       "4  https://www.booking.com/hotel/fr/logis-de-fran...       22   \n",
       "\n",
       "                gps_hotel  \n",
       "0  43.94617060,4.81018870  \n",
       "1  43.94986998,4.80851546  \n",
       "2  43.94290138,4.79804277  \n",
       "3  43.94409380,4.80819710  \n",
       "4  43.97548368,4.82743710  "
      ]
     },
     "metadata": {},
     "output_type": "display_data"
    },
    {
     "name": "stdout",
     "output_type": "stream",
     "text": [
      "Basics statistics: \n"
     ]
    },
    {
     "data": {
      "text/html": [
       "<div>\n",
       "<style scoped>\n",
       "    .dataframe tbody tr th:only-of-type {\n",
       "        vertical-align: middle;\n",
       "    }\n",
       "\n",
       "    .dataframe tbody tr th {\n",
       "        vertical-align: top;\n",
       "    }\n",
       "\n",
       "    .dataframe thead th {\n",
       "        text-align: right;\n",
       "    }\n",
       "</style>\n",
       "<table border=\"1\" class=\"dataframe\">\n",
       "  <thead>\n",
       "    <tr style=\"text-align: right;\">\n",
       "      <th></th>\n",
       "      <th>name</th>\n",
       "      <th>note</th>\n",
       "      <th>presentation_text</th>\n",
       "      <th>url</th>\n",
       "      <th>city_id</th>\n",
       "      <th>gps_hotel</th>\n",
       "    </tr>\n",
       "  </thead>\n",
       "  <tbody>\n",
       "    <tr>\n",
       "      <th>count</th>\n",
       "      <td>124</td>\n",
       "      <td>123.000000</td>\n",
       "      <td>124</td>\n",
       "      <td>124</td>\n",
       "      <td>124.000000</td>\n",
       "      <td>124</td>\n",
       "    </tr>\n",
       "    <tr>\n",
       "      <th>unique</th>\n",
       "      <td>124</td>\n",
       "      <td>NaN</td>\n",
       "      <td>124</td>\n",
       "      <td>124</td>\n",
       "      <td>NaN</td>\n",
       "      <td>124</td>\n",
       "    </tr>\n",
       "    <tr>\n",
       "      <th>top</th>\n",
       "      <td>Au cœur des Papes, dans bâtisse de charme stud...</td>\n",
       "      <td>NaN</td>\n",
       "      <td>Au cœur des Papes, dans bâtisse de charme stud...</td>\n",
       "      <td>https://www.booking.com/hotel/fr/au-coeur-des-...</td>\n",
       "      <td>NaN</td>\n",
       "      <td>43.94617060,4.81018870</td>\n",
       "    </tr>\n",
       "    <tr>\n",
       "      <th>freq</th>\n",
       "      <td>1</td>\n",
       "      <td>NaN</td>\n",
       "      <td>1</td>\n",
       "      <td>1</td>\n",
       "      <td>NaN</td>\n",
       "      <td>1</td>\n",
       "    </tr>\n",
       "    <tr>\n",
       "      <th>mean</th>\n",
       "      <td>NaN</td>\n",
       "      <td>8.785366</td>\n",
       "      <td>NaN</td>\n",
       "      <td>NaN</td>\n",
       "      <td>21.758065</td>\n",
       "      <td>NaN</td>\n",
       "    </tr>\n",
       "    <tr>\n",
       "      <th>std</th>\n",
       "      <td>NaN</td>\n",
       "      <td>0.608234</td>\n",
       "      <td>NaN</td>\n",
       "      <td>NaN</td>\n",
       "      <td>3.178615</td>\n",
       "      <td>NaN</td>\n",
       "    </tr>\n",
       "    <tr>\n",
       "      <th>min</th>\n",
       "      <td>NaN</td>\n",
       "      <td>7.000000</td>\n",
       "      <td>NaN</td>\n",
       "      <td>NaN</td>\n",
       "      <td>18.000000</td>\n",
       "      <td>NaN</td>\n",
       "    </tr>\n",
       "    <tr>\n",
       "      <th>25%</th>\n",
       "      <td>NaN</td>\n",
       "      <td>8.400000</td>\n",
       "      <td>NaN</td>\n",
       "      <td>NaN</td>\n",
       "      <td>19.000000</td>\n",
       "      <td>NaN</td>\n",
       "    </tr>\n",
       "    <tr>\n",
       "      <th>50%</th>\n",
       "      <td>NaN</td>\n",
       "      <td>8.900000</td>\n",
       "      <td>NaN</td>\n",
       "      <td>NaN</td>\n",
       "      <td>22.000000</td>\n",
       "      <td>NaN</td>\n",
       "    </tr>\n",
       "    <tr>\n",
       "      <th>75%</th>\n",
       "      <td>NaN</td>\n",
       "      <td>9.250000</td>\n",
       "      <td>NaN</td>\n",
       "      <td>NaN</td>\n",
       "      <td>23.000000</td>\n",
       "      <td>NaN</td>\n",
       "    </tr>\n",
       "    <tr>\n",
       "      <th>max</th>\n",
       "      <td>NaN</td>\n",
       "      <td>10.000000</td>\n",
       "      <td>NaN</td>\n",
       "      <td>NaN</td>\n",
       "      <td>27.000000</td>\n",
       "      <td>NaN</td>\n",
       "    </tr>\n",
       "  </tbody>\n",
       "</table>\n",
       "</div>"
      ],
      "text/plain": [
       "                                                     name        note  \\\n",
       "count                                                 124  123.000000   \n",
       "unique                                                124         NaN   \n",
       "top     Au cœur des Papes, dans bâtisse de charme stud...         NaN   \n",
       "freq                                                    1         NaN   \n",
       "mean                                                  NaN    8.785366   \n",
       "std                                                   NaN    0.608234   \n",
       "min                                                   NaN    7.000000   \n",
       "25%                                                   NaN    8.400000   \n",
       "50%                                                   NaN    8.900000   \n",
       "75%                                                   NaN    9.250000   \n",
       "max                                                   NaN   10.000000   \n",
       "\n",
       "                                        presentation_text  \\\n",
       "count                                                 124   \n",
       "unique                                                124   \n",
       "top     Au cœur des Papes, dans bâtisse de charme stud...   \n",
       "freq                                                    1   \n",
       "mean                                                  NaN   \n",
       "std                                                   NaN   \n",
       "min                                                   NaN   \n",
       "25%                                                   NaN   \n",
       "50%                                                   NaN   \n",
       "75%                                                   NaN   \n",
       "max                                                   NaN   \n",
       "\n",
       "                                                      url     city_id  \\\n",
       "count                                                 124  124.000000   \n",
       "unique                                                124         NaN   \n",
       "top     https://www.booking.com/hotel/fr/au-coeur-des-...         NaN   \n",
       "freq                                                    1         NaN   \n",
       "mean                                                  NaN   21.758065   \n",
       "std                                                   NaN    3.178615   \n",
       "min                                                   NaN   18.000000   \n",
       "25%                                                   NaN   19.000000   \n",
       "50%                                                   NaN   22.000000   \n",
       "75%                                                   NaN   23.000000   \n",
       "max                                                   NaN   27.000000   \n",
       "\n",
       "                     gps_hotel  \n",
       "count                      124  \n",
       "unique                     124  \n",
       "top     43.94617060,4.81018870  \n",
       "freq                         1  \n",
       "mean                       NaN  \n",
       "std                        NaN  \n",
       "min                        NaN  \n",
       "25%                        NaN  \n",
       "50%                        NaN  \n",
       "75%                        NaN  \n",
       "max                        NaN  "
      ]
     },
     "metadata": {},
     "output_type": "display_data"
    },
    {
     "name": "stdout",
     "output_type": "stream",
     "text": [
      "Percentage of missing values: \n"
     ]
    },
    {
     "data": {
      "text/plain": [
       "name                 0.000000\n",
       "note                 0.806452\n",
       "presentation_text    0.000000\n",
       "url                  0.000000\n",
       "city_id              0.000000\n",
       "gps_hotel            0.000000\n",
       "dtype: float64"
      ]
     },
     "metadata": {},
     "output_type": "display_data"
    },
    {
     "name": "stdout",
     "output_type": "stream",
     "text": [
      "Type for each columns\n"
     ]
    },
    {
     "data": {
      "text/plain": [
       "name                  object\n",
       "note                 float64\n",
       "presentation_text     object\n",
       "url                   object\n",
       "city_id                int64\n",
       "gps_hotel             object\n",
       "dtype: object"
      ]
     },
     "metadata": {},
     "output_type": "display_data"
    }
   ],
   "source": [
    "# Get spider results and load them in a dataframe\n",
    "df_booking = pd.read_json(\"data/booking_spider.json\")\n",
    "\n",
    "basic_stats(df_booking)"
   ]
  },
  {
   "cell_type": "code",
   "execution_count": 23,
   "metadata": {},
   "outputs": [
    {
     "data": {
      "text/html": [
       "<div>\n",
       "<style scoped>\n",
       "    .dataframe tbody tr th:only-of-type {\n",
       "        vertical-align: middle;\n",
       "    }\n",
       "\n",
       "    .dataframe tbody tr th {\n",
       "        vertical-align: top;\n",
       "    }\n",
       "\n",
       "    .dataframe thead th {\n",
       "        text-align: right;\n",
       "    }\n",
       "</style>\n",
       "<table border=\"1\" class=\"dataframe\">\n",
       "  <thead>\n",
       "    <tr style=\"text-align: right;\">\n",
       "      <th></th>\n",
       "      <th>name</th>\n",
       "      <th>note</th>\n",
       "      <th>presentation_text</th>\n",
       "      <th>url</th>\n",
       "      <th>city_id</th>\n",
       "      <th>hotel_lat</th>\n",
       "      <th>hotel_lon</th>\n",
       "    </tr>\n",
       "  </thead>\n",
       "  <tbody>\n",
       "    <tr>\n",
       "      <th>0</th>\n",
       "      <td>Au cœur des Papes, dans bâtisse de charme stud...</td>\n",
       "      <td>8.7</td>\n",
       "      <td>Au cœur des Papes, dans bâtisse de charme stud...</td>\n",
       "      <td>https://www.booking.com/hotel/fr/au-coeur-des-...</td>\n",
       "      <td>22</td>\n",
       "      <td>43.946171</td>\n",
       "      <td>4.810189</td>\n",
       "    </tr>\n",
       "    <tr>\n",
       "      <th>1</th>\n",
       "      <td>La Banasterie</td>\n",
       "      <td>9.3</td>\n",
       "      <td>La Banasterie is the oldest B&amp;B in Avignon, da...</td>\n",
       "      <td>https://www.booking.com/hotel/fr/la-banasterie...</td>\n",
       "      <td>22</td>\n",
       "      <td>43.949870</td>\n",
       "      <td>4.808515</td>\n",
       "    </tr>\n",
       "    <tr>\n",
       "      <th>2</th>\n",
       "      <td>Au Saint Roch - Hôtel et Jardin</td>\n",
       "      <td>7.9</td>\n",
       "      <td>Offering a sun terrace and a courtyard garden ...</td>\n",
       "      <td>https://www.booking.com/hotel/fr/au-saint-roch...</td>\n",
       "      <td>22</td>\n",
       "      <td>43.942901</td>\n",
       "      <td>4.798043</td>\n",
       "    </tr>\n",
       "    <tr>\n",
       "      <th>3</th>\n",
       "      <td>Studio Avignon place des corps saints</td>\n",
       "      <td>8.6</td>\n",
       "      <td>In the heart of Avignon, Studio Avignon place ...</td>\n",
       "      <td>https://www.booking.com/hotel/fr/studio-avigno...</td>\n",
       "      <td>22</td>\n",
       "      <td>43.944094</td>\n",
       "      <td>4.808197</td>\n",
       "    </tr>\n",
       "    <tr>\n",
       "      <th>4</th>\n",
       "      <td>Logis Hotel Restaurant la Ferme</td>\n",
       "      <td>8.6</td>\n",
       "      <td>The hotel features an outdoor swimming pool an...</td>\n",
       "      <td>https://www.booking.com/hotel/fr/logis-de-fran...</td>\n",
       "      <td>22</td>\n",
       "      <td>43.975484</td>\n",
       "      <td>4.827437</td>\n",
       "    </tr>\n",
       "  </tbody>\n",
       "</table>\n",
       "</div>"
      ],
      "text/plain": [
       "                                                name  note  \\\n",
       "0  Au cœur des Papes, dans bâtisse de charme stud...   8.7   \n",
       "1                                      La Banasterie   9.3   \n",
       "2                    Au Saint Roch - Hôtel et Jardin   7.9   \n",
       "3              Studio Avignon place des corps saints   8.6   \n",
       "4                    Logis Hotel Restaurant la Ferme   8.6   \n",
       "\n",
       "                                   presentation_text  \\\n",
       "0  Au cœur des Papes, dans bâtisse de charme stud...   \n",
       "1  La Banasterie is the oldest B&B in Avignon, da...   \n",
       "2  Offering a sun terrace and a courtyard garden ...   \n",
       "3  In the heart of Avignon, Studio Avignon place ...   \n",
       "4  The hotel features an outdoor swimming pool an...   \n",
       "\n",
       "                                                 url  city_id  hotel_lat  \\\n",
       "0  https://www.booking.com/hotel/fr/au-coeur-des-...       22  43.946171   \n",
       "1  https://www.booking.com/hotel/fr/la-banasterie...       22  43.949870   \n",
       "2  https://www.booking.com/hotel/fr/au-saint-roch...       22  43.942901   \n",
       "3  https://www.booking.com/hotel/fr/studio-avigno...       22  43.944094   \n",
       "4  https://www.booking.com/hotel/fr/logis-de-fran...       22  43.975484   \n",
       "\n",
       "   hotel_lon  \n",
       "0   4.810189  \n",
       "1   4.808515  \n",
       "2   4.798043  \n",
       "3   4.808197  \n",
       "4   4.827437  "
      ]
     },
     "execution_count": 23,
     "metadata": {},
     "output_type": "execute_result"
    }
   ],
   "source": [
    "# Split GPS coordinates in two columns\n",
    "df_booking[['hotel_lat','hotel_lon']] = df_booking['gps_hotel'].str.split(',',expand=True)\n",
    "\n",
    "# Drop unused columns\n",
    "df_booking.drop(columns=['gps_hotel'], inplace=True, axis=1)\n",
    "\n",
    "# Change type for note and coordinates columns\n",
    "to_convert = [\"hotel_lat\", \"hotel_lon\", \"note\"]\n",
    "for col in to_convert:\n",
    "    df_booking[col] = pd.to_numeric(df_booking[col], errors='coerce')\n",
    "\n",
    "df_booking.head()"
   ]
  },
  {
   "cell_type": "code",
   "execution_count": 24,
   "metadata": {},
   "outputs": [
    {
     "name": "stdout",
     "output_type": "stream",
     "text": [
      "Dataframe shape : 124 rows, 12 columns\n",
      "\n",
      "Display of dataset: \n"
     ]
    },
    {
     "data": {
      "text/html": [
       "<div>\n",
       "<style scoped>\n",
       "    .dataframe tbody tr th:only-of-type {\n",
       "        vertical-align: middle;\n",
       "    }\n",
       "\n",
       "    .dataframe tbody tr th {\n",
       "        vertical-align: top;\n",
       "    }\n",
       "\n",
       "    .dataframe thead th {\n",
       "        text-align: right;\n",
       "    }\n",
       "</style>\n",
       "<table border=\"1\" class=\"dataframe\">\n",
       "  <thead>\n",
       "    <tr style=\"text-align: right;\">\n",
       "      <th></th>\n",
       "      <th>name</th>\n",
       "      <th>note</th>\n",
       "      <th>presentation_text</th>\n",
       "      <th>url</th>\n",
       "      <th>city_id</th>\n",
       "      <th>hotel_lat</th>\n",
       "      <th>hotel_lon</th>\n",
       "      <th>city</th>\n",
       "      <th>city_lat</th>\n",
       "      <th>city_lon</th>\n",
       "      <th>rain_probability</th>\n",
       "      <th>temperature</th>\n",
       "    </tr>\n",
       "  </thead>\n",
       "  <tbody>\n",
       "    <tr>\n",
       "      <th>0</th>\n",
       "      <td>Au cœur des Papes, dans bâtisse de charme stud...</td>\n",
       "      <td>8.7</td>\n",
       "      <td>Au cœur des Papes, dans bâtisse de charme stud...</td>\n",
       "      <td>https://www.booking.com/hotel/fr/au-coeur-des-...</td>\n",
       "      <td>22</td>\n",
       "      <td>43.946171</td>\n",
       "      <td>4.810189</td>\n",
       "      <td>Avignon</td>\n",
       "      <td>43.949249</td>\n",
       "      <td>4.805901</td>\n",
       "      <td>0.9</td>\n",
       "      <td>20.53625</td>\n",
       "    </tr>\n",
       "    <tr>\n",
       "      <th>1</th>\n",
       "      <td>La Banasterie</td>\n",
       "      <td>9.3</td>\n",
       "      <td>La Banasterie is the oldest B&amp;B in Avignon, da...</td>\n",
       "      <td>https://www.booking.com/hotel/fr/la-banasterie...</td>\n",
       "      <td>22</td>\n",
       "      <td>43.949870</td>\n",
       "      <td>4.808515</td>\n",
       "      <td>Avignon</td>\n",
       "      <td>43.949249</td>\n",
       "      <td>4.805901</td>\n",
       "      <td>0.9</td>\n",
       "      <td>20.53625</td>\n",
       "    </tr>\n",
       "    <tr>\n",
       "      <th>2</th>\n",
       "      <td>Au Saint Roch - Hôtel et Jardin</td>\n",
       "      <td>7.9</td>\n",
       "      <td>Offering a sun terrace and a courtyard garden ...</td>\n",
       "      <td>https://www.booking.com/hotel/fr/au-saint-roch...</td>\n",
       "      <td>22</td>\n",
       "      <td>43.942901</td>\n",
       "      <td>4.798043</td>\n",
       "      <td>Avignon</td>\n",
       "      <td>43.949249</td>\n",
       "      <td>4.805901</td>\n",
       "      <td>0.9</td>\n",
       "      <td>20.53625</td>\n",
       "    </tr>\n",
       "    <tr>\n",
       "      <th>3</th>\n",
       "      <td>Studio Avignon place des corps saints</td>\n",
       "      <td>8.6</td>\n",
       "      <td>In the heart of Avignon, Studio Avignon place ...</td>\n",
       "      <td>https://www.booking.com/hotel/fr/studio-avigno...</td>\n",
       "      <td>22</td>\n",
       "      <td>43.944094</td>\n",
       "      <td>4.808197</td>\n",
       "      <td>Avignon</td>\n",
       "      <td>43.949249</td>\n",
       "      <td>4.805901</td>\n",
       "      <td>0.9</td>\n",
       "      <td>20.53625</td>\n",
       "    </tr>\n",
       "    <tr>\n",
       "      <th>4</th>\n",
       "      <td>Logis Hotel Restaurant la Ferme</td>\n",
       "      <td>8.6</td>\n",
       "      <td>The hotel features an outdoor swimming pool an...</td>\n",
       "      <td>https://www.booking.com/hotel/fr/logis-de-fran...</td>\n",
       "      <td>22</td>\n",
       "      <td>43.975484</td>\n",
       "      <td>4.827437</td>\n",
       "      <td>Avignon</td>\n",
       "      <td>43.949249</td>\n",
       "      <td>4.805901</td>\n",
       "      <td>0.9</td>\n",
       "      <td>20.53625</td>\n",
       "    </tr>\n",
       "  </tbody>\n",
       "</table>\n",
       "</div>"
      ],
      "text/plain": [
       "                                                name  note  \\\n",
       "0  Au cœur des Papes, dans bâtisse de charme stud...   8.7   \n",
       "1                                      La Banasterie   9.3   \n",
       "2                    Au Saint Roch - Hôtel et Jardin   7.9   \n",
       "3              Studio Avignon place des corps saints   8.6   \n",
       "4                    Logis Hotel Restaurant la Ferme   8.6   \n",
       "\n",
       "                                   presentation_text  \\\n",
       "0  Au cœur des Papes, dans bâtisse de charme stud...   \n",
       "1  La Banasterie is the oldest B&B in Avignon, da...   \n",
       "2  Offering a sun terrace and a courtyard garden ...   \n",
       "3  In the heart of Avignon, Studio Avignon place ...   \n",
       "4  The hotel features an outdoor swimming pool an...   \n",
       "\n",
       "                                                 url  city_id  hotel_lat  \\\n",
       "0  https://www.booking.com/hotel/fr/au-coeur-des-...       22  43.946171   \n",
       "1  https://www.booking.com/hotel/fr/la-banasterie...       22  43.949870   \n",
       "2  https://www.booking.com/hotel/fr/au-saint-roch...       22  43.942901   \n",
       "3  https://www.booking.com/hotel/fr/studio-avigno...       22  43.944094   \n",
       "4  https://www.booking.com/hotel/fr/logis-de-fran...       22  43.975484   \n",
       "\n",
       "   hotel_lon     city   city_lat  city_lon  rain_probability  temperature  \n",
       "0   4.810189  Avignon  43.949249  4.805901               0.9     20.53625  \n",
       "1   4.808515  Avignon  43.949249  4.805901               0.9     20.53625  \n",
       "2   4.798043  Avignon  43.949249  4.805901               0.9     20.53625  \n",
       "3   4.808197  Avignon  43.949249  4.805901               0.9     20.53625  \n",
       "4   4.827437  Avignon  43.949249  4.805901               0.9     20.53625  "
      ]
     },
     "metadata": {},
     "output_type": "display_data"
    },
    {
     "name": "stdout",
     "output_type": "stream",
     "text": [
      "Basics statistics: \n"
     ]
    },
    {
     "data": {
      "text/html": [
       "<div>\n",
       "<style scoped>\n",
       "    .dataframe tbody tr th:only-of-type {\n",
       "        vertical-align: middle;\n",
       "    }\n",
       "\n",
       "    .dataframe tbody tr th {\n",
       "        vertical-align: top;\n",
       "    }\n",
       "\n",
       "    .dataframe thead th {\n",
       "        text-align: right;\n",
       "    }\n",
       "</style>\n",
       "<table border=\"1\" class=\"dataframe\">\n",
       "  <thead>\n",
       "    <tr style=\"text-align: right;\">\n",
       "      <th></th>\n",
       "      <th>name</th>\n",
       "      <th>note</th>\n",
       "      <th>presentation_text</th>\n",
       "      <th>url</th>\n",
       "      <th>city_id</th>\n",
       "      <th>hotel_lat</th>\n",
       "      <th>hotel_lon</th>\n",
       "      <th>city</th>\n",
       "      <th>city_lat</th>\n",
       "      <th>city_lon</th>\n",
       "      <th>rain_probability</th>\n",
       "      <th>temperature</th>\n",
       "    </tr>\n",
       "  </thead>\n",
       "  <tbody>\n",
       "    <tr>\n",
       "      <th>count</th>\n",
       "      <td>124</td>\n",
       "      <td>123.000000</td>\n",
       "      <td>124</td>\n",
       "      <td>124</td>\n",
       "      <td>124.000000</td>\n",
       "      <td>124.000000</td>\n",
       "      <td>124.000000</td>\n",
       "      <td>124</td>\n",
       "      <td>124.000000</td>\n",
       "      <td>124.000000</td>\n",
       "      <td>124.000000</td>\n",
       "      <td>124.000000</td>\n",
       "    </tr>\n",
       "    <tr>\n",
       "      <th>unique</th>\n",
       "      <td>124</td>\n",
       "      <td>NaN</td>\n",
       "      <td>124</td>\n",
       "      <td>124</td>\n",
       "      <td>NaN</td>\n",
       "      <td>NaN</td>\n",
       "      <td>NaN</td>\n",
       "      <td>5</td>\n",
       "      <td>NaN</td>\n",
       "      <td>NaN</td>\n",
       "      <td>NaN</td>\n",
       "      <td>NaN</td>\n",
       "    </tr>\n",
       "    <tr>\n",
       "      <th>top</th>\n",
       "      <td>Au cœur des Papes, dans bâtisse de charme stud...</td>\n",
       "      <td>NaN</td>\n",
       "      <td>Au cœur des Papes, dans bâtisse de charme stud...</td>\n",
       "      <td>https://www.booking.com/hotel/fr/au-coeur-des-...</td>\n",
       "      <td>NaN</td>\n",
       "      <td>NaN</td>\n",
       "      <td>NaN</td>\n",
       "      <td>Avignon</td>\n",
       "      <td>NaN</td>\n",
       "      <td>NaN</td>\n",
       "      <td>NaN</td>\n",
       "      <td>NaN</td>\n",
       "    </tr>\n",
       "    <tr>\n",
       "      <th>freq</th>\n",
       "      <td>1</td>\n",
       "      <td>NaN</td>\n",
       "      <td>1</td>\n",
       "      <td>1</td>\n",
       "      <td>NaN</td>\n",
       "      <td>NaN</td>\n",
       "      <td>NaN</td>\n",
       "      <td>25</td>\n",
       "      <td>NaN</td>\n",
       "      <td>NaN</td>\n",
       "      <td>NaN</td>\n",
       "      <td>NaN</td>\n",
       "    </tr>\n",
       "    <tr>\n",
       "      <th>mean</th>\n",
       "      <td>NaN</td>\n",
       "      <td>8.785366</td>\n",
       "      <td>NaN</td>\n",
       "      <td>NaN</td>\n",
       "      <td>21.758065</td>\n",
       "      <td>43.374291</td>\n",
       "      <td>4.853182</td>\n",
       "      <td>NaN</td>\n",
       "      <td>43.377048</td>\n",
       "      <td>4.852210</td>\n",
       "      <td>0.700927</td>\n",
       "      <td>18.929829</td>\n",
       "    </tr>\n",
       "    <tr>\n",
       "      <th>std</th>\n",
       "      <td>NaN</td>\n",
       "      <td>0.608234</td>\n",
       "      <td>NaN</td>\n",
       "      <td>NaN</td>\n",
       "      <td>3.178615</td>\n",
       "      <td>0.553968</td>\n",
       "      <td>1.094827</td>\n",
       "      <td>NaN</td>\n",
       "      <td>0.553153</td>\n",
       "      <td>1.093720</td>\n",
       "      <td>0.182305</td>\n",
       "      <td>0.852819</td>\n",
       "    </tr>\n",
       "    <tr>\n",
       "      <th>min</th>\n",
       "      <td>NaN</td>\n",
       "      <td>7.000000</td>\n",
       "      <td>NaN</td>\n",
       "      <td>NaN</td>\n",
       "      <td>18.000000</td>\n",
       "      <td>42.520945</td>\n",
       "      <td>3.077309</td>\n",
       "      <td>NaN</td>\n",
       "      <td>42.525050</td>\n",
       "      <td>3.083155</td>\n",
       "      <td>0.460000</td>\n",
       "      <td>18.086250</td>\n",
       "    </tr>\n",
       "    <tr>\n",
       "      <th>25%</th>\n",
       "      <td>NaN</td>\n",
       "      <td>8.400000</td>\n",
       "      <td>NaN</td>\n",
       "      <td>NaN</td>\n",
       "      <td>19.000000</td>\n",
       "      <td>43.124302</td>\n",
       "      <td>4.417854</td>\n",
       "      <td>NaN</td>\n",
       "      <td>43.150697</td>\n",
       "      <td>4.419672</td>\n",
       "      <td>0.500000</td>\n",
       "      <td>18.520000</td>\n",
       "    </tr>\n",
       "    <tr>\n",
       "      <th>50%</th>\n",
       "      <td>NaN</td>\n",
       "      <td>8.900000</td>\n",
       "      <td>NaN</td>\n",
       "      <td>NaN</td>\n",
       "      <td>22.000000</td>\n",
       "      <td>43.214914</td>\n",
       "      <td>4.809032</td>\n",
       "      <td>NaN</td>\n",
       "      <td>43.214036</td>\n",
       "      <td>4.805901</td>\n",
       "      <td>0.800000</td>\n",
       "      <td>18.586250</td>\n",
       "    </tr>\n",
       "    <tr>\n",
       "      <th>75%</th>\n",
       "      <td>NaN</td>\n",
       "      <td>9.250000</td>\n",
       "      <td>NaN</td>\n",
       "      <td>NaN</td>\n",
       "      <td>23.000000</td>\n",
       "      <td>43.950052</td>\n",
       "      <td>5.540232</td>\n",
       "      <td>NaN</td>\n",
       "      <td>43.949249</td>\n",
       "      <td>5.539632</td>\n",
       "      <td>0.835000</td>\n",
       "      <td>18.920000</td>\n",
       "    </tr>\n",
       "    <tr>\n",
       "      <th>max</th>\n",
       "      <td>NaN</td>\n",
       "      <td>10.000000</td>\n",
       "      <td>NaN</td>\n",
       "      <td>NaN</td>\n",
       "      <td>27.000000</td>\n",
       "      <td>44.023053</td>\n",
       "      <td>6.363528</td>\n",
       "      <td>NaN</td>\n",
       "      <td>44.012128</td>\n",
       "      <td>6.341928</td>\n",
       "      <td>0.900000</td>\n",
       "      <td>20.536250</td>\n",
       "    </tr>\n",
       "  </tbody>\n",
       "</table>\n",
       "</div>"
      ],
      "text/plain": [
       "                                                     name        note  \\\n",
       "count                                                 124  123.000000   \n",
       "unique                                                124         NaN   \n",
       "top     Au cœur des Papes, dans bâtisse de charme stud...         NaN   \n",
       "freq                                                    1         NaN   \n",
       "mean                                                  NaN    8.785366   \n",
       "std                                                   NaN    0.608234   \n",
       "min                                                   NaN    7.000000   \n",
       "25%                                                   NaN    8.400000   \n",
       "50%                                                   NaN    8.900000   \n",
       "75%                                                   NaN    9.250000   \n",
       "max                                                   NaN   10.000000   \n",
       "\n",
       "                                        presentation_text  \\\n",
       "count                                                 124   \n",
       "unique                                                124   \n",
       "top     Au cœur des Papes, dans bâtisse de charme stud...   \n",
       "freq                                                    1   \n",
       "mean                                                  NaN   \n",
       "std                                                   NaN   \n",
       "min                                                   NaN   \n",
       "25%                                                   NaN   \n",
       "50%                                                   NaN   \n",
       "75%                                                   NaN   \n",
       "max                                                   NaN   \n",
       "\n",
       "                                                      url     city_id  \\\n",
       "count                                                 124  124.000000   \n",
       "unique                                                124         NaN   \n",
       "top     https://www.booking.com/hotel/fr/au-coeur-des-...         NaN   \n",
       "freq                                                    1         NaN   \n",
       "mean                                                  NaN   21.758065   \n",
       "std                                                   NaN    3.178615   \n",
       "min                                                   NaN   18.000000   \n",
       "25%                                                   NaN   19.000000   \n",
       "50%                                                   NaN   22.000000   \n",
       "75%                                                   NaN   23.000000   \n",
       "max                                                   NaN   27.000000   \n",
       "\n",
       "         hotel_lat   hotel_lon     city    city_lat    city_lon  \\\n",
       "count   124.000000  124.000000      124  124.000000  124.000000   \n",
       "unique         NaN         NaN        5         NaN         NaN   \n",
       "top            NaN         NaN  Avignon         NaN         NaN   \n",
       "freq           NaN         NaN       25         NaN         NaN   \n",
       "mean     43.374291    4.853182      NaN   43.377048    4.852210   \n",
       "std       0.553968    1.094827      NaN    0.553153    1.093720   \n",
       "min      42.520945    3.077309      NaN   42.525050    3.083155   \n",
       "25%      43.124302    4.417854      NaN   43.150697    4.419672   \n",
       "50%      43.214914    4.809032      NaN   43.214036    4.805901   \n",
       "75%      43.950052    5.540232      NaN   43.949249    5.539632   \n",
       "max      44.023053    6.363528      NaN   44.012128    6.341928   \n",
       "\n",
       "        rain_probability  temperature  \n",
       "count         124.000000   124.000000  \n",
       "unique               NaN          NaN  \n",
       "top                  NaN          NaN  \n",
       "freq                 NaN          NaN  \n",
       "mean            0.700927    18.929829  \n",
       "std             0.182305     0.852819  \n",
       "min             0.460000    18.086250  \n",
       "25%             0.500000    18.520000  \n",
       "50%             0.800000    18.586250  \n",
       "75%             0.835000    18.920000  \n",
       "max             0.900000    20.536250  "
      ]
     },
     "metadata": {},
     "output_type": "display_data"
    },
    {
     "name": "stdout",
     "output_type": "stream",
     "text": [
      "Percentage of missing values: \n"
     ]
    },
    {
     "data": {
      "text/plain": [
       "name                 0.000000\n",
       "note                 0.806452\n",
       "presentation_text    0.000000\n",
       "url                  0.000000\n",
       "city_id              0.000000\n",
       "hotel_lat            0.000000\n",
       "hotel_lon            0.000000\n",
       "city                 0.000000\n",
       "city_lat             0.000000\n",
       "city_lon             0.000000\n",
       "rain_probability     0.000000\n",
       "temperature          0.000000\n",
       "dtype: float64"
      ]
     },
     "metadata": {},
     "output_type": "display_data"
    },
    {
     "name": "stdout",
     "output_type": "stream",
     "text": [
      "Type for each columns\n"
     ]
    },
    {
     "data": {
      "text/plain": [
       "name                  object\n",
       "note                 float64\n",
       "presentation_text     object\n",
       "url                   object\n",
       "city_id                int64\n",
       "hotel_lat            float64\n",
       "hotel_lon            float64\n",
       "city                  object\n",
       "city_lat             float64\n",
       "city_lon             float64\n",
       "rain_probability     float64\n",
       "temperature          float64\n",
       "dtype: object"
      ]
     },
     "metadata": {},
     "output_type": "display_data"
    }
   ],
   "source": [
    "# Merge the first dataframe with city information with the new booking dataframe.\n",
    "df_final = df_booking.merge(df_top5, on=[\"city_id\"])\n",
    "\n",
    "basic_stats(df_final)"
   ]
  },
  {
   "cell_type": "code",
   "execution_count": 25,
   "metadata": {},
   "outputs": [],
   "source": [
    "# Remove hotels with zero notes, as we only want to keep best-rated hotels\n",
    "df_final.dropna(subset=['note'], inplace=True)"
   ]
  },
  {
   "cell_type": "code",
   "execution_count": 26,
   "metadata": {},
   "outputs": [
    {
     "data": {
      "application/vnd.plotly.v1+json": {
       "config": {
        "plotlyServerURL": "https://plot.ly"
       },
       "data": [
        {
         "hovertemplate": "<b>%{hovertext}</b><br><br>note=%{marker.color}<br>hotel_lat=%{lat}<br>hotel_lon=%{lon}<extra></extra>",
         "hovertext": [
          "Appartement Bormes-les-Mimosas, 1 pièce, 2 personnes - FR-1-251-583",
          "La DAME de FLAUX",
          "UZES DECOUVERTES",
          "Studio Liège, vue mer au village de Bormes les Mimosas",
          "L’Aiguade, appartement d'exception à Cassis",
          "Au Roi RENE - AC CLIM - WIFI",
          "Coeur d'Uzès",
          "La Carretariá - Intra•muros - Wifi",
          "Maison De La Bourgade",
          "Les cèdres",
          "le Travertin",
          "La bohème place aux herbes",
          "Cocons Avignon",
          "Plein centre avec \"PARKING PRIVE\" Voitures électriques bienvenues",
          "Bormes-les-mimosas, studio entre mer et collines",
          "Loft vue Palais des Papes",
          "Villa Bobnell",
          "Merveilleux appartement style nature proche centre ville",
          "AQUARIUS IN CASSIS, Chambres d'Hôtes",
          "Appartement Collioure centre & GARAGE PRIVATIF"
         ],
         "lat": [
          43.13967,
          44.0120504,
          44.01922955,
          43.15093095,
          43.2141154,
          43.9466748,
          44.0133411,
          43.9505228,
          44.009668,
          44.01184741,
          43.94886695,
          44.01167638,
          43.9444098,
          43.215051,
          43.14243053,
          43.9513089,
          43.2204519,
          42.5227675,
          43.2223547,
          42.52460816
         ],
         "legendgroup": "",
         "lon": [
          6.353453,
          4.4192438,
          4.41891083,
          6.34180632,
          5.5338211,
          4.8089156,
          4.419716,
          4.81373558,
          4.418032,
          4.41413619,
          4.80914755,
          4.41908838,
          4.8108485,
          5.5388335,
          6.34037177,
          4.8091989,
          5.5360908,
          3.0788301,
          5.5345386,
          3.08264876
         ],
         "marker": {
          "color": [
           10,
           9.8,
           9.7,
           9.7,
           9.7,
           9.7,
           9.7,
           9.6,
           9.6,
           9.6,
           9.5,
           9.5,
           9.5,
           9.5,
           9.5,
           9.5,
           9.4,
           9.4,
           9.4,
           9.4
          ],
          "coloraxis": "coloraxis",
          "opacity": 0.7,
          "size": [
           10,
           9.8,
           9.7,
           9.7,
           9.7,
           9.7,
           9.7,
           9.6,
           9.6,
           9.6,
           9.5,
           9.5,
           9.5,
           9.5,
           9.5,
           9.5,
           9.4,
           9.4,
           9.4,
           9.4
          ],
          "sizemode": "area",
          "sizeref": 0.03460207612456748
         },
         "mode": "markers",
         "name": "",
         "showlegend": false,
         "subplot": "mapbox",
         "type": "scattermapbox"
        }
       ],
       "layout": {
        "coloraxis": {
         "colorbar": {
          "title": {
           "text": "note"
          }
         },
         "colorscale": [
          [
           0,
           "rgb(196, 230, 195)"
          ],
          [
           0.16666666666666666,
           "rgb(150, 210, 164)"
          ],
          [
           0.3333333333333333,
           "rgb(109, 188, 144)"
          ],
          [
           0.5,
           "rgb(77, 162, 132)"
          ],
          [
           0.6666666666666666,
           "rgb(54, 135, 122)"
          ],
          [
           0.8333333333333334,
           "rgb(38, 107, 110)"
          ],
          [
           1,
           "rgb(29, 79, 96)"
          ]
         ]
        },
        "height": 800,
        "legend": {
         "itemsizing": "constant",
         "tracegroupgap": 0
        },
        "mapbox": {
         "center": {
          "lat": 46.603354,
          "lon": 1.888334
         },
         "domain": {
          "x": [
           0,
           1
          ],
          "y": [
           0,
           1
          ]
         },
         "style": "carto-positron",
         "zoom": 5
        },
        "margin": {
         "t": 60
        },
        "template": {
         "data": {
          "bar": [
           {
            "error_x": {
             "color": "#2a3f5f"
            },
            "error_y": {
             "color": "#2a3f5f"
            },
            "marker": {
             "line": {
              "color": "#E5ECF6",
              "width": 0.5
             },
             "pattern": {
              "fillmode": "overlay",
              "size": 10,
              "solidity": 0.2
             }
            },
            "type": "bar"
           }
          ],
          "barpolar": [
           {
            "marker": {
             "line": {
              "color": "#E5ECF6",
              "width": 0.5
             },
             "pattern": {
              "fillmode": "overlay",
              "size": 10,
              "solidity": 0.2
             }
            },
            "type": "barpolar"
           }
          ],
          "carpet": [
           {
            "aaxis": {
             "endlinecolor": "#2a3f5f",
             "gridcolor": "white",
             "linecolor": "white",
             "minorgridcolor": "white",
             "startlinecolor": "#2a3f5f"
            },
            "baxis": {
             "endlinecolor": "#2a3f5f",
             "gridcolor": "white",
             "linecolor": "white",
             "minorgridcolor": "white",
             "startlinecolor": "#2a3f5f"
            },
            "type": "carpet"
           }
          ],
          "choropleth": [
           {
            "colorbar": {
             "outlinewidth": 0,
             "ticks": ""
            },
            "type": "choropleth"
           }
          ],
          "contour": [
           {
            "colorbar": {
             "outlinewidth": 0,
             "ticks": ""
            },
            "colorscale": [
             [
              0,
              "#0d0887"
             ],
             [
              0.1111111111111111,
              "#46039f"
             ],
             [
              0.2222222222222222,
              "#7201a8"
             ],
             [
              0.3333333333333333,
              "#9c179e"
             ],
             [
              0.4444444444444444,
              "#bd3786"
             ],
             [
              0.5555555555555556,
              "#d8576b"
             ],
             [
              0.6666666666666666,
              "#ed7953"
             ],
             [
              0.7777777777777778,
              "#fb9f3a"
             ],
             [
              0.8888888888888888,
              "#fdca26"
             ],
             [
              1,
              "#f0f921"
             ]
            ],
            "type": "contour"
           }
          ],
          "contourcarpet": [
           {
            "colorbar": {
             "outlinewidth": 0,
             "ticks": ""
            },
            "type": "contourcarpet"
           }
          ],
          "heatmap": [
           {
            "colorbar": {
             "outlinewidth": 0,
             "ticks": ""
            },
            "colorscale": [
             [
              0,
              "#0d0887"
             ],
             [
              0.1111111111111111,
              "#46039f"
             ],
             [
              0.2222222222222222,
              "#7201a8"
             ],
             [
              0.3333333333333333,
              "#9c179e"
             ],
             [
              0.4444444444444444,
              "#bd3786"
             ],
             [
              0.5555555555555556,
              "#d8576b"
             ],
             [
              0.6666666666666666,
              "#ed7953"
             ],
             [
              0.7777777777777778,
              "#fb9f3a"
             ],
             [
              0.8888888888888888,
              "#fdca26"
             ],
             [
              1,
              "#f0f921"
             ]
            ],
            "type": "heatmap"
           }
          ],
          "heatmapgl": [
           {
            "colorbar": {
             "outlinewidth": 0,
             "ticks": ""
            },
            "colorscale": [
             [
              0,
              "#0d0887"
             ],
             [
              0.1111111111111111,
              "#46039f"
             ],
             [
              0.2222222222222222,
              "#7201a8"
             ],
             [
              0.3333333333333333,
              "#9c179e"
             ],
             [
              0.4444444444444444,
              "#bd3786"
             ],
             [
              0.5555555555555556,
              "#d8576b"
             ],
             [
              0.6666666666666666,
              "#ed7953"
             ],
             [
              0.7777777777777778,
              "#fb9f3a"
             ],
             [
              0.8888888888888888,
              "#fdca26"
             ],
             [
              1,
              "#f0f921"
             ]
            ],
            "type": "heatmapgl"
           }
          ],
          "histogram": [
           {
            "marker": {
             "pattern": {
              "fillmode": "overlay",
              "size": 10,
              "solidity": 0.2
             }
            },
            "type": "histogram"
           }
          ],
          "histogram2d": [
           {
            "colorbar": {
             "outlinewidth": 0,
             "ticks": ""
            },
            "colorscale": [
             [
              0,
              "#0d0887"
             ],
             [
              0.1111111111111111,
              "#46039f"
             ],
             [
              0.2222222222222222,
              "#7201a8"
             ],
             [
              0.3333333333333333,
              "#9c179e"
             ],
             [
              0.4444444444444444,
              "#bd3786"
             ],
             [
              0.5555555555555556,
              "#d8576b"
             ],
             [
              0.6666666666666666,
              "#ed7953"
             ],
             [
              0.7777777777777778,
              "#fb9f3a"
             ],
             [
              0.8888888888888888,
              "#fdca26"
             ],
             [
              1,
              "#f0f921"
             ]
            ],
            "type": "histogram2d"
           }
          ],
          "histogram2dcontour": [
           {
            "colorbar": {
             "outlinewidth": 0,
             "ticks": ""
            },
            "colorscale": [
             [
              0,
              "#0d0887"
             ],
             [
              0.1111111111111111,
              "#46039f"
             ],
             [
              0.2222222222222222,
              "#7201a8"
             ],
             [
              0.3333333333333333,
              "#9c179e"
             ],
             [
              0.4444444444444444,
              "#bd3786"
             ],
             [
              0.5555555555555556,
              "#d8576b"
             ],
             [
              0.6666666666666666,
              "#ed7953"
             ],
             [
              0.7777777777777778,
              "#fb9f3a"
             ],
             [
              0.8888888888888888,
              "#fdca26"
             ],
             [
              1,
              "#f0f921"
             ]
            ],
            "type": "histogram2dcontour"
           }
          ],
          "mesh3d": [
           {
            "colorbar": {
             "outlinewidth": 0,
             "ticks": ""
            },
            "type": "mesh3d"
           }
          ],
          "parcoords": [
           {
            "line": {
             "colorbar": {
              "outlinewidth": 0,
              "ticks": ""
             }
            },
            "type": "parcoords"
           }
          ],
          "pie": [
           {
            "automargin": true,
            "type": "pie"
           }
          ],
          "scatter": [
           {
            "fillpattern": {
             "fillmode": "overlay",
             "size": 10,
             "solidity": 0.2
            },
            "type": "scatter"
           }
          ],
          "scatter3d": [
           {
            "line": {
             "colorbar": {
              "outlinewidth": 0,
              "ticks": ""
             }
            },
            "marker": {
             "colorbar": {
              "outlinewidth": 0,
              "ticks": ""
             }
            },
            "type": "scatter3d"
           }
          ],
          "scattercarpet": [
           {
            "marker": {
             "colorbar": {
              "outlinewidth": 0,
              "ticks": ""
             }
            },
            "type": "scattercarpet"
           }
          ],
          "scattergeo": [
           {
            "marker": {
             "colorbar": {
              "outlinewidth": 0,
              "ticks": ""
             }
            },
            "type": "scattergeo"
           }
          ],
          "scattergl": [
           {
            "marker": {
             "colorbar": {
              "outlinewidth": 0,
              "ticks": ""
             }
            },
            "type": "scattergl"
           }
          ],
          "scattermapbox": [
           {
            "marker": {
             "colorbar": {
              "outlinewidth": 0,
              "ticks": ""
             }
            },
            "type": "scattermapbox"
           }
          ],
          "scatterpolar": [
           {
            "marker": {
             "colorbar": {
              "outlinewidth": 0,
              "ticks": ""
             }
            },
            "type": "scatterpolar"
           }
          ],
          "scatterpolargl": [
           {
            "marker": {
             "colorbar": {
              "outlinewidth": 0,
              "ticks": ""
             }
            },
            "type": "scatterpolargl"
           }
          ],
          "scatterternary": [
           {
            "marker": {
             "colorbar": {
              "outlinewidth": 0,
              "ticks": ""
             }
            },
            "type": "scatterternary"
           }
          ],
          "surface": [
           {
            "colorbar": {
             "outlinewidth": 0,
             "ticks": ""
            },
            "colorscale": [
             [
              0,
              "#0d0887"
             ],
             [
              0.1111111111111111,
              "#46039f"
             ],
             [
              0.2222222222222222,
              "#7201a8"
             ],
             [
              0.3333333333333333,
              "#9c179e"
             ],
             [
              0.4444444444444444,
              "#bd3786"
             ],
             [
              0.5555555555555556,
              "#d8576b"
             ],
             [
              0.6666666666666666,
              "#ed7953"
             ],
             [
              0.7777777777777778,
              "#fb9f3a"
             ],
             [
              0.8888888888888888,
              "#fdca26"
             ],
             [
              1,
              "#f0f921"
             ]
            ],
            "type": "surface"
           }
          ],
          "table": [
           {
            "cells": {
             "fill": {
              "color": "#EBF0F8"
             },
             "line": {
              "color": "white"
             }
            },
            "header": {
             "fill": {
              "color": "#C8D4E3"
             },
             "line": {
              "color": "white"
             }
            },
            "type": "table"
           }
          ]
         },
         "layout": {
          "annotationdefaults": {
           "arrowcolor": "#2a3f5f",
           "arrowhead": 0,
           "arrowwidth": 1
          },
          "autotypenumbers": "strict",
          "coloraxis": {
           "colorbar": {
            "outlinewidth": 0,
            "ticks": ""
           }
          },
          "colorscale": {
           "diverging": [
            [
             0,
             "#8e0152"
            ],
            [
             0.1,
             "#c51b7d"
            ],
            [
             0.2,
             "#de77ae"
            ],
            [
             0.3,
             "#f1b6da"
            ],
            [
             0.4,
             "#fde0ef"
            ],
            [
             0.5,
             "#f7f7f7"
            ],
            [
             0.6,
             "#e6f5d0"
            ],
            [
             0.7,
             "#b8e186"
            ],
            [
             0.8,
             "#7fbc41"
            ],
            [
             0.9,
             "#4d9221"
            ],
            [
             1,
             "#276419"
            ]
           ],
           "sequential": [
            [
             0,
             "#0d0887"
            ],
            [
             0.1111111111111111,
             "#46039f"
            ],
            [
             0.2222222222222222,
             "#7201a8"
            ],
            [
             0.3333333333333333,
             "#9c179e"
            ],
            [
             0.4444444444444444,
             "#bd3786"
            ],
            [
             0.5555555555555556,
             "#d8576b"
            ],
            [
             0.6666666666666666,
             "#ed7953"
            ],
            [
             0.7777777777777778,
             "#fb9f3a"
            ],
            [
             0.8888888888888888,
             "#fdca26"
            ],
            [
             1,
             "#f0f921"
            ]
           ],
           "sequentialminus": [
            [
             0,
             "#0d0887"
            ],
            [
             0.1111111111111111,
             "#46039f"
            ],
            [
             0.2222222222222222,
             "#7201a8"
            ],
            [
             0.3333333333333333,
             "#9c179e"
            ],
            [
             0.4444444444444444,
             "#bd3786"
            ],
            [
             0.5555555555555556,
             "#d8576b"
            ],
            [
             0.6666666666666666,
             "#ed7953"
            ],
            [
             0.7777777777777778,
             "#fb9f3a"
            ],
            [
             0.8888888888888888,
             "#fdca26"
            ],
            [
             1,
             "#f0f921"
            ]
           ]
          },
          "colorway": [
           "#636efa",
           "#EF553B",
           "#00cc96",
           "#ab63fa",
           "#FFA15A",
           "#19d3f3",
           "#FF6692",
           "#B6E880",
           "#FF97FF",
           "#FECB52"
          ],
          "font": {
           "color": "#2a3f5f"
          },
          "geo": {
           "bgcolor": "white",
           "lakecolor": "white",
           "landcolor": "#E5ECF6",
           "showlakes": true,
           "showland": true,
           "subunitcolor": "white"
          },
          "hoverlabel": {
           "align": "left"
          },
          "hovermode": "closest",
          "mapbox": {
           "style": "light"
          },
          "paper_bgcolor": "white",
          "plot_bgcolor": "#E5ECF6",
          "polar": {
           "angularaxis": {
            "gridcolor": "white",
            "linecolor": "white",
            "ticks": ""
           },
           "bgcolor": "#E5ECF6",
           "radialaxis": {
            "gridcolor": "white",
            "linecolor": "white",
            "ticks": ""
           }
          },
          "scene": {
           "xaxis": {
            "backgroundcolor": "#E5ECF6",
            "gridcolor": "white",
            "gridwidth": 2,
            "linecolor": "white",
            "showbackground": true,
            "ticks": "",
            "zerolinecolor": "white"
           },
           "yaxis": {
            "backgroundcolor": "#E5ECF6",
            "gridcolor": "white",
            "gridwidth": 2,
            "linecolor": "white",
            "showbackground": true,
            "ticks": "",
            "zerolinecolor": "white"
           },
           "zaxis": {
            "backgroundcolor": "#E5ECF6",
            "gridcolor": "white",
            "gridwidth": 2,
            "linecolor": "white",
            "showbackground": true,
            "ticks": "",
            "zerolinecolor": "white"
           }
          },
          "shapedefaults": {
           "line": {
            "color": "#2a3f5f"
           }
          },
          "ternary": {
           "aaxis": {
            "gridcolor": "white",
            "linecolor": "white",
            "ticks": ""
           },
           "baxis": {
            "gridcolor": "white",
            "linecolor": "white",
            "ticks": ""
           },
           "bgcolor": "#E5ECF6",
           "caxis": {
            "gridcolor": "white",
            "linecolor": "white",
            "ticks": ""
           }
          },
          "title": {
           "x": 0.05
          },
          "xaxis": {
           "automargin": true,
           "gridcolor": "white",
           "linecolor": "white",
           "ticks": "",
           "title": {
            "standoff": 15
           },
           "zerolinecolor": "white",
           "zerolinewidth": 2
          },
          "yaxis": {
           "automargin": true,
           "gridcolor": "white",
           "linecolor": "white",
           "ticks": "",
           "title": {
            "standoff": 15
           },
           "zerolinecolor": "white",
           "zerolinewidth": 2
          }
         }
        },
        "title": {
         "text": "Selection of the 20 best-rated hotels",
         "x": 0.5
        },
        "width": 800
       }
      }
     },
     "metadata": {},
     "output_type": "display_data"
    }
   ],
   "source": [
    "# Keep the 20 best-rated hotels\n",
    "df_top20 = df_final.sort_values(by=\"note\", ascending=False)\n",
    "df_top20 = df_top20.iloc[0:20]\n",
    "\n",
    "# Display the best 20 hotels for the 5 cities (combined) with Plotly\n",
    "fig_top20 = px.scatter_mapbox(\n",
    "    df_top20, \n",
    "    lat=\"hotel_lat\", \n",
    "    lon=\"hotel_lon\", \n",
    "    color=\"note\",\n",
    "    size=\"note\",\n",
    "    hover_name=\"name\", \n",
    "    mapbox_style='carto-positron',\n",
    "    color_continuous_scale=px.colors.sequential.Blugrn, \n",
    "    size_max=17, \n",
    "    zoom=5, \n",
    "    width=800, \n",
    "    height=800,\n",
    "    opacity= 0.7,\n",
    "    center={\"lat\": 46.603354, \"lon\": 1.888334}\n",
    ")\n",
    "\n",
    "fig_top20.update_layout(\n",
    "    title = \"Selection of the 20 best-rated hotels\",\n",
    "    title_x = 0.5\n",
    ")\n",
    "\n",
    "fig_top20.show()"
   ]
  },
  {
   "cell_type": "code",
   "execution_count": 27,
   "metadata": {},
   "outputs": [
    {
     "data": {
      "application/vnd.plotly.v1+json": {
       "config": {
        "plotlyServerURL": "https://plot.ly"
       },
       "data": [
        {
         "hovertemplate": "city=Avignon<br>note=%{marker.color}<br>hotel_lat=%{lat}<br>hotel_lon=%{lon}<extra></extra>",
         "lat": [
          43.9461706,
          43.94986998,
          43.94290138,
          43.9440938,
          43.97548368,
          43.9438081,
          43.9466748,
          43.94448303,
          43.94963777,
          43.94886695,
          43.94989514,
          43.9496041,
          43.9444098,
          43.94649904,
          43.94964694,
          43.9505235,
          43.94461632,
          43.94362946,
          43.9505228,
          43.948083,
          43.95130663,
          43.9513089,
          43.9481658,
          43.94403213,
          43.95108984
         ],
         "legendgroup": "",
         "lon": [
          4.8101887,
          4.80851546,
          4.79804277,
          4.8081971,
          4.8274371,
          4.80494678,
          4.8089156,
          4.79949588,
          4.80635896,
          4.80914755,
          4.81986389,
          4.8115416,
          4.8108485,
          4.81311642,
          4.81051236,
          4.8137329,
          4.80061233,
          4.81217131,
          4.81373558,
          4.8088563,
          4.80400931,
          4.8091989,
          4.80576485,
          4.80533168,
          4.79801933
         ],
         "marker": {
          "color": [
           8.7,
           9.3,
           7.9,
           8.6,
           8.6,
           7.6,
           9.7,
           8.8,
           8.3,
           9.5,
           7.8,
           9.3,
           9.5,
           8.8,
           9.3,
           8.6,
           7.8,
           8.3,
           9.6,
           9.1,
           8.9,
           9.5,
           8,
           8,
           9.2
          ],
          "coloraxis": "coloraxis",
          "size": [
           8.7,
           9.3,
           7.9,
           8.6,
           8.6,
           7.6,
           9.7,
           8.8,
           8.3,
           9.5,
           7.8,
           9.3,
           9.5,
           8.8,
           9.3,
           8.6,
           7.8,
           8.3,
           9.6,
           9.1,
           8.9,
           9.5,
           8,
           8,
           9.2
          ],
          "sizemode": "area",
          "sizeref": 0.025
         },
         "mode": "markers",
         "name": "",
         "showlegend": false,
         "subplot": "mapbox",
         "type": "scattermapbox"
        }
       ],
       "frames": [
        {
         "data": [
          {
           "hovertemplate": "city=Avignon<br>note=%{marker.color}<br>hotel_lat=%{lat}<br>hotel_lon=%{lon}<extra></extra>",
           "lat": [
            43.9461706,
            43.94986998,
            43.94290138,
            43.9440938,
            43.97548368,
            43.9438081,
            43.9466748,
            43.94448303,
            43.94963777,
            43.94886695,
            43.94989514,
            43.9496041,
            43.9444098,
            43.94649904,
            43.94964694,
            43.9505235,
            43.94461632,
            43.94362946,
            43.9505228,
            43.948083,
            43.95130663,
            43.9513089,
            43.9481658,
            43.94403213,
            43.95108984
           ],
           "legendgroup": "",
           "lon": [
            4.8101887,
            4.80851546,
            4.79804277,
            4.8081971,
            4.8274371,
            4.80494678,
            4.8089156,
            4.79949588,
            4.80635896,
            4.80914755,
            4.81986389,
            4.8115416,
            4.8108485,
            4.81311642,
            4.81051236,
            4.8137329,
            4.80061233,
            4.81217131,
            4.81373558,
            4.8088563,
            4.80400931,
            4.8091989,
            4.80576485,
            4.80533168,
            4.79801933
           ],
           "marker": {
            "color": [
             8.7,
             9.3,
             7.9,
             8.6,
             8.6,
             7.6,
             9.7,
             8.8,
             8.3,
             9.5,
             7.8,
             9.3,
             9.5,
             8.8,
             9.3,
             8.6,
             7.8,
             8.3,
             9.6,
             9.1,
             8.9,
             9.5,
             8,
             8,
             9.2
            ],
            "coloraxis": "coloraxis",
            "size": [
             8.7,
             9.3,
             7.9,
             8.6,
             8.6,
             7.6,
             9.7,
             8.8,
             8.3,
             9.5,
             7.8,
             9.3,
             9.5,
             8.8,
             9.3,
             8.6,
             7.8,
             8.3,
             9.6,
             9.1,
             8.9,
             9.5,
             8,
             8,
             9.2
            ],
            "sizemode": "area",
            "sizeref": 0.025
           },
           "mode": "markers",
           "name": "",
           "showlegend": false,
           "subplot": "mapbox",
           "type": "scattermapbox"
          }
         ],
         "name": "Avignon"
        },
        {
         "data": [
          {
           "hovertemplate": "city=Collioure<br>note=%{marker.color}<br>hotel_lat=%{lat}<br>hotel_lon=%{lon}<extra></extra>",
           "lat": [
            42.52488242,
            42.5227675,
            42.5273872,
            42.5236262,
            42.52298768,
            42.52666546,
            42.5235481,
            42.52334528,
            42.52411449,
            42.5211169,
            42.5231333,
            42.52460816,
            42.525953,
            42.52547153,
            42.52094457,
            42.52730095,
            42.52311754,
            42.52876467,
            42.52708254,
            42.52616733,
            42.5244311,
            42.52534777,
            42.52638625,
            42.52538159
           ],
           "legendgroup": "",
           "lon": [
            3.08187893,
            3.0788301,
            3.0823386,
            3.0840962,
            3.08732966,
            3.08394089,
            3.08187379,
            3.08696844,
            3.08936566,
            3.07730913,
            3.0855761,
            3.08264876,
            3.078524,
            3.0826987,
            3.08707947,
            3.08423268,
            3.0854253,
            3.07865426,
            3.08026291,
            3.08235571,
            3.09031585,
            3.09032446,
            3.08325659,
            3.08256391
           ],
           "marker": {
            "color": [
             9,
             9.4,
             8.9,
             9.1,
             9.1,
             8.1,
             8.4,
             8.8,
             8.3,
             8.8,
             8.4,
             9.4,
             9,
             8.6,
             9,
             8.1,
             8,
             9,
             7.8,
             8.9,
             9.2,
             9.1,
             8.4,
             8.2
            ],
            "coloraxis": "coloraxis",
            "size": [
             9,
             9.4,
             8.9,
             9.1,
             9.1,
             8.1,
             8.4,
             8.8,
             8.3,
             8.8,
             8.4,
             9.4,
             9,
             8.6,
             9,
             8.1,
             8,
             9,
             7.8,
             8.9,
             9.2,
             9.1,
             8.4,
             8.2
            ],
            "sizemode": "area",
            "sizeref": 0.025
           },
           "mode": "markers",
           "name": "",
           "showlegend": false,
           "subplot": "mapbox",
           "type": "scattermapbox"
          }
         ],
         "name": "Collioure"
        },
        {
         "data": [
          {
           "hovertemplate": "city=Cassis<br>note=%{marker.color}<br>hotel_lat=%{lat}<br>hotel_lon=%{lon}<extra></extra>",
           "lat": [
            43.21341379,
            43.2109664,
            43.2144315,
            43.2175119,
            43.2135817,
            43.21370621,
            43.2135692,
            43.22058508,
            43.21500806,
            43.2148195,
            43.21544456,
            43.21459053,
            43.21443438,
            43.215051,
            43.2141154,
            43.2146895,
            43.2160986,
            43.21457326,
            43.2223547,
            43.211728,
            43.2204519,
            43.21508678,
            43.2191999,
            43.215009,
            43.21644024
           ],
           "legendgroup": "",
           "lon": [
            5.54048885,
            5.5472613,
            5.5350758,
            5.5316933,
            5.5397868,
            5.53895809,
            5.5410127,
            5.54179736,
            5.53519043,
            5.5349404,
            5.53885704,
            5.53786767,
            5.53529486,
            5.5388335,
            5.5338211,
            5.5394424,
            5.5378404,
            5.54014698,
            5.5345386,
            5.5286144,
            5.5360908,
            5.53094902,
            5.5471365,
            5.530956,
            5.54174572
           ],
           "marker": {
            "color": [
             8.8,
             8.9,
             8.9,
             8.6,
             9.2,
             7.7,
             8.2,
             8.6,
             8.8,
             8.5,
             9,
             8.1,
             8,
             9.5,
             9.7,
             8.7,
             9.3,
             8.4,
             9.4,
             9.1,
             9.4,
             9.1,
             9.4,
             9.3,
             9.2
            ],
            "coloraxis": "coloraxis",
            "size": [
             8.8,
             8.9,
             8.9,
             8.6,
             9.2,
             7.7,
             8.2,
             8.6,
             8.8,
             8.5,
             9,
             8.1,
             8,
             9.5,
             9.7,
             8.7,
             9.3,
             8.4,
             9.4,
             9.1,
             9.4,
             9.1,
             9.4,
             9.3,
             9.2
            ],
            "sizemode": "area",
            "sizeref": 0.025
           },
           "mode": "markers",
           "name": "",
           "showlegend": false,
           "subplot": "mapbox",
           "type": "scattermapbox"
          }
         ],
         "name": "Cassis"
        },
        {
         "data": [
          {
           "hovertemplate": "city=Uzès<br>note=%{marker.color}<br>hotel_lat=%{lat}<br>hotel_lon=%{lon}<extra></extra>",
           "lat": [
            44.00778294,
            44.00284485,
            44.01137513,
            44.0118323,
            44.0133411,
            44.01315797,
            44.00771258,
            44.0141777,
            44.0077179,
            44.009668,
            44.01167638,
            43.99589186,
            44.0121521,
            44.01184741,
            44.01168919,
            44.0112246,
            44.01922955,
            44.0108258,
            44.0115749,
            44.014659,
            44.0120504,
            44.0114872,
            44.00964195,
            44.01246437,
            44.02305334
           ],
           "legendgroup": "",
           "lon": [
            4.40718146,
            4.41645205,
            4.41975805,
            4.4185005,
            4.419716,
            4.42056134,
            4.40714631,
            4.4220873,
            4.4085783,
            4.418032,
            4.41908838,
            4.42746718,
            4.4169701,
            4.41413619,
            4.42128514,
            4.4199226,
            4.41891083,
            4.4177601,
            4.4207409,
            4.4200515,
            4.4192438,
            4.4198868,
            4.41788524,
            4.42180011,
            4.42047223
           ],
           "marker": {
            "color": [
             8.1,
             7.7,
             8.2,
             9.2,
             9.7,
             9.3,
             8,
             9,
             8.8,
             9.6,
             9.5,
             9.4,
             8.6,
             9.6,
             7.6,
             9.3,
             9.7,
             9.1,
             8.8,
             8.6,
             9.8,
             9.3,
             8.9,
             8.9,
             8.8
            ],
            "coloraxis": "coloraxis",
            "size": [
             8.1,
             7.7,
             8.2,
             9.2,
             9.7,
             9.3,
             8,
             9,
             8.8,
             9.6,
             9.5,
             9.4,
             8.6,
             9.6,
             7.6,
             9.3,
             9.7,
             9.1,
             8.8,
             8.6,
             9.8,
             9.3,
             8.9,
             8.9,
             8.8
            ],
            "sizemode": "area",
            "sizeref": 0.025
           },
           "mode": "markers",
           "name": "",
           "showlegend": false,
           "subplot": "mapbox",
           "type": "scattermapbox"
          }
         ],
         "name": "Uzès"
        },
        {
         "data": [
          {
           "hovertemplate": "city=Bormes-les-Mimosas<br>note=%{marker.color}<br>hotel_lat=%{lat}<br>hotel_lon=%{lon}<extra></extra>",
           "lat": [
            43.10286293,
            43.15127099,
            43.14393659,
            43.12215305,
            43.1519579,
            43.1228248,
            43.15036057,
            43.1260231,
            43.152872,
            43.12549,
            43.1233576,
            43.12135899,
            43.14456855,
            43.15042979,
            43.1509262,
            43.13967,
            43.1228555,
            43.124617,
            43.144686,
            43.15093095,
            43.14243053,
            43.1507533,
            43.15187759,
            43.12276638
           ],
           "legendgroup": "",
           "lon": [
            6.32735252,
            6.34190677,
            6.33632324,
            6.35946358,
            6.3432835,
            6.3568602,
            6.34262603,
            6.358852,
            6.342654,
            6.3573,
            6.3528506,
            6.36352754,
            6.35168418,
            6.34254605,
            6.3417905,
            6.353453,
            6.3565244,
            6.357572,
            6.335125,
            6.34180632,
            6.34037177,
            6.3406583,
            6.34313598,
            6.35479908
           ],
           "marker": {
            "color": [
             8.5,
             8.8,
             9.1,
             9.3,
             7.8,
             7,
             8.3,
             8.9,
             8.8,
             7.8,
             7.3,
             8.8,
             9.2,
             8.5,
             9,
             10,
             9.2,
             8.7,
             8.4,
             9.7,
             9.5,
             9.1,
             7.5,
             8.4
            ],
            "coloraxis": "coloraxis",
            "size": [
             8.5,
             8.8,
             9.1,
             9.3,
             7.8,
             7,
             8.3,
             8.9,
             8.8,
             7.8,
             7.3,
             8.8,
             9.2,
             8.5,
             9,
             10,
             9.2,
             8.7,
             8.4,
             9.7,
             9.5,
             9.1,
             7.5,
             8.4
            ],
            "sizemode": "area",
            "sizeref": 0.025
           },
           "mode": "markers",
           "name": "",
           "showlegend": false,
           "subplot": "mapbox",
           "type": "scattermapbox"
          }
         ],
         "name": "Bormes-les-Mimosas"
        }
       ],
       "layout": {
        "coloraxis": {
         "colorbar": {
          "title": {
           "text": "note"
          }
         },
         "colorscale": [
          [
           0,
           "rgb(236, 218, 154)"
          ],
          [
           0.16666666666666666,
           "rgb(239, 196, 126)"
          ],
          [
           0.3333333333333333,
           "rgb(243, 173, 106)"
          ],
          [
           0.5,
           "rgb(247, 148, 93)"
          ],
          [
           0.6666666666666666,
           "rgb(249, 123, 87)"
          ],
          [
           0.8333333333333334,
           "rgb(246, 99, 86)"
          ],
          [
           1,
           "rgb(238, 77, 90)"
          ]
         ]
        },
        "height": 800,
        "legend": {
         "itemsizing": "constant",
         "tracegroupgap": 0
        },
        "mapbox": {
         "center": {
          "lat": 43.37615264178862,
          "lon": 4.841145140243903
         },
         "domain": {
          "x": [
           0,
           1
          ],
          "y": [
           0,
           1
          ]
         },
         "style": "carto-positron",
         "zoom": 5
        },
        "margin": {
         "t": 60
        },
        "sliders": [
         {
          "active": 0,
          "currentvalue": {
           "prefix": "city="
          },
          "len": 0.9,
          "pad": {
           "b": 10,
           "t": 60
          },
          "steps": [
           {
            "args": [
             [
              "Avignon"
             ],
             {
              "frame": {
               "duration": 0,
               "redraw": true
              },
              "fromcurrent": true,
              "mode": "immediate",
              "transition": {
               "duration": 0,
               "easing": "linear"
              }
             }
            ],
            "label": "Avignon",
            "method": "animate"
           },
           {
            "args": [
             [
              "Collioure"
             ],
             {
              "frame": {
               "duration": 0,
               "redraw": true
              },
              "fromcurrent": true,
              "mode": "immediate",
              "transition": {
               "duration": 0,
               "easing": "linear"
              }
             }
            ],
            "label": "Collioure",
            "method": "animate"
           },
           {
            "args": [
             [
              "Cassis"
             ],
             {
              "frame": {
               "duration": 0,
               "redraw": true
              },
              "fromcurrent": true,
              "mode": "immediate",
              "transition": {
               "duration": 0,
               "easing": "linear"
              }
             }
            ],
            "label": "Cassis",
            "method": "animate"
           },
           {
            "args": [
             [
              "Uzès"
             ],
             {
              "frame": {
               "duration": 0,
               "redraw": true
              },
              "fromcurrent": true,
              "mode": "immediate",
              "transition": {
               "duration": 0,
               "easing": "linear"
              }
             }
            ],
            "label": "Uzès",
            "method": "animate"
           },
           {
            "args": [
             [
              "Bormes-les-Mimosas"
             ],
             {
              "frame": {
               "duration": 0,
               "redraw": true
              },
              "fromcurrent": true,
              "mode": "immediate",
              "transition": {
               "duration": 0,
               "easing": "linear"
              }
             }
            ],
            "label": "Bormes-les-Mimosas",
            "method": "animate"
           }
          ],
          "x": 0.1,
          "xanchor": "left",
          "y": 0,
          "yanchor": "top"
         }
        ],
        "template": {
         "data": {
          "bar": [
           {
            "error_x": {
             "color": "#2a3f5f"
            },
            "error_y": {
             "color": "#2a3f5f"
            },
            "marker": {
             "line": {
              "color": "#E5ECF6",
              "width": 0.5
             },
             "pattern": {
              "fillmode": "overlay",
              "size": 10,
              "solidity": 0.2
             }
            },
            "type": "bar"
           }
          ],
          "barpolar": [
           {
            "marker": {
             "line": {
              "color": "#E5ECF6",
              "width": 0.5
             },
             "pattern": {
              "fillmode": "overlay",
              "size": 10,
              "solidity": 0.2
             }
            },
            "type": "barpolar"
           }
          ],
          "carpet": [
           {
            "aaxis": {
             "endlinecolor": "#2a3f5f",
             "gridcolor": "white",
             "linecolor": "white",
             "minorgridcolor": "white",
             "startlinecolor": "#2a3f5f"
            },
            "baxis": {
             "endlinecolor": "#2a3f5f",
             "gridcolor": "white",
             "linecolor": "white",
             "minorgridcolor": "white",
             "startlinecolor": "#2a3f5f"
            },
            "type": "carpet"
           }
          ],
          "choropleth": [
           {
            "colorbar": {
             "outlinewidth": 0,
             "ticks": ""
            },
            "type": "choropleth"
           }
          ],
          "contour": [
           {
            "colorbar": {
             "outlinewidth": 0,
             "ticks": ""
            },
            "colorscale": [
             [
              0,
              "#0d0887"
             ],
             [
              0.1111111111111111,
              "#46039f"
             ],
             [
              0.2222222222222222,
              "#7201a8"
             ],
             [
              0.3333333333333333,
              "#9c179e"
             ],
             [
              0.4444444444444444,
              "#bd3786"
             ],
             [
              0.5555555555555556,
              "#d8576b"
             ],
             [
              0.6666666666666666,
              "#ed7953"
             ],
             [
              0.7777777777777778,
              "#fb9f3a"
             ],
             [
              0.8888888888888888,
              "#fdca26"
             ],
             [
              1,
              "#f0f921"
             ]
            ],
            "type": "contour"
           }
          ],
          "contourcarpet": [
           {
            "colorbar": {
             "outlinewidth": 0,
             "ticks": ""
            },
            "type": "contourcarpet"
           }
          ],
          "heatmap": [
           {
            "colorbar": {
             "outlinewidth": 0,
             "ticks": ""
            },
            "colorscale": [
             [
              0,
              "#0d0887"
             ],
             [
              0.1111111111111111,
              "#46039f"
             ],
             [
              0.2222222222222222,
              "#7201a8"
             ],
             [
              0.3333333333333333,
              "#9c179e"
             ],
             [
              0.4444444444444444,
              "#bd3786"
             ],
             [
              0.5555555555555556,
              "#d8576b"
             ],
             [
              0.6666666666666666,
              "#ed7953"
             ],
             [
              0.7777777777777778,
              "#fb9f3a"
             ],
             [
              0.8888888888888888,
              "#fdca26"
             ],
             [
              1,
              "#f0f921"
             ]
            ],
            "type": "heatmap"
           }
          ],
          "heatmapgl": [
           {
            "colorbar": {
             "outlinewidth": 0,
             "ticks": ""
            },
            "colorscale": [
             [
              0,
              "#0d0887"
             ],
             [
              0.1111111111111111,
              "#46039f"
             ],
             [
              0.2222222222222222,
              "#7201a8"
             ],
             [
              0.3333333333333333,
              "#9c179e"
             ],
             [
              0.4444444444444444,
              "#bd3786"
             ],
             [
              0.5555555555555556,
              "#d8576b"
             ],
             [
              0.6666666666666666,
              "#ed7953"
             ],
             [
              0.7777777777777778,
              "#fb9f3a"
             ],
             [
              0.8888888888888888,
              "#fdca26"
             ],
             [
              1,
              "#f0f921"
             ]
            ],
            "type": "heatmapgl"
           }
          ],
          "histogram": [
           {
            "marker": {
             "pattern": {
              "fillmode": "overlay",
              "size": 10,
              "solidity": 0.2
             }
            },
            "type": "histogram"
           }
          ],
          "histogram2d": [
           {
            "colorbar": {
             "outlinewidth": 0,
             "ticks": ""
            },
            "colorscale": [
             [
              0,
              "#0d0887"
             ],
             [
              0.1111111111111111,
              "#46039f"
             ],
             [
              0.2222222222222222,
              "#7201a8"
             ],
             [
              0.3333333333333333,
              "#9c179e"
             ],
             [
              0.4444444444444444,
              "#bd3786"
             ],
             [
              0.5555555555555556,
              "#d8576b"
             ],
             [
              0.6666666666666666,
              "#ed7953"
             ],
             [
              0.7777777777777778,
              "#fb9f3a"
             ],
             [
              0.8888888888888888,
              "#fdca26"
             ],
             [
              1,
              "#f0f921"
             ]
            ],
            "type": "histogram2d"
           }
          ],
          "histogram2dcontour": [
           {
            "colorbar": {
             "outlinewidth": 0,
             "ticks": ""
            },
            "colorscale": [
             [
              0,
              "#0d0887"
             ],
             [
              0.1111111111111111,
              "#46039f"
             ],
             [
              0.2222222222222222,
              "#7201a8"
             ],
             [
              0.3333333333333333,
              "#9c179e"
             ],
             [
              0.4444444444444444,
              "#bd3786"
             ],
             [
              0.5555555555555556,
              "#d8576b"
             ],
             [
              0.6666666666666666,
              "#ed7953"
             ],
             [
              0.7777777777777778,
              "#fb9f3a"
             ],
             [
              0.8888888888888888,
              "#fdca26"
             ],
             [
              1,
              "#f0f921"
             ]
            ],
            "type": "histogram2dcontour"
           }
          ],
          "mesh3d": [
           {
            "colorbar": {
             "outlinewidth": 0,
             "ticks": ""
            },
            "type": "mesh3d"
           }
          ],
          "parcoords": [
           {
            "line": {
             "colorbar": {
              "outlinewidth": 0,
              "ticks": ""
             }
            },
            "type": "parcoords"
           }
          ],
          "pie": [
           {
            "automargin": true,
            "type": "pie"
           }
          ],
          "scatter": [
           {
            "fillpattern": {
             "fillmode": "overlay",
             "size": 10,
             "solidity": 0.2
            },
            "type": "scatter"
           }
          ],
          "scatter3d": [
           {
            "line": {
             "colorbar": {
              "outlinewidth": 0,
              "ticks": ""
             }
            },
            "marker": {
             "colorbar": {
              "outlinewidth": 0,
              "ticks": ""
             }
            },
            "type": "scatter3d"
           }
          ],
          "scattercarpet": [
           {
            "marker": {
             "colorbar": {
              "outlinewidth": 0,
              "ticks": ""
             }
            },
            "type": "scattercarpet"
           }
          ],
          "scattergeo": [
           {
            "marker": {
             "colorbar": {
              "outlinewidth": 0,
              "ticks": ""
             }
            },
            "type": "scattergeo"
           }
          ],
          "scattergl": [
           {
            "marker": {
             "colorbar": {
              "outlinewidth": 0,
              "ticks": ""
             }
            },
            "type": "scattergl"
           }
          ],
          "scattermapbox": [
           {
            "marker": {
             "colorbar": {
              "outlinewidth": 0,
              "ticks": ""
             }
            },
            "type": "scattermapbox"
           }
          ],
          "scatterpolar": [
           {
            "marker": {
             "colorbar": {
              "outlinewidth": 0,
              "ticks": ""
             }
            },
            "type": "scatterpolar"
           }
          ],
          "scatterpolargl": [
           {
            "marker": {
             "colorbar": {
              "outlinewidth": 0,
              "ticks": ""
             }
            },
            "type": "scatterpolargl"
           }
          ],
          "scatterternary": [
           {
            "marker": {
             "colorbar": {
              "outlinewidth": 0,
              "ticks": ""
             }
            },
            "type": "scatterternary"
           }
          ],
          "surface": [
           {
            "colorbar": {
             "outlinewidth": 0,
             "ticks": ""
            },
            "colorscale": [
             [
              0,
              "#0d0887"
             ],
             [
              0.1111111111111111,
              "#46039f"
             ],
             [
              0.2222222222222222,
              "#7201a8"
             ],
             [
              0.3333333333333333,
              "#9c179e"
             ],
             [
              0.4444444444444444,
              "#bd3786"
             ],
             [
              0.5555555555555556,
              "#d8576b"
             ],
             [
              0.6666666666666666,
              "#ed7953"
             ],
             [
              0.7777777777777778,
              "#fb9f3a"
             ],
             [
              0.8888888888888888,
              "#fdca26"
             ],
             [
              1,
              "#f0f921"
             ]
            ],
            "type": "surface"
           }
          ],
          "table": [
           {
            "cells": {
             "fill": {
              "color": "#EBF0F8"
             },
             "line": {
              "color": "white"
             }
            },
            "header": {
             "fill": {
              "color": "#C8D4E3"
             },
             "line": {
              "color": "white"
             }
            },
            "type": "table"
           }
          ]
         },
         "layout": {
          "annotationdefaults": {
           "arrowcolor": "#2a3f5f",
           "arrowhead": 0,
           "arrowwidth": 1
          },
          "autotypenumbers": "strict",
          "coloraxis": {
           "colorbar": {
            "outlinewidth": 0,
            "ticks": ""
           }
          },
          "colorscale": {
           "diverging": [
            [
             0,
             "#8e0152"
            ],
            [
             0.1,
             "#c51b7d"
            ],
            [
             0.2,
             "#de77ae"
            ],
            [
             0.3,
             "#f1b6da"
            ],
            [
             0.4,
             "#fde0ef"
            ],
            [
             0.5,
             "#f7f7f7"
            ],
            [
             0.6,
             "#e6f5d0"
            ],
            [
             0.7,
             "#b8e186"
            ],
            [
             0.8,
             "#7fbc41"
            ],
            [
             0.9,
             "#4d9221"
            ],
            [
             1,
             "#276419"
            ]
           ],
           "sequential": [
            [
             0,
             "#0d0887"
            ],
            [
             0.1111111111111111,
             "#46039f"
            ],
            [
             0.2222222222222222,
             "#7201a8"
            ],
            [
             0.3333333333333333,
             "#9c179e"
            ],
            [
             0.4444444444444444,
             "#bd3786"
            ],
            [
             0.5555555555555556,
             "#d8576b"
            ],
            [
             0.6666666666666666,
             "#ed7953"
            ],
            [
             0.7777777777777778,
             "#fb9f3a"
            ],
            [
             0.8888888888888888,
             "#fdca26"
            ],
            [
             1,
             "#f0f921"
            ]
           ],
           "sequentialminus": [
            [
             0,
             "#0d0887"
            ],
            [
             0.1111111111111111,
             "#46039f"
            ],
            [
             0.2222222222222222,
             "#7201a8"
            ],
            [
             0.3333333333333333,
             "#9c179e"
            ],
            [
             0.4444444444444444,
             "#bd3786"
            ],
            [
             0.5555555555555556,
             "#d8576b"
            ],
            [
             0.6666666666666666,
             "#ed7953"
            ],
            [
             0.7777777777777778,
             "#fb9f3a"
            ],
            [
             0.8888888888888888,
             "#fdca26"
            ],
            [
             1,
             "#f0f921"
            ]
           ]
          },
          "colorway": [
           "#636efa",
           "#EF553B",
           "#00cc96",
           "#ab63fa",
           "#FFA15A",
           "#19d3f3",
           "#FF6692",
           "#B6E880",
           "#FF97FF",
           "#FECB52"
          ],
          "font": {
           "color": "#2a3f5f"
          },
          "geo": {
           "bgcolor": "white",
           "lakecolor": "white",
           "landcolor": "#E5ECF6",
           "showlakes": true,
           "showland": true,
           "subunitcolor": "white"
          },
          "hoverlabel": {
           "align": "left"
          },
          "hovermode": "closest",
          "mapbox": {
           "style": "light"
          },
          "paper_bgcolor": "white",
          "plot_bgcolor": "#E5ECF6",
          "polar": {
           "angularaxis": {
            "gridcolor": "white",
            "linecolor": "white",
            "ticks": ""
           },
           "bgcolor": "#E5ECF6",
           "radialaxis": {
            "gridcolor": "white",
            "linecolor": "white",
            "ticks": ""
           }
          },
          "scene": {
           "xaxis": {
            "backgroundcolor": "#E5ECF6",
            "gridcolor": "white",
            "gridwidth": 2,
            "linecolor": "white",
            "showbackground": true,
            "ticks": "",
            "zerolinecolor": "white"
           },
           "yaxis": {
            "backgroundcolor": "#E5ECF6",
            "gridcolor": "white",
            "gridwidth": 2,
            "linecolor": "white",
            "showbackground": true,
            "ticks": "",
            "zerolinecolor": "white"
           },
           "zaxis": {
            "backgroundcolor": "#E5ECF6",
            "gridcolor": "white",
            "gridwidth": 2,
            "linecolor": "white",
            "showbackground": true,
            "ticks": "",
            "zerolinecolor": "white"
           }
          },
          "shapedefaults": {
           "line": {
            "color": "#2a3f5f"
           }
          },
          "ternary": {
           "aaxis": {
            "gridcolor": "white",
            "linecolor": "white",
            "ticks": ""
           },
           "baxis": {
            "gridcolor": "white",
            "linecolor": "white",
            "ticks": ""
           },
           "bgcolor": "#E5ECF6",
           "caxis": {
            "gridcolor": "white",
            "linecolor": "white",
            "ticks": ""
           }
          },
          "title": {
           "x": 0.05
          },
          "xaxis": {
           "automargin": true,
           "gridcolor": "white",
           "linecolor": "white",
           "ticks": "",
           "title": {
            "standoff": 15
           },
           "zerolinecolor": "white",
           "zerolinewidth": 2
          },
          "yaxis": {
           "automargin": true,
           "gridcolor": "white",
           "linecolor": "white",
           "ticks": "",
           "title": {
            "standoff": 15
           },
           "zerolinecolor": "white",
           "zerolinewidth": 2
          }
         }
        },
        "title": {
         "text": "Hotels by rating and by city",
         "x": 0.5
        },
        "updatemenus": [
         {
          "buttons": [
           {
            "args": [
             null,
             {
              "frame": {
               "duration": 500,
               "redraw": true
              },
              "fromcurrent": true,
              "mode": "immediate",
              "transition": {
               "duration": 500,
               "easing": "linear"
              }
             }
            ],
            "label": "&#9654;",
            "method": "animate"
           },
           {
            "args": [
             [
              null
             ],
             {
              "frame": {
               "duration": 0,
               "redraw": true
              },
              "fromcurrent": true,
              "mode": "immediate",
              "transition": {
               "duration": 0,
               "easing": "linear"
              }
             }
            ],
            "label": "&#9724;",
            "method": "animate"
           }
          ],
          "direction": "left",
          "pad": {
           "r": 10,
           "t": 70
          },
          "showactive": false,
          "type": "buttons",
          "x": 0.1,
          "xanchor": "right",
          "y": 0,
          "yanchor": "top"
         }
        ],
        "width": 800
       }
      }
     },
     "metadata": {},
     "output_type": "display_data"
    }
   ],
   "source": [
    "# Show all hotels per city\n",
    "fig_frame = px.scatter_mapbox(\n",
    "    df_final, \n",
    "    lat=\"hotel_lat\", \n",
    "    lon=\"hotel_lon\", \n",
    "    color=\"note\", \n",
    "    size=\"note\",  # Utilisez la colonne \"note\" pour définir la taille des bulles\n",
    "    color_continuous_scale=\"oryel\", \n",
    "    zoom=5,\n",
    "    mapbox_style=\"carto-positron\",\n",
    "    animation_frame = 'city',\n",
    "    width=800, \n",
    "    height=800\n",
    ")\n",
    "\n",
    "fig_frame.update_layout(\n",
    "    title=\"Hotels by rating and by city\", \n",
    "    title_x=0.5\n",
    "    )\n",
    "\n",
    "fig_frame.show()"
   ]
  },
  {
   "cell_type": "markdown",
   "metadata": {},
   "source": [
    "## Store the data in a S3 bucket"
   ]
  },
  {
   "cell_type": "code",
   "execution_count": 2,
   "metadata": {},
   "outputs": [
    {
     "name": "stdout",
     "output_type": "stream",
     "text": [
      "Requirement already satisfied: Boto3 in s:\\logiciels\\anaconda3\\lib\\site-packages (1.34.38)\n",
      "Requirement already satisfied: botocore<1.35.0,>=1.34.38 in s:\\logiciels\\anaconda3\\lib\\site-packages (from Boto3) (1.34.103)\n",
      "Requirement already satisfied: jmespath<2.0.0,>=0.7.1 in s:\\logiciels\\anaconda3\\lib\\site-packages (from Boto3) (0.10.0)\n",
      "Requirement already satisfied: s3transfer<0.11.0,>=0.10.0 in s:\\logiciels\\anaconda3\\lib\\site-packages (from Boto3) (0.10.0)\n",
      "Requirement already satisfied: python-dateutil<3.0.0,>=2.1 in s:\\logiciels\\anaconda3\\lib\\site-packages (from botocore<1.35.0,>=1.34.38->Boto3) (2.8.2)\n",
      "Requirement already satisfied: urllib3!=2.2.0,<3,>=1.25.4 in s:\\logiciels\\anaconda3\\lib\\site-packages (from botocore<1.35.0,>=1.34.38->Boto3) (1.26.16)\n",
      "Requirement already satisfied: six>=1.5 in s:\\logiciels\\anaconda3\\lib\\site-packages (from python-dateutil<3.0.0,>=2.1->botocore<1.35.0,>=1.34.38->Boto3) (1.16.0)\n"
     ]
    }
   ],
   "source": [
    "# Start installing `boto3` to communicate with the Amazon Data Lake service: S3\n",
    "!pip install Boto3\n",
    "import boto3"
   ]
  },
  {
   "cell_type": "code",
   "execution_count": 3,
   "metadata": {},
   "outputs": [],
   "source": [
    "# Create an instance of boto3.session that connect with the AWS account\n",
    "session = boto3.Session(profile_name='')\n",
    "s3 = session.resource(\"s3\")\n",
    "\n",
    "# Create a bucket to store the file\n",
    "bucket = s3.create_bucket(Bucket=\"kayak-jedha-project\", CreateBucketConfiguration={'LocationConstraint': 'eu-west-3'})"
   ]
  },
  {
   "cell_type": "code",
   "execution_count": 32,
   "metadata": {},
   "outputs": [],
   "source": [
    "# Save the final dataframe\n",
    "csv = df_final.to_csv(encoding='utf-8', index=False)\n",
    "\n",
    "# # Upload the file to the s3\n",
    "put_object = bucket.put_object(Key=\"df_booking.csv\", Body=csv)"
   ]
  },
  {
   "cell_type": "markdown",
   "metadata": {},
   "source": [
    "# SQL database with AWS RDS"
   ]
  },
  {
   "cell_type": "code",
   "execution_count": 33,
   "metadata": {},
   "outputs": [
    {
     "name": "stdout",
     "output_type": "stream",
     "text": [
      "Requirement already satisfied: psycopg2-binary in s:\\logiciels\\anaconda3\\lib\\site-packages (2.9.9)\n",
      "Requirement already satisfied: sqlalchemy==2.0.0 in s:\\logiciels\\anaconda3\\lib\\site-packages (2.0.0)\n",
      "Requirement already satisfied: typing-extensions>=4.2.0 in s:\\logiciels\\anaconda3\\lib\\site-packages (from sqlalchemy==2.0.0) (4.11.0)\n",
      "Requirement already satisfied: greenlet!=0.4.17 in s:\\logiciels\\anaconda3\\lib\\site-packages (from sqlalchemy==2.0.0) (2.0.1)\n"
     ]
    }
   ],
   "source": [
    "# Libraries to install to access the remote database from this notebook\n",
    "!pip install psycopg2-binary \n",
    "!pip install sqlalchemy==2.0.0\n",
    "\n",
    "# Import sqlalchemy\n",
    "from sqlalchemy import create_engine, text, Column, Integer, String, Float"
   ]
  },
  {
   "cell_type": "code",
   "execution_count": 34,
   "metadata": {},
   "outputs": [],
   "source": [
    "# Create engine will create a connection between the DB and python\n",
    "DBHOST = \"db-booking-jedha.cde82umo663z.eu-west-3.rds.amazonaws.com\"\n",
    "DBUSER = \"\"\n",
    "DBPASS = \"\"\n",
    "DBNAME = \"\"\n",
    "PORT = \"\"\n",
    "\n",
    "URI = f\"postgresql+psycopg2://{DBUSER}:{DBPASS}@{DBHOST}/{DBNAME}\"\n",
    "engine = create_engine(URI, echo=True)"
   ]
  },
  {
   "cell_type": "code",
   "execution_count": 35,
   "metadata": {},
   "outputs": [],
   "source": [
    "# Extract data from S3\n",
    "s3.Bucket(\"kayak-jedha-project\").download_file(\"df_booking.csv\", \"data/df_s3.csv\")"
   ]
  },
  {
   "cell_type": "code",
   "execution_count": 37,
   "metadata": {},
   "outputs": [
    {
     "name": "stdout",
     "output_type": "stream",
     "text": [
      "2024-05-13 15:12:06,308 INFO sqlalchemy.engine.Engine BEGIN (implicit)\n",
      "2024-05-13 15:12:06,311 INFO sqlalchemy.engine.Engine SELECT pg_catalog.pg_class.relname \n",
      "FROM pg_catalog.pg_class JOIN pg_catalog.pg_namespace ON pg_catalog.pg_namespace.oid = pg_catalog.pg_class.relnamespace \n",
      "WHERE pg_catalog.pg_class.relname = %(table_name)s AND pg_catalog.pg_class.relkind = ANY (ARRAY[%(param_1)s, %(param_2)s, %(param_3)s, %(param_4)s, %(param_5)s]) AND pg_catalog.pg_table_is_visible(pg_catalog.pg_class.oid) AND pg_catalog.pg_namespace.nspname != %(nspname_1)s\n",
      "2024-05-13 15:12:06,312 INFO sqlalchemy.engine.Engine [cached since 78.17s ago] {'table_name': 'booking_kayak', 'param_1': 'r', 'param_2': 'p', 'param_3': 'f', 'param_4': 'v', 'param_5': 'm', 'nspname_1': 'pg_catalog'}\n",
      "2024-05-13 15:12:06,326 INFO sqlalchemy.engine.Engine \n",
      "CREATE TABLE booking_kayak (\n",
      "\tindex BIGINT, \n",
      "\tname TEXT, \n",
      "\tnote FLOAT(53), \n",
      "\tpresentation_text TEXT, \n",
      "\turl TEXT, \n",
      "\tcity_id BIGINT, \n",
      "\thotel_lat FLOAT(53), \n",
      "\thotel_lon FLOAT(53), \n",
      "\tcity TEXT, \n",
      "\tcity_lat FLOAT(53), \n",
      "\tcity_lon FLOAT(53), \n",
      "\train_probability FLOAT(53), \n",
      "\ttemperature FLOAT(53)\n",
      ")\n",
      "\n",
      "\n",
      "2024-05-13 15:12:06,327 INFO sqlalchemy.engine.Engine [no key 0.00064s] {}\n",
      "2024-05-13 15:12:06,341 INFO sqlalchemy.engine.Engine CREATE INDEX ix_booking_kayak_index ON booking_kayak (index)\n",
      "2024-05-13 15:12:06,342 INFO sqlalchemy.engine.Engine [no key 0.00061s] {}\n",
      "2024-05-13 15:12:06,356 INFO sqlalchemy.engine.Engine INSERT INTO booking_kayak (index, name, note, presentation_text, url, city_id, hotel_lat, hotel_lon, city, city_lat, city_lon, rain_probability, temperature) VALUES (%(index__0)s, %(name__0)s, %(note__0)s, %(presentation_text__0)s, %(url__0)s, %(city ... 29133 characters truncated ... (city__122)s, %(city_lat__122)s, %(city_lon__122)s, %(rain_probability__122)s, %(temperature__122)s)\n",
      "2024-05-13 15:12:06,357 INFO sqlalchemy.engine.Engine [generated in 0.00089s (insertmanyvalues) 1/1 (unordered)] {'note__0': 8.7, 'city_lat__0': 43.9492493, 'temperature__0': 20.536250000000003, 'city_id__0': 22, 'name__0': 'Au cœur des Papes, dans bâtisse de charme studios & appartements en cœur de ville', 'city_lon__0': 4.8059012, 'rain_probability__0': 0.9, 'hotel_lon__0': 4.8101887, 'presentation_text__0': 'Au cœur des Papes, dans bâtisse de charme studios & appartements en cœur de ville provides accommodation within 200 metres of the centre of Avignon,  ... (750 characters truncated) ... m away. The nearest airport is Avignon-Provence Airport, 9 km from Au cœur des Papes, dans bâtisse de charme studios & appartements en cœur de ville.', 'hotel_lat__0': 43.9461706, 'url__0': 'https://www.booking.com/hotel/fr/au-coeur-des-papes.en-gb.html?aid=304142&label=gen173nr-1FCAEoggI46AdIM1gEaE2IAQGYAQm4AQ7IAQzYAQHoAQH4AQOIAgGoAgO4Au ... (136 characters truncated) ... dren=0&req_children=0&hpos=1&hapos=1&sr_order=popularity&srpvid=0e595c38e8a20039&srepoch=1715605618&from_sustainable_property_sr=1&from=searchresults', 'city__0': 'Avignon', 'index__0': 0, 'note__1': 9.3, 'city_lat__1': 43.9492493, 'temperature__1': 20.536250000000003, 'city_id__1': 22, 'name__1': 'La Banasterie', 'city_lon__1': 4.8059012, 'rain_probability__1': 0.9, 'hotel_lon__1': 4.80851546, 'presentation_text__1': 'La Banasterie is the oldest B&B in Avignon, dating back to the year 1521 and it is located in the heart of the city just 50 metres from the Palais de ... (601 characters truncated) ... &B. Free Wi-Fi access is available throughout and Avignon Airport is ideally located 15 km away. Public parking is available nearby at an extra cost.', 'hotel_lat__1': 43.94986998, 'url__1': 'https://www.booking.com/hotel/fr/la-banasterie.en-gb.html?aid=304142&label=gen173nr-1FCAEoggI46AdIM1gEaE2IAQGYAQm4AQ7IAQzYAQHoAQH4AQOIAgGoAgO4AuegiLI ... (133 characters truncated) ... en=0&req_children=0&hpos=25&hapos=25&sr_order=popularity&srpvid=0e595c38e8a20039&srepoch=1715605618&from_sustainable_property_sr=1&from=searchresults', 'city__1': 'Avignon', 'index__1': 1, 'note__2': 7.9, 'city_lat__2': 43.9492493, 'temperature__2': 20.536250000000003, 'city_id__2': 22, 'name__2': 'Au Saint Roch - Hôtel et Jardin', 'city_lon__2': 4.8059012, 'rain_probability__2': 0.9, 'hotel_lon__2': 4.79804277, 'presentation_text__2': \"Offering a sun terrace and a courtyard garden with a fountain, Au Saint Roch - Hôtel et Jardin is located in Avignon in the Provence-Alpes-Côte d'Azu ... (584 characters truncated) ... 'Avignon is 3.3 km from Au Saint Roch - Hôtel et Jardin. The nearest airport is Avignon-Provence Airport, 10 km from Au Saint Roch - Hôtel et Jardin.\", 'hotel_lat__2': 43.94290138, 'url__2': 'https://www.booking.com/hotel/fr/au-saint-roch-et-jardin.en-gb.html?aid=304142&label=gen173nr-1FCAEoggI46AdIM1gEaE2IAQGYAQm4AQ7IAQzYAQHoAQH4AQOIAgGoA ... (143 characters truncated) ... en=0&req_children=0&hpos=24&hapos=24&sr_order=popularity&srpvid=0e595c38e8a20039&srepoch=1715605618&from_sustainable_property_sr=1&from=searchresults', 'city__2': 'Avignon', 'index__2': 2, 'note__3': 8.6, 'city_lat__3': 43.9492493, 'temperature__3': 20.536250000000003, 'city_id__3': 22, 'name__3': 'Studio Avignon place des corps saints', 'city_lon__3': 4.8059012, 'rain_probability__3': 0.9, 'hotel_lon__3': 4.8081971, 'presentation_text__3': 'In the heart of Avignon, Studio Avignon place des corps saints features city views from the terrace. This apartment provides air-conditioned accommod ... (391 characters truncated) ... nt, while Avignon TGV Train Station is 5.4 km away. The nearest airport is Avignon-Provence Airport, 9 km from Studio Avignon place des corps saints.', 'hotel_lat__3': 43.9440938, 'url__3': 'https://www.booking.com/hotel/fr/studio-avignon-place-des-corps-saints.en-gb.html?aid=304142&label=gen173nr-1FCAEoggI46AdIM1gEaE2IAQGYAQm4AQ7IAQzYAQH ... (126 characters truncated) ... dults=2&no_rooms=1&group_children=0&req_children=0&hpos=23&hapos=23&sr_order=popularity&srpvid=0e595c38e8a20039&srepoch=1715605618&from=searchresults' ... 1499 parameters truncated ... 'temperature__119': 18.08625, 'city_id__119': 18, 'name__119': 'Bormes-les-mimosas, studio entre mer et collines', 'city_lon__119': 6.3419285, 'rain_probability__119': 0.5, 'hotel_lon__119': 6.34037177, 'presentation_text__119': 'Bormes-les-mimosas, studio entre mer et collines is set in Bormes-les-Mimosas, 38 km from Toulon Train Station, 38 km from Zénith Oméga Toulon, as we ... (576 characters truncated) ... t, while Penitents Chapel is 31 km away. The nearest airport is Toulon - Hyeres Airport, 20 km from Bormes-les-mimosas, studio entre mer et collines.', 'hotel_lat__119': 43.14243053, 'url__119': 'https://www.booking.com/hotel/fr/bormes-les-mimosas-studio-entre-mer-et-collines.en-gb.html?aid=304142&label=gen173nr-1FCAEoggI46AdIM1gEaE2IAQGYAQm4A ... (165 characters truncated) ... dren=0&req_children=0&hpos=4&hapos=4&sr_order=popularity&srpvid=d5bb5c3b55f201f6&srepoch=1715605625&from_sustainable_property_sr=1&from=searchresults', 'city__119': 'Bormes-les-Mimosas', 'index__119': 119, 'note__120': 9.1, 'city_lat__120': 43.1506968, 'temperature__120': 18.08625, 'city_id__120': 18, 'name__120': 'Bormes - Le Loft', 'city_lon__120': 6.3419285, 'rain_probability__120': 0.5, 'hotel_lon__120': 6.3406583, 'presentation_text__120': 'Offering city views, Bormes - Le Loft is an accommodation set in Bormes-les-Mimosas, 39 km from Toulon Train Station and 39 km from Zénith Oméga Toul ... (461 characters truncated) ... .7 km from the apartment, while Villa Noailles Art Centre is 22 km away. The nearest airport is Toulon - Hyeres Airport, 21 km from Bormes - Le Loft.', 'hotel_lat__120': 43.1507533, 'url__120': 'https://www.booking.com/hotel/fr/bormes-le-loft.en-gb.html?aid=304142&label=gen173nr-1FCAEoggI46AdIM1gEaE2IAQGYAQm4AQ7IAQzYAQHoAQH4AQOIAgGoAgO4AuegiL ... (132 characters truncated) ... dren=0&req_children=0&hpos=2&hapos=2&sr_order=popularity&srpvid=d5bb5c3b55f201f6&srepoch=1715605625&from_sustainable_property_sr=1&from=searchresults', 'city__120': 'Bormes-les-Mimosas', 'index__120': 120, 'note__121': 7.5, 'city_lat__121': 43.1506968, 'temperature__121': 18.08625, 'city_id__121': 18, 'name__121': 'Hotel Restaurant Bellevue', 'city_lon__121': 6.3419285, 'rain_probability__121': 0.5, 'hotel_lon__121': 6.34313598, 'presentation_text__121': 'Located in downtown Bormes-les-Mimosas, Hotel Restaurant Bellevue features a restaurant serving fresh and local products, a bar and a sitting area in ... (455 characters truncated) ... rant Bellevue is 200 metres from Dom Forest, 4 km from the beach and 35 km from Saint-Tropez. Toulon Airport and Hyères Train Station are 22 km away.', 'hotel_lat__121': 43.15187759, 'url__121': 'https://www.booking.com/hotel/fr/restaurant-bellevue.en-gb.html?aid=304142&label=gen173nr-1FCAEoggI46AdIM1gEaE2IAQGYAQm4AQ7IAQzYAQHoAQH4AQOIAgGoAgO4A ... (106 characters truncated) ... _adults=2&no_rooms=1&group_children=0&req_children=0&hpos=3&hapos=3&sr_order=popularity&srpvid=d5bb5c3b55f201f6&srepoch=1715605625&from=searchresults', 'city__121': 'Bormes-les-Mimosas', 'index__121': 121, 'note__122': 8.4, 'city_lat__122': 43.1506968, 'temperature__122': 18.08625, 'city_id__122': 18, 'name__122': 'Bord de Mer et Sérénité Bormes-les-Mimosas', 'city_lon__122': 6.3419285, 'rain_probability__122': 0.5, 'hotel_lon__122': 6.35479908, 'presentation_text__122': \"Bord de Mer et Sérénité Bormes-les-Mimosas features a terrace and is located in Bormes-les-Mimosas, within just 1.1 km of Plage de l'Anglade and 1.1  ... (514 characters truncated) ... ent, while Toulon Train Station is 41 km away. The nearest airport is Toulon - Hyeres Airport, 23 km from Bord de Mer et Sérénité Bormes-les-Mimosas.\", 'hotel_lat__122': 43.12276638, 'url__122': 'https://www.booking.com/hotel/fr/charmant-t2-a-500m-des-plages.en-gb.html?aid=304142&label=gen173nr-1FCAEoggI46AdIM1gEaE2IAQGYAQm4AQ7IAQzYAQHoAQH4AQO ... (116 characters truncated) ... _adults=2&no_rooms=1&group_children=0&req_children=0&hpos=1&hapos=1&sr_order=popularity&srpvid=d5bb5c3b55f201f6&srepoch=1715605625&from=searchresults', 'city__122': 'Bormes-les-Mimosas', 'index__122': 122}\n",
      "2024-05-13 15:12:06,413 INFO sqlalchemy.engine.Engine COMMIT\n"
     ]
    },
    {
     "data": {
      "text/plain": [
       "123"
      ]
     },
     "execution_count": 37,
     "metadata": {},
     "output_type": "execute_result"
    }
   ],
   "source": [
    "# Import S3 csv with pandas\n",
    "df_s3 = pd.read_csv('data/df_s3.csv', encoding='utf-8')\n",
    "\n",
    "# Store data in the RDS database\n",
    "df_s3.to_sql('booking_kayak', engine)"
   ]
  },
  {
   "cell_type": "code",
   "execution_count": 39,
   "metadata": {},
   "outputs": [
    {
     "name": "stdout",
     "output_type": "stream",
     "text": [
      "2024-05-13 15:22:41,979 INFO sqlalchemy.engine.Engine BEGIN (implicit)\n",
      "2024-05-13 15:22:41,980 INFO sqlalchemy.engine.Engine SELECT pg_catalog.pg_class.relname \n",
      "FROM pg_catalog.pg_class JOIN pg_catalog.pg_namespace ON pg_catalog.pg_namespace.oid = pg_catalog.pg_class.relnamespace \n",
      "WHERE pg_catalog.pg_class.relname = %(table_name)s AND pg_catalog.pg_class.relkind = ANY (ARRAY[%(param_1)s, %(param_2)s, %(param_3)s, %(param_4)s, %(param_5)s]) AND pg_catalog.pg_table_is_visible(pg_catalog.pg_class.oid) AND pg_catalog.pg_namespace.nspname != %(nspname_1)s\n",
      "2024-05-13 15:22:41,980 INFO sqlalchemy.engine.Engine [cached since 713.8s ago] {'table_name': <sqlalchemy.sql.elements.TextClause object at 0x0000029EB00D4610>, 'param_1': 'r', 'param_2': 'p', 'param_3': 'f', 'param_4': 'v', 'param_5': 'm', 'nspname_1': 'pg_catalog'}\n",
      "2024-05-13 15:22:41,981 INFO sqlalchemy.engine.Engine SELECT DISTINCT city FROM booking_kayak\n",
      "2024-05-13 15:22:41,982 INFO sqlalchemy.engine.Engine [cached since 625.2s ago] {}\n",
      "2024-05-13 15:22:41,995 INFO sqlalchemy.engine.Engine ROLLBACK\n"
     ]
    },
    {
     "data": {
      "text/html": [
       "<div>\n",
       "<style scoped>\n",
       "    .dataframe tbody tr th:only-of-type {\n",
       "        vertical-align: middle;\n",
       "    }\n",
       "\n",
       "    .dataframe tbody tr th {\n",
       "        vertical-align: top;\n",
       "    }\n",
       "\n",
       "    .dataframe thead th {\n",
       "        text-align: right;\n",
       "    }\n",
       "</style>\n",
       "<table border=\"1\" class=\"dataframe\">\n",
       "  <thead>\n",
       "    <tr style=\"text-align: right;\">\n",
       "      <th></th>\n",
       "      <th>city</th>\n",
       "    </tr>\n",
       "  </thead>\n",
       "  <tbody>\n",
       "    <tr>\n",
       "      <th>0</th>\n",
       "      <td>Uzès</td>\n",
       "    </tr>\n",
       "    <tr>\n",
       "      <th>1</th>\n",
       "      <td>Collioure</td>\n",
       "    </tr>\n",
       "    <tr>\n",
       "      <th>2</th>\n",
       "      <td>Bormes-les-Mimosas</td>\n",
       "    </tr>\n",
       "    <tr>\n",
       "      <th>3</th>\n",
       "      <td>Cassis</td>\n",
       "    </tr>\n",
       "    <tr>\n",
       "      <th>4</th>\n",
       "      <td>Avignon</td>\n",
       "    </tr>\n",
       "  </tbody>\n",
       "</table>\n",
       "</div>"
      ],
      "text/plain": [
       "                 city\n",
       "0                Uzès\n",
       "1           Collioure\n",
       "2  Bormes-les-Mimosas\n",
       "3              Cassis\n",
       "4             Avignon"
      ]
     },
     "execution_count": 39,
     "metadata": {},
     "output_type": "execute_result"
    }
   ],
   "source": [
    "# Make a SQL request\n",
    "stmt = text(\"SELECT DISTINCT city FROM booking_kayak\")\n",
    "\n",
    "df_sql = pd.read_sql(stmt, engine)\n",
    "df_sql"
   ]
  }
 ],
 "metadata": {
  "kernelspec": {
   "display_name": "base",
   "language": "python",
   "name": "python3"
  },
  "language_info": {
   "codemirror_mode": {
    "name": "ipython",
    "version": 3
   },
   "file_extension": ".py",
   "mimetype": "text/x-python",
   "name": "python",
   "nbconvert_exporter": "python",
   "pygments_lexer": "ipython3",
   "version": "3.11.5"
  }
 },
 "nbformat": 4,
 "nbformat_minor": 2
}
